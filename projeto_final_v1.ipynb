{
  "nbformat": 4,
  "nbformat_minor": 0,
  "metadata": {
    "colab": {
      "provenance": [],
      "include_colab_link": true
    },
    "kernelspec": {
      "name": "python3",
      "display_name": "Python 3"
    },
    "language_info": {
      "name": "python"
    }
  },
  "cells": [
    {
      "cell_type": "markdown",
      "metadata": {
        "id": "view-in-github",
        "colab_type": "text"
      },
      "source": [
        "<a href=\"https://colab.research.google.com/github/julianavmgiusti/tcc_soulcode/blob/tcc_soulcode/projeto_final_v1.ipynb\" target=\"_parent\"><img src=\"https://colab.research.google.com/assets/colab-badge.svg\" alt=\"Open In Colab\"/></a>"
      ]
    },
    {
      "cell_type": "markdown",
      "source": [
        "# **Projeto Final - SoulCode AD1**"
      ],
      "metadata": {
        "id": "ggZW0FcrO6tx"
      }
    },
    {
      "cell_type": "markdown",
      "source": [
        "##Sobre os DataSets\n",
        "\n",
        "---"
      ],
      "metadata": {
        "id": "SS77A8sgTDee"
      }
    },
    {
      "cell_type": "markdown",
      "source": [
        "**Contexto**\n",
        "\n",
        "*Nesse documento vamos estar fazendo o ETL dos datasets utilizados no projeto final do Grupo 2 do BootCamp de Analise de Dados da SoulCode. O assunto escolhido foi Mercado do café no Brasil e suas ramificações.*\n",
        "\n",
        "**Informações sobre os atributos**\n",
        "\n",
        "*Teremos diversos datasets sendo tratados nesse documento, cada qual terá seus atributos devidamente descritos no momento do tratamento.*\n",
        "\n",
        "**Armazenamento dos DataSets:** *Todos os DataSets aqui tratados estaram em um bucket do Google Cloud Services*"
      ],
      "metadata": {
        "id": "gUFZ-EeeQf4V"
      }
    },
    {
      "cell_type": "markdown",
      "source": [
        "##About the Analisys\n",
        "\n",
        "---"
      ],
      "metadata": {
        "id": "jpxbZTXcTnwe"
      }
    },
    {
      "cell_type": "markdown",
      "source": [
        "**Contexto**\n",
        "  \n",
        "**\n"
      ],
      "metadata": {
        "id": "kftmxAUHT4ut"
      }
    },
    {
      "cell_type": "markdown",
      "source": [
        "##Tech Requirements\n",
        "\n",
        "---"
      ],
      "metadata": {
        "id": "foXb2cdRbxE5"
      }
    },
    {
      "cell_type": "markdown",
      "source": [
        "Installing the Requirements\n",
        "\n",
        "---"
      ],
      "metadata": {
        "id": "dvVxtfIwV3m8"
      }
    },
    {
      "cell_type": "code",
      "source": [
        "pip install pandera #Pandera, for data-validation"
      ],
      "metadata": {
        "id": "6uxQaXG0WePs"
      },
      "execution_count": null,
      "outputs": []
    },
    {
      "cell_type": "code",
      "source": [
        "pip install gcsfs #Google Cloud Storage File System"
      ],
      "metadata": {
        "id": "fkIjAsMBV0uc",
        "colab": {
          "base_uri": "https://localhost:8080/"
        },
        "outputId": "abb09360-981d-4450-e758-1e956364ae2b"
      },
      "execution_count": null,
      "outputs": [
        {
          "output_type": "stream",
          "name": "stdout",
          "text": [
            "Looking in indexes: https://pypi.org/simple, https://us-python.pkg.dev/colab-wheels/public/simple/\n",
            "Requirement already satisfied: gcsfs in /usr/local/lib/python3.10/dist-packages (2023.5.0)\n",
            "Requirement already satisfied: aiohttp!=4.0.0a0,!=4.0.0a1 in /usr/local/lib/python3.10/dist-packages (from gcsfs) (3.8.4)\n",
            "Requirement already satisfied: decorator>4.1.2 in /usr/local/lib/python3.10/dist-packages (from gcsfs) (4.4.2)\n",
            "Requirement already satisfied: fsspec==2023.5.0 in /usr/local/lib/python3.10/dist-packages (from gcsfs) (2023.5.0)\n",
            "Requirement already satisfied: google-auth>=1.2 in /usr/local/lib/python3.10/dist-packages (from gcsfs) (2.17.3)\n",
            "Requirement already satisfied: google-auth-oauthlib in /usr/local/lib/python3.10/dist-packages (from gcsfs) (1.0.0)\n",
            "Requirement already satisfied: google-cloud-storage in /usr/local/lib/python3.10/dist-packages (from gcsfs) (2.8.0)\n",
            "Requirement already satisfied: requests in /usr/local/lib/python3.10/dist-packages (from gcsfs) (2.27.1)\n",
            "Requirement already satisfied: attrs>=17.3.0 in /usr/local/lib/python3.10/dist-packages (from aiohttp!=4.0.0a0,!=4.0.0a1->gcsfs) (23.1.0)\n",
            "Requirement already satisfied: charset-normalizer<4.0,>=2.0 in /usr/local/lib/python3.10/dist-packages (from aiohttp!=4.0.0a0,!=4.0.0a1->gcsfs) (2.0.12)\n",
            "Requirement already satisfied: multidict<7.0,>=4.5 in /usr/local/lib/python3.10/dist-packages (from aiohttp!=4.0.0a0,!=4.0.0a1->gcsfs) (6.0.4)\n",
            "Requirement already satisfied: async-timeout<5.0,>=4.0.0a3 in /usr/local/lib/python3.10/dist-packages (from aiohttp!=4.0.0a0,!=4.0.0a1->gcsfs) (4.0.2)\n",
            "Requirement already satisfied: yarl<2.0,>=1.0 in /usr/local/lib/python3.10/dist-packages (from aiohttp!=4.0.0a0,!=4.0.0a1->gcsfs) (1.9.2)\n",
            "Requirement already satisfied: frozenlist>=1.1.1 in /usr/local/lib/python3.10/dist-packages (from aiohttp!=4.0.0a0,!=4.0.0a1->gcsfs) (1.3.3)\n",
            "Requirement already satisfied: aiosignal>=1.1.2 in /usr/local/lib/python3.10/dist-packages (from aiohttp!=4.0.0a0,!=4.0.0a1->gcsfs) (1.3.1)\n",
            "Requirement already satisfied: cachetools<6.0,>=2.0.0 in /usr/local/lib/python3.10/dist-packages (from google-auth>=1.2->gcsfs) (5.3.0)\n",
            "Requirement already satisfied: pyasn1-modules>=0.2.1 in /usr/local/lib/python3.10/dist-packages (from google-auth>=1.2->gcsfs) (0.3.0)\n",
            "Requirement already satisfied: six>=1.9.0 in /usr/local/lib/python3.10/dist-packages (from google-auth>=1.2->gcsfs) (1.16.0)\n",
            "Requirement already satisfied: rsa<5,>=3.1.4 in /usr/local/lib/python3.10/dist-packages (from google-auth>=1.2->gcsfs) (4.9)\n",
            "Requirement already satisfied: requests-oauthlib>=0.7.0 in /usr/local/lib/python3.10/dist-packages (from google-auth-oauthlib->gcsfs) (1.3.1)\n",
            "Requirement already satisfied: google-api-core!=2.0.*,!=2.1.*,!=2.2.*,!=2.3.0,<3.0.0dev,>=1.31.5 in /usr/local/lib/python3.10/dist-packages (from google-cloud-storage->gcsfs) (2.11.0)\n",
            "Requirement already satisfied: google-cloud-core<3.0dev,>=2.3.0 in /usr/local/lib/python3.10/dist-packages (from google-cloud-storage->gcsfs) (2.3.2)\n",
            "Requirement already satisfied: google-resumable-media>=2.3.2 in /usr/local/lib/python3.10/dist-packages (from google-cloud-storage->gcsfs) (2.5.0)\n",
            "Requirement already satisfied: urllib3<1.27,>=1.21.1 in /usr/local/lib/python3.10/dist-packages (from requests->gcsfs) (1.26.15)\n",
            "Requirement already satisfied: certifi>=2017.4.17 in /usr/local/lib/python3.10/dist-packages (from requests->gcsfs) (2022.12.7)\n",
            "Requirement already satisfied: idna<4,>=2.5 in /usr/local/lib/python3.10/dist-packages (from requests->gcsfs) (3.4)\n",
            "Requirement already satisfied: googleapis-common-protos<2.0dev,>=1.56.2 in /usr/local/lib/python3.10/dist-packages (from google-api-core!=2.0.*,!=2.1.*,!=2.2.*,!=2.3.0,<3.0.0dev,>=1.31.5->google-cloud-storage->gcsfs) (1.59.0)\n",
            "Requirement already satisfied: protobuf!=3.20.0,!=3.20.1,!=4.21.0,!=4.21.1,!=4.21.2,!=4.21.3,!=4.21.4,!=4.21.5,<5.0.0dev,>=3.19.5 in /usr/local/lib/python3.10/dist-packages (from google-api-core!=2.0.*,!=2.1.*,!=2.2.*,!=2.3.0,<3.0.0dev,>=1.31.5->google-cloud-storage->gcsfs) (3.20.3)\n",
            "Requirement already satisfied: google-crc32c<2.0dev,>=1.0 in /usr/local/lib/python3.10/dist-packages (from google-resumable-media>=2.3.2->google-cloud-storage->gcsfs) (1.5.0)\n",
            "Requirement already satisfied: pyasn1<0.6.0,>=0.4.6 in /usr/local/lib/python3.10/dist-packages (from pyasn1-modules>=0.2.1->google-auth>=1.2->gcsfs) (0.5.0)\n",
            "Requirement already satisfied: oauthlib>=3.0.0 in /usr/local/lib/python3.10/dist-packages (from requests-oauthlib>=0.7.0->google-auth-oauthlib->gcsfs) (3.2.2)\n"
          ]
        }
      ]
    },
    {
      "cell_type": "code",
      "source": [
        "!pip install pyspark #PySpark for large chunks of Data"
      ],
      "metadata": {
        "id": "rARuIpMbPWU_",
        "colab": {
          "base_uri": "https://localhost:8080/"
        },
        "outputId": "54b937d2-7265-4c1b-cbed-8d90da3c48b2"
      },
      "execution_count": null,
      "outputs": [
        {
          "output_type": "stream",
          "name": "stdout",
          "text": [
            "Looking in indexes: https://pypi.org/simple, https://us-python.pkg.dev/colab-wheels/public/simple/\n",
            "Requirement already satisfied: pyspark in /usr/local/lib/python3.10/dist-packages (3.4.0)\n",
            "Requirement already satisfied: py4j==0.10.9.7 in /usr/local/lib/python3.10/dist-packages (from pyspark) (0.10.9.7)\n"
          ]
        }
      ]
    },
    {
      "cell_type": "code",
      "source": [
        "#pip install --upgrade pandas #Upgrading pandas to 2.X"
      ],
      "metadata": {
        "id": "aCQvq-paWtWF"
      },
      "execution_count": null,
      "outputs": []
    },
    {
      "cell_type": "code",
      "source": [
        "pip install openpyxl"
      ],
      "metadata": {
        "id": "VE6VRl_EKKGl"
      },
      "execution_count": null,
      "outputs": []
    },
    {
      "cell_type": "code",
      "source": [
        "pip install pymongo"
      ],
      "metadata": {
        "id": "8UWJEACwp1hN"
      },
      "execution_count": null,
      "outputs": []
    },
    {
      "cell_type": "markdown",
      "source": [
        "Importing Libraries\n",
        "\n",
        "---\n"
      ],
      "metadata": {
        "id": "40_xQx8AW7SU"
      }
    },
    {
      "cell_type": "code",
      "source": [
        "import pandas as pd\n",
        "import numpy as np\n",
        "#import pandera as pa\n",
        "import matplotlib.pyplot as plt\n",
        "import seaborn as snb\n",
        "from google.cloud import storage\n",
        "import os\n",
        "import warnings                                         #To avoid any warnings\n",
        "warnings.filterwarnings(\"ignore\")\n",
        "#import pymongo\n",
        "#from pymongo import MongoClient"
      ],
      "metadata": {
        "id": "OF2cGtrxXAa2"
      },
      "execution_count": null,
      "outputs": []
    },
    {
      "cell_type": "code",
      "source": [
        "from pyspark.sql import SparkSession\n",
        "import pyspark.sql.functions as F"
      ],
      "metadata": {
        "id": "jXjJfdaoP2L-"
      },
      "execution_count": null,
      "outputs": []
    },
    {
      "cell_type": "code",
      "source": [
        "from openpyxl import Workbook"
      ],
      "metadata": {
        "id": "IX-WsoljKSvj"
      },
      "execution_count": null,
      "outputs": []
    },
    {
      "cell_type": "code",
      "source": [
        "from datetime import datetime"
      ],
      "metadata": {
        "id": "UH_UB4EgZLxO"
      },
      "execution_count": null,
      "outputs": []
    },
    {
      "cell_type": "code",
      "source": [
        "import re"
      ],
      "metadata": {
        "id": "lmlrl9MEl6UN"
      },
      "execution_count": null,
      "outputs": []
    },
    {
      "cell_type": "code",
      "source": [
        "import locale"
      ],
      "metadata": {
        "id": "7_8GFF9Uucii"
      },
      "execution_count": null,
      "outputs": []
    },
    {
      "cell_type": "markdown",
      "source": [
        "Pandas Config\n",
        "\n",
        "---\n"
      ],
      "metadata": {
        "id": "T5hWiDF2bawR"
      }
    },
    {
      "cell_type": "code",
      "source": [
        "pd.set_option('display.max_columns', 100)\n",
        "pd.set_option('display.max_rows', 30)"
      ],
      "metadata": {
        "id": "btMaR6HJcZhJ"
      },
      "execution_count": null,
      "outputs": []
    },
    {
      "cell_type": "markdown",
      "source": [
        "Cloud Storage Config\n",
        "\n",
        "---"
      ],
      "metadata": {
        "id": "YgzGH9BSfpHG"
      }
    },
    {
      "cell_type": "code",
      "source": [
        "serviceAccount = '/content/projeto-final-comercio-2afbd13ce6d4.json' #credential here\n",
        "os.environ['GOOGLE_APPLICATION_CREDENTIALS'] = serviceAccount\n",
        "\n",
        "client_gcloud = storage.Client()\n",
        "bucket = client_gcloud.get_bucket('comercio-cafe') #bucket here"
      ],
      "metadata": {
        "id": "NcnNLbpHcbHC"
      },
      "execution_count": null,
      "outputs": []
    },
    {
      "cell_type": "markdown",
      "source": [
        "**Conexão com MongoDB**\n",
        "\n",
        "\n",
        "---\n",
        "\n"
      ],
      "metadata": {
        "id": "WYw7rWypq2vm"
      }
    },
    {
      "cell_type": "code",
      "source": [
        "uri = \"mongodb+srv://clustersoulcode.zhu5xkm.mongodb.net/?authSource=%24external&authMechanism=MONGODB-X509&retryWrites=true&w=majority\"\n",
        "client = MongoClient(uri,\n",
        "                     tls=True,\n",
        "                     tlsCertificateKeyFile='/content/X509-cert-2285499410270056619.pem',\n",
        "                     )"
      ],
      "metadata": {
        "id": "cHWW4JdgrE7c"
      },
      "execution_count": null,
      "outputs": []
    },
    {
      "cell_type": "code",
      "source": [
        "spark = (SparkSession.builder\n",
        "                     .master('local[2]')\n",
        "                     .appName('coffee_brasil')\n",
        "                     .config('spark.ui.port', '4050')\n",
        "                     .config(\"spark.jars\", 'https://storage.googleapis.com/hadoop-lib/gcs/gcs-connector-hadoop2-latest.jar')\n",
        "                     .getOrCreate()\n",
        ")"
      ],
      "metadata": {
        "id": "fI4jpIdDlc1b"
      },
      "execution_count": null,
      "outputs": []
    },
    {
      "cell_type": "markdown",
      "source": [
        "#Dados do Ministério do Turismo\n",
        "---"
      ],
      "metadata": {
        "id": "8OeIT6ochequ"
      }
    },
    {
      "cell_type": "markdown",
      "source": [
        "EXTRAÇÃO"
      ],
      "metadata": {
        "id": "tkkm3yVqae0I"
      }
    },
    {
      "cell_type": "code",
      "source": [
        "df = pd.read_csv('gs://comercio-cafe/BRUTOS/Ministério do Turismo/restaurante-cafeteria-bar-e-similares (1).csv', sep = ';', encoding='ISO-8859-1')"
      ],
      "metadata": {
        "id": "wTp5y-yOhmoV"
      },
      "execution_count": null,
      "outputs": []
    },
    {
      "cell_type": "markdown",
      "source": [
        "##Pre-Análise\n",
        "---"
      ],
      "metadata": {
        "id": "FxsgKj6Ih1z9"
      }
    },
    {
      "cell_type": "code",
      "source": [
        "df.info()"
      ],
      "metadata": {
        "colab": {
          "base_uri": "https://localhost:8080/"
        },
        "id": "7fwDfqW1Fo8U",
        "outputId": "24a60724-433f-4f69-a026-1a185777f302"
      },
      "execution_count": null,
      "outputs": [
        {
          "output_type": "stream",
          "name": "stdout",
          "text": [
            "<class 'pandas.core.frame.DataFrame'>\n",
            "RangeIndex: 20398 entries, 0 to 20397\n",
            "Data columns (total 22 columns):\n",
            " #   Column                             Non-Null Count  Dtype \n",
            "---  ------                             --------------  ----- \n",
            " 0   Número de Inscrição do CNPJ        20398 non-null  object\n",
            " 1   Nome da Pessoa Jurídica            20398 non-null  object\n",
            " 2   Nome Fantasia                      20398 non-null  object\n",
            " 3   Situação Cadastral                 20398 non-null  object\n",
            " 4   Situação da Atividade              20398 non-null  object\n",
            " 5   Tipo de Estabelecimento            20398 non-null  object\n",
            " 6   Natureza Jurídica                  20398 non-null  object\n",
            " 7   Porte                              20398 non-null  object\n",
            " 8   Endereço Completo Receita Federal  20398 non-null  object\n",
            " 9   UF                                 20398 non-null  object\n",
            " 10  Município                          20398 non-null  object\n",
            " 11  Data de Abertura                   20398 non-null  object\n",
            " 12  CNAE(S) relacionados à atividade   20398 non-null  object\n",
            " 13  Endereço Completo Comercial        20398 non-null  object\n",
            " 14  Telefone Comercial                 20398 non-null  object\n",
            " 15  E-mail Comercial                   20398 non-null  object\n",
            " 16  Website                            20301 non-null  object\n",
            " 17  Número do Certificado              20398 non-null  object\n",
            " 18  Validade do Certificado            20398 non-null  object\n",
            " 19  Tipo                               20398 non-null  object\n",
            " 20  Especialidade                      20398 non-null  object\n",
            " 21  Idiomas                            20398 non-null  object\n",
            "dtypes: object(22)\n",
            "memory usage: 3.4+ MB\n"
          ]
        }
      ]
    },
    {
      "cell_type": "code",
      "source": [
        "df.head()"
      ],
      "metadata": {
        "colab": {
          "base_uri": "https://localhost:8080/",
          "height": 756
        },
        "id": "VZ0Sapa7FC41",
        "outputId": "88ae8a16-e4b4-4839-9640-0adf3db994b0"
      },
      "execution_count": null,
      "outputs": [
        {
          "output_type": "execute_result",
          "data": {
            "text/plain": [
              "  Número de Inscrição do CNPJ  \\\n",
              "0          17.555.508/0001-59   \n",
              "1          10.533.528/0001-80   \n",
              "2          22.443.265/0001-05   \n",
              "3          20.058.922/0001-67   \n",
              "4          15.288.016/0001-19   \n",
              "\n",
              "                             Nome da Pessoa Jurídica  \\\n",
              "0                     ROVERETO PIZZA NA PEDRA EIRELI   \n",
              "1                    TLPS COMERCIO DE ALIMENTOS LTDA   \n",
              "2  PANELINHAS DO BRASIL COZINHA E RESTAURANTE JK ...   \n",
              "3                             PBG RESTAURANTE EIRELI   \n",
              "4         CAFE SHOPPING COMERCIO DE ALIMENTOS EIRELI   \n",
              "\n",
              "                     Nome Fantasia Situação Cadastral Situação da Atividade  \\\n",
              "0          REVERETO PIZZA NA PEDRA            Regular              Operação   \n",
              "1  TLPS COMERCIO DE ALIMENTOS LTDA            Regular              Operação   \n",
              "2  PANELINHA DO BRASIL JK SHOPPING            Regular              Operação   \n",
              "3              RESTAURANTE 209 SUL            Regular              Operação   \n",
              "4                       FRANS CAFE            Regular              Operação   \n",
              "\n",
              "  Tipo de Estabelecimento                                  Natureza Jurídica  \\\n",
              "0                  Matriz  Empresa Individual de Responsabilidade Limitad...   \n",
              "1                  Matriz                      Sociedade Empresária Limitada   \n",
              "2                  Matriz                      Sociedade Empresária Limitada   \n",
              "3                  Matriz  Empresa Individual de Responsabilidade Limitad...   \n",
              "4                  Matriz  Empresa Individual de Responsabilidade Limitad...   \n",
              "\n",
              "                      Porte  \\\n",
              "0              MICROEMPRESA   \n",
              "1              MICROEMPRESA   \n",
              "2              MICROEMPRESA   \n",
              "3  EMPRESA DE PEQUENO PORTE   \n",
              "4  EMPRESA DE PEQUENO PORTE   \n",
              "\n",
              "                   Endereço Completo Receita Federal  UF Município  \\\n",
              "0  13 LOTE  04                  LOJA  08 E 09 Bra...  DF  Brasília   \n",
              "1                       CONJUNTO NACIONAL Brasília    DF  Brasília   \n",
              "2  QNM 34 Área Especial 1 : 3 PISO  PAVMTO: 2  LO...  DF  Brasília   \n",
              "3  CLS 209 Bloco A LOJA: 37  Brasília Asa Sul CEP...  DF  Brasília   \n",
              "4                              1  SUBSOLO Brasília    DF  Brasília   \n",
              "\n",
              "  Data de Abertura CNAE(S) relacionados à atividade  \\\n",
              "0       05/02/2013                  5611201|5611203   \n",
              "1       01/12/2008                          5611201   \n",
              "2       16/04/2015                  5620101|5611201   \n",
              "3       08/04/2014                  5611201|5611204   \n",
              "4       12/03/2012                  5611203|5611204   \n",
              "\n",
              "                         Endereço Completo Comercial Telefone Comercial  \\\n",
              "0  13  Brasília Norte (Águas Claras) CEP: 7190972...      (61)3381-7919   \n",
              "1  Conjunto Nacional Brasília  Brasília Asa Norte...                  -   \n",
              "2  QNM 34 Área Especial 1  Brasília Taguatinga No...      (61)9982-5745   \n",
              "3  CLS 209 Bloco A  Brasília Asa Sul CEP: 7027251...      (61)8161-1359   \n",
              "4  Brasília Shopping and Towers  Brasília Asa Nor...      (61)2109-2101   \n",
              "\n",
              "                         E-mail Comercial Website Número do Certificado  \\\n",
              "0                 contato@rovereto.com.br       -    17.555.508/0001-59   \n",
              "1                      RUSHFC@HOTMAIL.COM       -    10.533.528/0001-80   \n",
              "2   wellington@markaempreendimento.com.br       -    22.443.265/0001-05   \n",
              "3                   paulobenite@gmail.com       -    20.058.922/0001-67   \n",
              "4  nadia.oliveira@brasiliashopping.com.br       -    15.288.016/0001-19   \n",
              "\n",
              "  Validade do Certificado         Tipo Especialidade Idiomas  \n",
              "0              18/08/2023  Restaurante    Brasileira       -  \n",
              "1              15/09/2023  Restaurante      Italiana  Inglês  \n",
              "2              17/09/2023  Restaurante    Brasileira  Inglês  \n",
              "3              29/11/2023  Restaurante    Brasileira       -  \n",
              "4              25/08/2023      Similar     Americana  Inglês  "
            ],
            "text/html": [
              "\n",
              "  <div id=\"df-7ce347fe-363a-4a0b-a89e-ce1755d2c2ab\">\n",
              "    <div class=\"colab-df-container\">\n",
              "      <div>\n",
              "<style scoped>\n",
              "    .dataframe tbody tr th:only-of-type {\n",
              "        vertical-align: middle;\n",
              "    }\n",
              "\n",
              "    .dataframe tbody tr th {\n",
              "        vertical-align: top;\n",
              "    }\n",
              "\n",
              "    .dataframe thead th {\n",
              "        text-align: right;\n",
              "    }\n",
              "</style>\n",
              "<table border=\"1\" class=\"dataframe\">\n",
              "  <thead>\n",
              "    <tr style=\"text-align: right;\">\n",
              "      <th></th>\n",
              "      <th>Número de Inscrição do CNPJ</th>\n",
              "      <th>Nome da Pessoa Jurídica</th>\n",
              "      <th>Nome Fantasia</th>\n",
              "      <th>Situação Cadastral</th>\n",
              "      <th>Situação da Atividade</th>\n",
              "      <th>Tipo de Estabelecimento</th>\n",
              "      <th>Natureza Jurídica</th>\n",
              "      <th>Porte</th>\n",
              "      <th>Endereço Completo Receita Federal</th>\n",
              "      <th>UF</th>\n",
              "      <th>Município</th>\n",
              "      <th>Data de Abertura</th>\n",
              "      <th>CNAE(S) relacionados à atividade</th>\n",
              "      <th>Endereço Completo Comercial</th>\n",
              "      <th>Telefone Comercial</th>\n",
              "      <th>E-mail Comercial</th>\n",
              "      <th>Website</th>\n",
              "      <th>Número do Certificado</th>\n",
              "      <th>Validade do Certificado</th>\n",
              "      <th>Tipo</th>\n",
              "      <th>Especialidade</th>\n",
              "      <th>Idiomas</th>\n",
              "    </tr>\n",
              "  </thead>\n",
              "  <tbody>\n",
              "    <tr>\n",
              "      <th>0</th>\n",
              "      <td>17.555.508/0001-59</td>\n",
              "      <td>ROVERETO PIZZA NA PEDRA EIRELI</td>\n",
              "      <td>REVERETO PIZZA NA PEDRA</td>\n",
              "      <td>Regular</td>\n",
              "      <td>Operação</td>\n",
              "      <td>Matriz</td>\n",
              "      <td>Empresa Individual de Responsabilidade Limitad...</td>\n",
              "      <td>MICROEMPRESA</td>\n",
              "      <td>13 LOTE  04                  LOJA  08 E 09 Bra...</td>\n",
              "      <td>DF</td>\n",
              "      <td>Brasília</td>\n",
              "      <td>05/02/2013</td>\n",
              "      <td>5611201|5611203</td>\n",
              "      <td>13  Brasília Norte (Águas Claras) CEP: 7190972...</td>\n",
              "      <td>(61)3381-7919</td>\n",
              "      <td>contato@rovereto.com.br</td>\n",
              "      <td>-</td>\n",
              "      <td>17.555.508/0001-59</td>\n",
              "      <td>18/08/2023</td>\n",
              "      <td>Restaurante</td>\n",
              "      <td>Brasileira</td>\n",
              "      <td>-</td>\n",
              "    </tr>\n",
              "    <tr>\n",
              "      <th>1</th>\n",
              "      <td>10.533.528/0001-80</td>\n",
              "      <td>TLPS COMERCIO DE ALIMENTOS LTDA</td>\n",
              "      <td>TLPS COMERCIO DE ALIMENTOS LTDA</td>\n",
              "      <td>Regular</td>\n",
              "      <td>Operação</td>\n",
              "      <td>Matriz</td>\n",
              "      <td>Sociedade Empresária Limitada</td>\n",
              "      <td>MICROEMPRESA</td>\n",
              "      <td>CONJUNTO NACIONAL Brasília</td>\n",
              "      <td>DF</td>\n",
              "      <td>Brasília</td>\n",
              "      <td>01/12/2008</td>\n",
              "      <td>5611201</td>\n",
              "      <td>Conjunto Nacional Brasília  Brasília Asa Norte...</td>\n",
              "      <td>-</td>\n",
              "      <td>RUSHFC@HOTMAIL.COM</td>\n",
              "      <td>-</td>\n",
              "      <td>10.533.528/0001-80</td>\n",
              "      <td>15/09/2023</td>\n",
              "      <td>Restaurante</td>\n",
              "      <td>Italiana</td>\n",
              "      <td>Inglês</td>\n",
              "    </tr>\n",
              "    <tr>\n",
              "      <th>2</th>\n",
              "      <td>22.443.265/0001-05</td>\n",
              "      <td>PANELINHAS DO BRASIL COZINHA E RESTAURANTE JK ...</td>\n",
              "      <td>PANELINHA DO BRASIL JK SHOPPING</td>\n",
              "      <td>Regular</td>\n",
              "      <td>Operação</td>\n",
              "      <td>Matriz</td>\n",
              "      <td>Sociedade Empresária Limitada</td>\n",
              "      <td>MICROEMPRESA</td>\n",
              "      <td>QNM 34 Área Especial 1 : 3 PISO  PAVMTO: 2  LO...</td>\n",
              "      <td>DF</td>\n",
              "      <td>Brasília</td>\n",
              "      <td>16/04/2015</td>\n",
              "      <td>5620101|5611201</td>\n",
              "      <td>QNM 34 Área Especial 1  Brasília Taguatinga No...</td>\n",
              "      <td>(61)9982-5745</td>\n",
              "      <td>wellington@markaempreendimento.com.br</td>\n",
              "      <td>-</td>\n",
              "      <td>22.443.265/0001-05</td>\n",
              "      <td>17/09/2023</td>\n",
              "      <td>Restaurante</td>\n",
              "      <td>Brasileira</td>\n",
              "      <td>Inglês</td>\n",
              "    </tr>\n",
              "    <tr>\n",
              "      <th>3</th>\n",
              "      <td>20.058.922/0001-67</td>\n",
              "      <td>PBG RESTAURANTE EIRELI</td>\n",
              "      <td>RESTAURANTE 209 SUL</td>\n",
              "      <td>Regular</td>\n",
              "      <td>Operação</td>\n",
              "      <td>Matriz</td>\n",
              "      <td>Empresa Individual de Responsabilidade Limitad...</td>\n",
              "      <td>EMPRESA DE PEQUENO PORTE</td>\n",
              "      <td>CLS 209 Bloco A LOJA: 37  Brasília Asa Sul CEP...</td>\n",
              "      <td>DF</td>\n",
              "      <td>Brasília</td>\n",
              "      <td>08/04/2014</td>\n",
              "      <td>5611201|5611204</td>\n",
              "      <td>CLS 209 Bloco A  Brasília Asa Sul CEP: 7027251...</td>\n",
              "      <td>(61)8161-1359</td>\n",
              "      <td>paulobenite@gmail.com</td>\n",
              "      <td>-</td>\n",
              "      <td>20.058.922/0001-67</td>\n",
              "      <td>29/11/2023</td>\n",
              "      <td>Restaurante</td>\n",
              "      <td>Brasileira</td>\n",
              "      <td>-</td>\n",
              "    </tr>\n",
              "    <tr>\n",
              "      <th>4</th>\n",
              "      <td>15.288.016/0001-19</td>\n",
              "      <td>CAFE SHOPPING COMERCIO DE ALIMENTOS EIRELI</td>\n",
              "      <td>FRANS CAFE</td>\n",
              "      <td>Regular</td>\n",
              "      <td>Operação</td>\n",
              "      <td>Matriz</td>\n",
              "      <td>Empresa Individual de Responsabilidade Limitad...</td>\n",
              "      <td>EMPRESA DE PEQUENO PORTE</td>\n",
              "      <td>1  SUBSOLO Brasília</td>\n",
              "      <td>DF</td>\n",
              "      <td>Brasília</td>\n",
              "      <td>12/03/2012</td>\n",
              "      <td>5611203|5611204</td>\n",
              "      <td>Brasília Shopping and Towers  Brasília Asa Nor...</td>\n",
              "      <td>(61)2109-2101</td>\n",
              "      <td>nadia.oliveira@brasiliashopping.com.br</td>\n",
              "      <td>-</td>\n",
              "      <td>15.288.016/0001-19</td>\n",
              "      <td>25/08/2023</td>\n",
              "      <td>Similar</td>\n",
              "      <td>Americana</td>\n",
              "      <td>Inglês</td>\n",
              "    </tr>\n",
              "  </tbody>\n",
              "</table>\n",
              "</div>\n",
              "      <button class=\"colab-df-convert\" onclick=\"convertToInteractive('df-7ce347fe-363a-4a0b-a89e-ce1755d2c2ab')\"\n",
              "              title=\"Convert this dataframe to an interactive table.\"\n",
              "              style=\"display:none;\">\n",
              "        \n",
              "  <svg xmlns=\"http://www.w3.org/2000/svg\" height=\"24px\"viewBox=\"0 0 24 24\"\n",
              "       width=\"24px\">\n",
              "    <path d=\"M0 0h24v24H0V0z\" fill=\"none\"/>\n",
              "    <path d=\"M18.56 5.44l.94 2.06.94-2.06 2.06-.94-2.06-.94-.94-2.06-.94 2.06-2.06.94zm-11 1L8.5 8.5l.94-2.06 2.06-.94-2.06-.94L8.5 2.5l-.94 2.06-2.06.94zm10 10l.94 2.06.94-2.06 2.06-.94-2.06-.94-.94-2.06-.94 2.06-2.06.94z\"/><path d=\"M17.41 7.96l-1.37-1.37c-.4-.4-.92-.59-1.43-.59-.52 0-1.04.2-1.43.59L10.3 9.45l-7.72 7.72c-.78.78-.78 2.05 0 2.83L4 21.41c.39.39.9.59 1.41.59.51 0 1.02-.2 1.41-.59l7.78-7.78 2.81-2.81c.8-.78.8-2.07 0-2.86zM5.41 20L4 18.59l7.72-7.72 1.47 1.35L5.41 20z\"/>\n",
              "  </svg>\n",
              "      </button>\n",
              "      \n",
              "  <style>\n",
              "    .colab-df-container {\n",
              "      display:flex;\n",
              "      flex-wrap:wrap;\n",
              "      gap: 12px;\n",
              "    }\n",
              "\n",
              "    .colab-df-convert {\n",
              "      background-color: #E8F0FE;\n",
              "      border: none;\n",
              "      border-radius: 50%;\n",
              "      cursor: pointer;\n",
              "      display: none;\n",
              "      fill: #1967D2;\n",
              "      height: 32px;\n",
              "      padding: 0 0 0 0;\n",
              "      width: 32px;\n",
              "    }\n",
              "\n",
              "    .colab-df-convert:hover {\n",
              "      background-color: #E2EBFA;\n",
              "      box-shadow: 0px 1px 2px rgba(60, 64, 67, 0.3), 0px 1px 3px 1px rgba(60, 64, 67, 0.15);\n",
              "      fill: #174EA6;\n",
              "    }\n",
              "\n",
              "    [theme=dark] .colab-df-convert {\n",
              "      background-color: #3B4455;\n",
              "      fill: #D2E3FC;\n",
              "    }\n",
              "\n",
              "    [theme=dark] .colab-df-convert:hover {\n",
              "      background-color: #434B5C;\n",
              "      box-shadow: 0px 1px 3px 1px rgba(0, 0, 0, 0.15);\n",
              "      filter: drop-shadow(0px 1px 2px rgba(0, 0, 0, 0.3));\n",
              "      fill: #FFFFFF;\n",
              "    }\n",
              "  </style>\n",
              "\n",
              "      <script>\n",
              "        const buttonEl =\n",
              "          document.querySelector('#df-7ce347fe-363a-4a0b-a89e-ce1755d2c2ab button.colab-df-convert');\n",
              "        buttonEl.style.display =\n",
              "          google.colab.kernel.accessAllowed ? 'block' : 'none';\n",
              "\n",
              "        async function convertToInteractive(key) {\n",
              "          const element = document.querySelector('#df-7ce347fe-363a-4a0b-a89e-ce1755d2c2ab');\n",
              "          const dataTable =\n",
              "            await google.colab.kernel.invokeFunction('convertToInteractive',\n",
              "                                                     [key], {});\n",
              "          if (!dataTable) return;\n",
              "\n",
              "          const docLinkHtml = 'Like what you see? Visit the ' +\n",
              "            '<a target=\"_blank\" href=https://colab.research.google.com/notebooks/data_table.ipynb>data table notebook</a>'\n",
              "            + ' to learn more about interactive tables.';\n",
              "          element.innerHTML = '';\n",
              "          dataTable['output_type'] = 'display_data';\n",
              "          await google.colab.output.renderOutput(dataTable, element);\n",
              "          const docLink = document.createElement('div');\n",
              "          docLink.innerHTML = docLinkHtml;\n",
              "          element.appendChild(docLink);\n",
              "        }\n",
              "      </script>\n",
              "    </div>\n",
              "  </div>\n",
              "  "
            ]
          },
          "metadata": {},
          "execution_count": 17
        }
      ]
    },
    {
      "cell_type": "code",
      "source": [
        "df.isna().sum()"
      ],
      "metadata": {
        "colab": {
          "base_uri": "https://localhost:8080/"
        },
        "id": "uL9qaTPZM3T4",
        "outputId": "79d13b3a-3333-4ec7-a23f-50085d01dcd2"
      },
      "execution_count": null,
      "outputs": [
        {
          "output_type": "execute_result",
          "data": {
            "text/plain": [
              "Número de Inscrição do CNPJ           0\n",
              "Nome da Pessoa Jurídica               0\n",
              "Nome Fantasia                         0\n",
              "Situação Cadastral                    0\n",
              "Situação da Atividade                 0\n",
              "Tipo de Estabelecimento               0\n",
              "Natureza Jurídica                     0\n",
              "Porte                                 0\n",
              "Endereço Completo Receita Federal     0\n",
              "UF                                    0\n",
              "Município                             0\n",
              "Data de Abertura                      0\n",
              "CNAE(S) relacionados à atividade      0\n",
              "Endereço Completo Comercial           0\n",
              "Telefone Comercial                    0\n",
              "E-mail Comercial                      0\n",
              "Website                              97\n",
              "Número do Certificado                 0\n",
              "Validade do Certificado               0\n",
              "Tipo                                  0\n",
              "Especialidade                         0\n",
              "Idiomas                               0\n",
              "dtype: int64"
            ]
          },
          "metadata": {},
          "execution_count": 18
        }
      ]
    },
    {
      "cell_type": "code",
      "source": [
        "df['cnpj'].nunique()"
      ],
      "metadata": {
        "id": "bXoa7qn_h3Xe"
      },
      "execution_count": null,
      "outputs": []
    },
    {
      "cell_type": "code",
      "source": [
        "df['tipo'].unique()"
      ],
      "metadata": {
        "id": "REqkscttYbno"
      },
      "execution_count": null,
      "outputs": []
    },
    {
      "cell_type": "markdown",
      "source": [
        "## Transformação\n",
        "Aqui os dados extraídos precisam ser transformados em um formato adequado para análise, e para isso deve seguir alguns passos, que podem precisar serem repetidos ao longo do processo de análise."
      ],
      "metadata": {
        "id": "VbLM1jZ51glR"
      }
    },
    {
      "cell_type": "code",
      "source": [
        "df['data_abertura'] = df['data_abertura'].astype(str)\n",
        "df['data_abertura'] = pd.to_datetime(df['data_abertura'], dayfirst=True)\n",
        "\n",
        "df['val_certificado'] = df['val_certificado'].astype(str)\n",
        "df['val_certificado'] = pd.to_datetime(df['val_certificado'], dayfirst=True)"
      ],
      "metadata": {
        "id": "LxNoxkPpXBJq"
      },
      "execution_count": null,
      "outputs": []
    },
    {
      "cell_type": "markdown",
      "source": [
        "### Limpeza de Dados\n",
        "Remover dados duplicados, corrigir erros de digitação, tratar dados inconsistentes etc."
      ],
      "metadata": {
        "id": "2OIPr02e1w5B"
      }
    },
    {
      "cell_type": "code",
      "source": [
        "df.drop(columns={'tel_comercial',\n",
        "                 'email_comercial',\n",
        "                 'num_certificado',\n",
        "                 'end_rf',\n",
        "                 'pj'}, inplace=True)"
      ],
      "metadata": {
        "id": "l-eoJLk92ASY"
      },
      "execution_count": null,
      "outputs": []
    },
    {
      "cell_type": "code",
      "source": [
        "df.drop(columns={'website'}, inplace=True)"
      ],
      "metadata": {
        "id": "YduuNODrT-n7"
      },
      "execution_count": null,
      "outputs": []
    },
    {
      "cell_type": "markdown",
      "source": [
        "### Normalização de Dados\n",
        "Colocar os dados em um formato padronizado para facilitar a análise."
      ],
      "metadata": {
        "id": "FG2L2jSi2Alp"
      }
    },
    {
      "cell_type": "code",
      "source": [
        "df.rename(columns={'Número de Inscrição do CNPJ':'cnpj',\n",
        "                   'Nome da Pessoa Jurídica':'pj',\n",
        "                   'Nome Fantasia':'nome_fantasia',\n",
        "                   'Situação Cadastral':'sit_cadastral',\n",
        "                   'Situação da Atividade':'sit_atividade',\n",
        "                   'Tipo de Estabelecimento':'tipo_estabecimento',\n",
        "                   'Natureza Jurídica':'nat_juridica',\n",
        "                   'Porte':'porte',\n",
        "                   'Endereço Completo Receita Federal':'end_rf',\n",
        "                   'UF':'uf',\n",
        "                   'Município':'minicipio',\n",
        "                   'Data de Abertura':'data_abertura',\n",
        "                   'CNAE(S) relacionados à atividade':'cnaes',\n",
        "                   'Endereço Completo Comercial':'end_comercial',\n",
        "                   'Telefone Comercial':'tel_comercial',\n",
        "                   'E-mail Comercial':'email_comercial',\n",
        "                   'Website':'website',\n",
        "                   'Número do Certificado':'num_certificado',\n",
        "                   'Validade do Certificado':'val_certificado',\n",
        "                   'Tipo':'tipo',\n",
        "                   'Especialidade':'especialidade',\n",
        "                   'Idiomas':'idiomas'}, inplace=True)"
      ],
      "metadata": {
        "id": "t0pQvuXU2I0x"
      },
      "execution_count": null,
      "outputs": []
    },
    {
      "cell_type": "code",
      "source": [
        "schema = pa.DataFrameSchema(\n",
        "    columns = {\n",
        "        'cnpj':pa.Column(pa.String, nullable=False),\n",
        "        'nome_fantasia':pa.Column(pa.String, nullable=False),\n",
        "        'sit_cadastral':pa.Column(pa.String, nullable=False),\n",
        "        'sit_atividade':pa.Column(pa.String, nullable=False),\n",
        "        'tipo_estabecimento':pa.Column(pa.String, nullable=False),\n",
        "        'nat_juridica':pa.Column(pa.String, nullable=False),\n",
        "        'porte':pa.Column(pa.String, nullable=False),\n",
        "        'uf':pa.Column(pa.String, nullable=False),\n",
        "        'minicipio':pa.Column(pa.String, nullable=False),\n",
        "        'data_abertura':pa.Column(pa.DateTime, nullable=False),\n",
        "        'cnaes':pa.Column(pa.String, nullable=False),\n",
        "        'end_comercial':pa.Column(pa.String, nullable=False),\n",
        "        'val_certificado':pa.Column(pa.DateTime, nullable=False),\n",
        "        'tipo':pa.Column(pa.String, nullable=False),\n",
        "        'especialidade':pa.Column(pa.String, nullable=False),\n",
        "        'idiomas':pa.Column(pa.String, nullable=False)\n",
        "\n",
        "})\n",
        "\n",
        "schema.validate(df)"
      ],
      "metadata": {
        "id": "ZSGN7scp2XZ5",
        "colab": {
          "base_uri": "https://localhost:8080/",
          "height": 973
        },
        "outputId": "cf3dd845-7483-47d4-dcc4-7adc5c8d6eca"
      },
      "execution_count": null,
      "outputs": [
        {
          "output_type": "execute_result",
          "data": {
            "text/plain": [
              "                     cnpj                    nome_fantasia sit_cadastral  \\\n",
              "0      17.555.508/0001-59          REVERETO PIZZA NA PEDRA       Regular   \n",
              "1      10.533.528/0001-80  TLPS COMERCIO DE ALIMENTOS LTDA       Regular   \n",
              "2      22.443.265/0001-05  PANELINHA DO BRASIL JK SHOPPING       Regular   \n",
              "3      20.058.922/0001-67              RESTAURANTE 209 SUL       Regular   \n",
              "4      15.288.016/0001-19                       FRANS CAFE       Regular   \n",
              "...                   ...                              ...           ...   \n",
              "20393  08.017.496/0002-07                    BRÁZ PIZZARIA       Regular   \n",
              "20394  02.526.318/0001-36                 N  A  ESPETINHOS       Regular   \n",
              "20395  11.553.611/0001-83                      BAR ANDINO        Regular   \n",
              "20396  31.010.847/0002-61          GP RESTAURANTE FILIAL 1       Regular   \n",
              "20397  12.605.160/0001-43                       CC LANCHES       Regular   \n",
              "\n",
              "      sit_atividade tipo_estabecimento  \\\n",
              "0          Operação             Matriz   \n",
              "1          Operação             Matriz   \n",
              "2          Operação             Matriz   \n",
              "3          Operação             Matriz   \n",
              "4          Operação             Matriz   \n",
              "...             ...                ...   \n",
              "20393      Operação             Filial   \n",
              "20394      Operação             Matriz   \n",
              "20395      Operação             Matriz   \n",
              "20396      Operação             Filial   \n",
              "20397      Operação             Matriz   \n",
              "\n",
              "                                            nat_juridica  \\\n",
              "0      Empresa Individual de Responsabilidade Limitad...   \n",
              "1                          Sociedade Empresária Limitada   \n",
              "2                          Sociedade Empresária Limitada   \n",
              "3      Empresa Individual de Responsabilidade Limitad...   \n",
              "4      Empresa Individual de Responsabilidade Limitad...   \n",
              "...                                                  ...   \n",
              "20393                      Sociedade Empresária Limitada   \n",
              "20394                      Sociedade Empresária Limitada   \n",
              "20395                      Sociedade Empresária Limitada   \n",
              "20396                      Sociedade Empresária Limitada   \n",
              "20397                              Empresário Individual   \n",
              "\n",
              "                          porte  uf       minicipio data_abertura  \\\n",
              "0                  MICROEMPRESA  DF        Brasília    2013-05-02   \n",
              "1                  MICROEMPRESA  DF        Brasília    2008-01-12   \n",
              "2                  MICROEMPRESA  DF        Brasília    2015-04-16   \n",
              "3      EMPRESA DE PEQUENO PORTE  DF        Brasília    2014-08-04   \n",
              "4      EMPRESA DE PEQUENO PORTE  DF        Brasília    2012-12-03   \n",
              "...                         ...  ..             ...           ...   \n",
              "20393                    DEMAIS  RJ  Rio de Janeiro    2009-02-16   \n",
              "20394                    DEMAIS  SP       São Paulo    1998-11-05   \n",
              "20395              MICROEMPRESA  SP       São Paulo    2009-12-16   \n",
              "20396                    DEMAIS  RS         Gramado    2019-05-12   \n",
              "20397              MICROEMPRESA  PB         Camalaú    2010-09-30   \n",
              "\n",
              "                                                 cnaes  \\\n",
              "0                                      5611201|5611203   \n",
              "1                                              5611201   \n",
              "2                                      5620101|5611201   \n",
              "3                                      5611201|5611204   \n",
              "4                                      5611203|5611204   \n",
              "...                                                ...   \n",
              "20393                  5620102|9001999|5611201|5611203   \n",
              "20394  8230001|8230001|5620102|7733100|5611201|5611204   \n",
              "20395          8230001|8230001|5620102|5611201|5611204   \n",
              "20396                                          5611201   \n",
              "20397                          8230002|5611201|5611203   \n",
              "\n",
              "                                           end_comercial val_certificado  \\\n",
              "0      13  Brasília Norte (Águas Claras) CEP: 7190972...      2023-08-18   \n",
              "1      Conjunto Nacional Brasília  Brasília Asa Norte...      2023-09-15   \n",
              "2      QNM 34 Área Especial 1  Brasília Taguatinga No...      2023-09-17   \n",
              "3      CLS 209 Bloco A  Brasília Asa Sul CEP: 7027251...      2023-11-29   \n",
              "4      Brasília Shopping and Towers  Brasília Asa Nor...      2023-08-25   \n",
              "...                                                  ...             ...   \n",
              "20393  Érico Veríssimo 46 Rio de Janeiro Barra da Tij...      2024-03-31   \n",
              "20394  Bandeira Paulista - de 341 a 659 - lado ímpar ...      2024-03-31   \n",
              "20395  Mateus Grou - lado par São Paulo Pinheiros CEP...      2024-03-31   \n",
              "20396                  Av das hortensias  4079 Gramado        2024-03-31   \n",
              "20397                         AVENIDA SÃO OSÉ  Camalaú        2024-03-31   \n",
              "\n",
              "              tipo                 especialidade          idiomas  \n",
              "0      Restaurante                    Brasileira                -  \n",
              "1      Restaurante                      Italiana           Inglês  \n",
              "2      Restaurante                    Brasileira           Inglês  \n",
              "3      Restaurante                    Brasileira                -  \n",
              "4          Similar                     Americana           Inglês  \n",
              "...            ...                           ...              ...  \n",
              "20393  Restaurante                      Italiana                -  \n",
              "20394  Restaurante                      Japonesa                -  \n",
              "20395  Restaurante  Japonesa|Brasileira|Japonesa                -  \n",
              "20396  Restaurante  Japonesa|Tailandesa|Asiática  Inglês|Espanhol  \n",
              "20397      Similar              Cozinha regional                -  \n",
              "\n",
              "[20398 rows x 16 columns]"
            ],
            "text/html": [
              "\n",
              "  <div id=\"df-e0086dfc-e950-4bf7-a4b1-ac201e13a4f1\">\n",
              "    <div class=\"colab-df-container\">\n",
              "      <div>\n",
              "<style scoped>\n",
              "    .dataframe tbody tr th:only-of-type {\n",
              "        vertical-align: middle;\n",
              "    }\n",
              "\n",
              "    .dataframe tbody tr th {\n",
              "        vertical-align: top;\n",
              "    }\n",
              "\n",
              "    .dataframe thead th {\n",
              "        text-align: right;\n",
              "    }\n",
              "</style>\n",
              "<table border=\"1\" class=\"dataframe\">\n",
              "  <thead>\n",
              "    <tr style=\"text-align: right;\">\n",
              "      <th></th>\n",
              "      <th>cnpj</th>\n",
              "      <th>nome_fantasia</th>\n",
              "      <th>sit_cadastral</th>\n",
              "      <th>sit_atividade</th>\n",
              "      <th>tipo_estabecimento</th>\n",
              "      <th>nat_juridica</th>\n",
              "      <th>porte</th>\n",
              "      <th>uf</th>\n",
              "      <th>minicipio</th>\n",
              "      <th>data_abertura</th>\n",
              "      <th>cnaes</th>\n",
              "      <th>end_comercial</th>\n",
              "      <th>val_certificado</th>\n",
              "      <th>tipo</th>\n",
              "      <th>especialidade</th>\n",
              "      <th>idiomas</th>\n",
              "    </tr>\n",
              "  </thead>\n",
              "  <tbody>\n",
              "    <tr>\n",
              "      <th>0</th>\n",
              "      <td>17.555.508/0001-59</td>\n",
              "      <td>REVERETO PIZZA NA PEDRA</td>\n",
              "      <td>Regular</td>\n",
              "      <td>Operação</td>\n",
              "      <td>Matriz</td>\n",
              "      <td>Empresa Individual de Responsabilidade Limitad...</td>\n",
              "      <td>MICROEMPRESA</td>\n",
              "      <td>DF</td>\n",
              "      <td>Brasília</td>\n",
              "      <td>2013-05-02</td>\n",
              "      <td>5611201|5611203</td>\n",
              "      <td>13  Brasília Norte (Águas Claras) CEP: 7190972...</td>\n",
              "      <td>2023-08-18</td>\n",
              "      <td>Restaurante</td>\n",
              "      <td>Brasileira</td>\n",
              "      <td>-</td>\n",
              "    </tr>\n",
              "    <tr>\n",
              "      <th>1</th>\n",
              "      <td>10.533.528/0001-80</td>\n",
              "      <td>TLPS COMERCIO DE ALIMENTOS LTDA</td>\n",
              "      <td>Regular</td>\n",
              "      <td>Operação</td>\n",
              "      <td>Matriz</td>\n",
              "      <td>Sociedade Empresária Limitada</td>\n",
              "      <td>MICROEMPRESA</td>\n",
              "      <td>DF</td>\n",
              "      <td>Brasília</td>\n",
              "      <td>2008-01-12</td>\n",
              "      <td>5611201</td>\n",
              "      <td>Conjunto Nacional Brasília  Brasília Asa Norte...</td>\n",
              "      <td>2023-09-15</td>\n",
              "      <td>Restaurante</td>\n",
              "      <td>Italiana</td>\n",
              "      <td>Inglês</td>\n",
              "    </tr>\n",
              "    <tr>\n",
              "      <th>2</th>\n",
              "      <td>22.443.265/0001-05</td>\n",
              "      <td>PANELINHA DO BRASIL JK SHOPPING</td>\n",
              "      <td>Regular</td>\n",
              "      <td>Operação</td>\n",
              "      <td>Matriz</td>\n",
              "      <td>Sociedade Empresária Limitada</td>\n",
              "      <td>MICROEMPRESA</td>\n",
              "      <td>DF</td>\n",
              "      <td>Brasília</td>\n",
              "      <td>2015-04-16</td>\n",
              "      <td>5620101|5611201</td>\n",
              "      <td>QNM 34 Área Especial 1  Brasília Taguatinga No...</td>\n",
              "      <td>2023-09-17</td>\n",
              "      <td>Restaurante</td>\n",
              "      <td>Brasileira</td>\n",
              "      <td>Inglês</td>\n",
              "    </tr>\n",
              "    <tr>\n",
              "      <th>3</th>\n",
              "      <td>20.058.922/0001-67</td>\n",
              "      <td>RESTAURANTE 209 SUL</td>\n",
              "      <td>Regular</td>\n",
              "      <td>Operação</td>\n",
              "      <td>Matriz</td>\n",
              "      <td>Empresa Individual de Responsabilidade Limitad...</td>\n",
              "      <td>EMPRESA DE PEQUENO PORTE</td>\n",
              "      <td>DF</td>\n",
              "      <td>Brasília</td>\n",
              "      <td>2014-08-04</td>\n",
              "      <td>5611201|5611204</td>\n",
              "      <td>CLS 209 Bloco A  Brasília Asa Sul CEP: 7027251...</td>\n",
              "      <td>2023-11-29</td>\n",
              "      <td>Restaurante</td>\n",
              "      <td>Brasileira</td>\n",
              "      <td>-</td>\n",
              "    </tr>\n",
              "    <tr>\n",
              "      <th>4</th>\n",
              "      <td>15.288.016/0001-19</td>\n",
              "      <td>FRANS CAFE</td>\n",
              "      <td>Regular</td>\n",
              "      <td>Operação</td>\n",
              "      <td>Matriz</td>\n",
              "      <td>Empresa Individual de Responsabilidade Limitad...</td>\n",
              "      <td>EMPRESA DE PEQUENO PORTE</td>\n",
              "      <td>DF</td>\n",
              "      <td>Brasília</td>\n",
              "      <td>2012-12-03</td>\n",
              "      <td>5611203|5611204</td>\n",
              "      <td>Brasília Shopping and Towers  Brasília Asa Nor...</td>\n",
              "      <td>2023-08-25</td>\n",
              "      <td>Similar</td>\n",
              "      <td>Americana</td>\n",
              "      <td>Inglês</td>\n",
              "    </tr>\n",
              "    <tr>\n",
              "      <th>...</th>\n",
              "      <td>...</td>\n",
              "      <td>...</td>\n",
              "      <td>...</td>\n",
              "      <td>...</td>\n",
              "      <td>...</td>\n",
              "      <td>...</td>\n",
              "      <td>...</td>\n",
              "      <td>...</td>\n",
              "      <td>...</td>\n",
              "      <td>...</td>\n",
              "      <td>...</td>\n",
              "      <td>...</td>\n",
              "      <td>...</td>\n",
              "      <td>...</td>\n",
              "      <td>...</td>\n",
              "      <td>...</td>\n",
              "    </tr>\n",
              "    <tr>\n",
              "      <th>20393</th>\n",
              "      <td>08.017.496/0002-07</td>\n",
              "      <td>BRÁZ PIZZARIA</td>\n",
              "      <td>Regular</td>\n",
              "      <td>Operação</td>\n",
              "      <td>Filial</td>\n",
              "      <td>Sociedade Empresária Limitada</td>\n",
              "      <td>DEMAIS</td>\n",
              "      <td>RJ</td>\n",
              "      <td>Rio de Janeiro</td>\n",
              "      <td>2009-02-16</td>\n",
              "      <td>5620102|9001999|5611201|5611203</td>\n",
              "      <td>Érico Veríssimo 46 Rio de Janeiro Barra da Tij...</td>\n",
              "      <td>2024-03-31</td>\n",
              "      <td>Restaurante</td>\n",
              "      <td>Italiana</td>\n",
              "      <td>-</td>\n",
              "    </tr>\n",
              "    <tr>\n",
              "      <th>20394</th>\n",
              "      <td>02.526.318/0001-36</td>\n",
              "      <td>N  A  ESPETINHOS</td>\n",
              "      <td>Regular</td>\n",
              "      <td>Operação</td>\n",
              "      <td>Matriz</td>\n",
              "      <td>Sociedade Empresária Limitada</td>\n",
              "      <td>DEMAIS</td>\n",
              "      <td>SP</td>\n",
              "      <td>São Paulo</td>\n",
              "      <td>1998-11-05</td>\n",
              "      <td>8230001|8230001|5620102|7733100|5611201|5611204</td>\n",
              "      <td>Bandeira Paulista - de 341 a 659 - lado ímpar ...</td>\n",
              "      <td>2024-03-31</td>\n",
              "      <td>Restaurante</td>\n",
              "      <td>Japonesa</td>\n",
              "      <td>-</td>\n",
              "    </tr>\n",
              "    <tr>\n",
              "      <th>20395</th>\n",
              "      <td>11.553.611/0001-83</td>\n",
              "      <td>BAR ANDINO</td>\n",
              "      <td>Regular</td>\n",
              "      <td>Operação</td>\n",
              "      <td>Matriz</td>\n",
              "      <td>Sociedade Empresária Limitada</td>\n",
              "      <td>MICROEMPRESA</td>\n",
              "      <td>SP</td>\n",
              "      <td>São Paulo</td>\n",
              "      <td>2009-12-16</td>\n",
              "      <td>8230001|8230001|5620102|5611201|5611204</td>\n",
              "      <td>Mateus Grou - lado par São Paulo Pinheiros CEP...</td>\n",
              "      <td>2024-03-31</td>\n",
              "      <td>Restaurante</td>\n",
              "      <td>Japonesa|Brasileira|Japonesa</td>\n",
              "      <td>-</td>\n",
              "    </tr>\n",
              "    <tr>\n",
              "      <th>20396</th>\n",
              "      <td>31.010.847/0002-61</td>\n",
              "      <td>GP RESTAURANTE FILIAL 1</td>\n",
              "      <td>Regular</td>\n",
              "      <td>Operação</td>\n",
              "      <td>Filial</td>\n",
              "      <td>Sociedade Empresária Limitada</td>\n",
              "      <td>DEMAIS</td>\n",
              "      <td>RS</td>\n",
              "      <td>Gramado</td>\n",
              "      <td>2019-05-12</td>\n",
              "      <td>5611201</td>\n",
              "      <td>Av das hortensias  4079 Gramado</td>\n",
              "      <td>2024-03-31</td>\n",
              "      <td>Restaurante</td>\n",
              "      <td>Japonesa|Tailandesa|Asiática</td>\n",
              "      <td>Inglês|Espanhol</td>\n",
              "    </tr>\n",
              "    <tr>\n",
              "      <th>20397</th>\n",
              "      <td>12.605.160/0001-43</td>\n",
              "      <td>CC LANCHES</td>\n",
              "      <td>Regular</td>\n",
              "      <td>Operação</td>\n",
              "      <td>Matriz</td>\n",
              "      <td>Empresário Individual</td>\n",
              "      <td>MICROEMPRESA</td>\n",
              "      <td>PB</td>\n",
              "      <td>Camalaú</td>\n",
              "      <td>2010-09-30</td>\n",
              "      <td>8230002|5611201|5611203</td>\n",
              "      <td>AVENIDA SÃO OSÉ  Camalaú</td>\n",
              "      <td>2024-03-31</td>\n",
              "      <td>Similar</td>\n",
              "      <td>Cozinha regional</td>\n",
              "      <td>-</td>\n",
              "    </tr>\n",
              "  </tbody>\n",
              "</table>\n",
              "<p>20398 rows × 16 columns</p>\n",
              "</div>\n",
              "      <button class=\"colab-df-convert\" onclick=\"convertToInteractive('df-e0086dfc-e950-4bf7-a4b1-ac201e13a4f1')\"\n",
              "              title=\"Convert this dataframe to an interactive table.\"\n",
              "              style=\"display:none;\">\n",
              "        \n",
              "  <svg xmlns=\"http://www.w3.org/2000/svg\" height=\"24px\"viewBox=\"0 0 24 24\"\n",
              "       width=\"24px\">\n",
              "    <path d=\"M0 0h24v24H0V0z\" fill=\"none\"/>\n",
              "    <path d=\"M18.56 5.44l.94 2.06.94-2.06 2.06-.94-2.06-.94-.94-2.06-.94 2.06-2.06.94zm-11 1L8.5 8.5l.94-2.06 2.06-.94-2.06-.94L8.5 2.5l-.94 2.06-2.06.94zm10 10l.94 2.06.94-2.06 2.06-.94-2.06-.94-.94-2.06-.94 2.06-2.06.94z\"/><path d=\"M17.41 7.96l-1.37-1.37c-.4-.4-.92-.59-1.43-.59-.52 0-1.04.2-1.43.59L10.3 9.45l-7.72 7.72c-.78.78-.78 2.05 0 2.83L4 21.41c.39.39.9.59 1.41.59.51 0 1.02-.2 1.41-.59l7.78-7.78 2.81-2.81c.8-.78.8-2.07 0-2.86zM5.41 20L4 18.59l7.72-7.72 1.47 1.35L5.41 20z\"/>\n",
              "  </svg>\n",
              "      </button>\n",
              "      \n",
              "  <style>\n",
              "    .colab-df-container {\n",
              "      display:flex;\n",
              "      flex-wrap:wrap;\n",
              "      gap: 12px;\n",
              "    }\n",
              "\n",
              "    .colab-df-convert {\n",
              "      background-color: #E8F0FE;\n",
              "      border: none;\n",
              "      border-radius: 50%;\n",
              "      cursor: pointer;\n",
              "      display: none;\n",
              "      fill: #1967D2;\n",
              "      height: 32px;\n",
              "      padding: 0 0 0 0;\n",
              "      width: 32px;\n",
              "    }\n",
              "\n",
              "    .colab-df-convert:hover {\n",
              "      background-color: #E2EBFA;\n",
              "      box-shadow: 0px 1px 2px rgba(60, 64, 67, 0.3), 0px 1px 3px 1px rgba(60, 64, 67, 0.15);\n",
              "      fill: #174EA6;\n",
              "    }\n",
              "\n",
              "    [theme=dark] .colab-df-convert {\n",
              "      background-color: #3B4455;\n",
              "      fill: #D2E3FC;\n",
              "    }\n",
              "\n",
              "    [theme=dark] .colab-df-convert:hover {\n",
              "      background-color: #434B5C;\n",
              "      box-shadow: 0px 1px 3px 1px rgba(0, 0, 0, 0.15);\n",
              "      filter: drop-shadow(0px 1px 2px rgba(0, 0, 0, 0.3));\n",
              "      fill: #FFFFFF;\n",
              "    }\n",
              "  </style>\n",
              "\n",
              "      <script>\n",
              "        const buttonEl =\n",
              "          document.querySelector('#df-e0086dfc-e950-4bf7-a4b1-ac201e13a4f1 button.colab-df-convert');\n",
              "        buttonEl.style.display =\n",
              "          google.colab.kernel.accessAllowed ? 'block' : 'none';\n",
              "\n",
              "        async function convertToInteractive(key) {\n",
              "          const element = document.querySelector('#df-e0086dfc-e950-4bf7-a4b1-ac201e13a4f1');\n",
              "          const dataTable =\n",
              "            await google.colab.kernel.invokeFunction('convertToInteractive',\n",
              "                                                     [key], {});\n",
              "          if (!dataTable) return;\n",
              "\n",
              "          const docLinkHtml = 'Like what you see? Visit the ' +\n",
              "            '<a target=\"_blank\" href=https://colab.research.google.com/notebooks/data_table.ipynb>data table notebook</a>'\n",
              "            + ' to learn more about interactive tables.';\n",
              "          element.innerHTML = '';\n",
              "          dataTable['output_type'] = 'display_data';\n",
              "          await google.colab.output.renderOutput(dataTable, element);\n",
              "          const docLink = document.createElement('div');\n",
              "          docLink.innerHTML = docLinkHtml;\n",
              "          element.appendChild(docLink);\n",
              "        }\n",
              "      </script>\n",
              "    </div>\n",
              "  </div>\n",
              "  "
            ]
          },
          "metadata": {},
          "execution_count": 71
        }
      ]
    },
    {
      "cell_type": "markdown",
      "source": [
        "### Criação de Variáveis\n",
        "Criar novas variáveis com base nos dados originais para permitir uma análise mais detalhada e avançada."
      ],
      "metadata": {
        "id": "-bEZz8EE2JGS"
      }
    },
    {
      "cell_type": "code",
      "source": [
        "ft_cafeterias = df.loc[df.tipo == 'Cafeteria']\n",
        "ft_cafeterias"
      ],
      "metadata": {
        "id": "DMLmJ4AkY8rp"
      },
      "execution_count": null,
      "outputs": []
    },
    {
      "cell_type": "markdown",
      "source": [
        "Enviando para o Bucket"
      ],
      "metadata": {
        "id": "Rz7gwSKXgq07"
      }
    },
    {
      "cell_type": "code",
      "source": [
        "#Carregar direto no bucket\n",
        "df.to_csv('gs://comercio-cafe/TRATADOS/Ministério do Turismo/tratados.csv', index=False)"
      ],
      "metadata": {
        "id": "mg7HU1BmgqcL"
      },
      "execution_count": null,
      "outputs": []
    },
    {
      "cell_type": "code",
      "source": [
        "ft_cafeterias.to_csv('gs://comercio-cafe/TRATADOS/Ministério do Turismo/tratados_so_cafeterias.csv', index=False)"
      ],
      "metadata": {
        "id": "ylLwVtQ4hrvj"
      },
      "execution_count": null,
      "outputs": []
    },
    {
      "cell_type": "markdown",
      "source": [
        "**Enviando para o MongoDB - Backup**"
      ],
      "metadata": {
        "id": "f19Kd0TXsrsF"
      }
    },
    {
      "cell_type": "code",
      "source": [
        "db = client['projeto_final']\n",
        "turismocafeterias = db['tratados_cafeterias']\n",
        "turismocafeterias.count_documents({})"
      ],
      "metadata": {
        "id": "Ed3k962Is-UV"
      },
      "execution_count": null,
      "outputs": []
    },
    {
      "cell_type": "code",
      "source": [
        "df_dict = df.to_dict(\"records\")\n",
        "\n",
        "turismocafeterias.insert_many(df_dict)"
      ],
      "metadata": {
        "id": "PFrHU1iwtBM-"
      },
      "execution_count": null,
      "outputs": []
    },
    {
      "cell_type": "markdown",
      "source": [
        "#Dados da ABIC - Associação Brasileira da Industria do Café (10 maiores produtores)"
      ],
      "metadata": {
        "id": "cN6QbfnmiJNC"
      }
    },
    {
      "cell_type": "markdown",
      "source": [
        "### Extração"
      ],
      "metadata": {
        "id": "yi-18vXm7zOT"
      }
    },
    {
      "cell_type": "code",
      "source": [
        "df1 = pd.read_csv('gs://comercio-cafe/BRUTOS/ABIC/Webscraping ABIC/CSVs/100_maiores_2008.csv', sep=',', encoding='UTF-8')\n",
        "df2 = pd.read_csv('gs://comercio-cafe/BRUTOS/ABIC/Webscraping ABIC/CSVs/100_maiores_2009.csv', sep=',', encoding='UTF-8')\n",
        "df3 = pd.read_csv('gs://comercio-cafe/BRUTOS/ABIC/Webscraping ABIC/CSVs/100_maiores_2010.csv', sep=',', encoding='UTF-8')\n",
        "df4 = pd.read_csv('gs://comercio-cafe/BRUTOS/ABIC/Webscraping ABIC/CSVs/100_maiores_2011.csv', sep=',', encoding='UTF-8')\n",
        "df5 = pd.read_csv('gs://comercio-cafe/BRUTOS/ABIC/Webscraping ABIC/CSVs/100_maiores_2012.csv', sep=',', encoding='UTF-8')\n",
        "df6 = pd.read_csv('gs://comercio-cafe/BRUTOS/ABIC/Webscraping ABIC/CSVs/100_maiores_2013.csv', sep=',', encoding='UTF-8')\n",
        "df7 = pd.read_csv('gs://comercio-cafe/BRUTOS/ABIC/Webscraping ABIC/CSVs/100_maiores_2014.csv', sep=',', encoding='UTF-8')\n",
        "df8 = pd.read_csv('gs://comercio-cafe/BRUTOS/ABIC/Webscraping ABIC/CSVs/100_maiores_2015.csv', sep=',', encoding='UTF-8')\n",
        "df9 = pd.read_csv('gs://comercio-cafe/BRUTOS/ABIC/Webscraping ABIC/CSVs/100_maiores_2017.csv', sep=',', encoding='UTF-8')\n"
      ],
      "metadata": {
        "id": "8jd0bWzOs_ls"
      },
      "execution_count": null,
      "outputs": []
    },
    {
      "cell_type": "code",
      "source": [
        "df0 = pd.read_csv('gs://comercio-cafe/BRUTOS/ABIC/Webscraping ABIC/CSVs/100 maiores 2018.csv', sep=';', encoding='UTF-8')"
      ],
      "metadata": {
        "id": "E3y53yh6OZzQ"
      },
      "execution_count": null,
      "outputs": []
    },
    {
      "cell_type": "code",
      "source": [
        "df00 = pd.read_csv('gs://comercio-cafe/BRUTOS/ABIC/Webscraping ABIC/CSVs/100_maiores_2020.csv', sep=';', encoding='UTF-8')"
      ],
      "metadata": {
        "id": "FWuWjjkRJACT"
      },
      "execution_count": null,
      "outputs": []
    },
    {
      "cell_type": "code",
      "source": [
        "df01 = pd.read_csv('gs://comercio-cafe/BRUTOS/ABIC/Webscraping ABIC/CSVs/100_maiores_2021.csv', sep=',', encoding='UTF-8')"
      ],
      "metadata": {
        "id": "MObxBkeDMT35"
      },
      "execution_count": null,
      "outputs": []
    },
    {
      "cell_type": "code",
      "source": [
        "df02 = pd.read_csv('gs://comercio-cafe/BRUTOS/ABIC/Webscraping ABIC/CSVs/100_maiores_2022.csv', sep=',', encoding='UTF-8')"
      ],
      "metadata": {
        "id": "DcK_t14iMlkp"
      },
      "execution_count": null,
      "outputs": []
    },
    {
      "cell_type": "markdown",
      "source": [
        "##Pre-Análise\n",
        "---"
      ],
      "metadata": {
        "id": "EjVfcKwu7-7b"
      }
    },
    {
      "cell_type": "code",
      "source": [
        "df.info()"
      ],
      "metadata": {
        "colab": {
          "base_uri": "https://localhost:8080/"
        },
        "id": "kyDamm-Q-BpW",
        "outputId": "4416efbb-68c8-4f82-e081-8c38869d0668"
      },
      "execution_count": null,
      "outputs": [
        {
          "output_type": "stream",
          "name": "stdout",
          "text": [
            "<class 'pandas.core.frame.DataFrame'>\n",
            "Int64Index: 391 entries, 0 to 99\n",
            "Data columns (total 4 columns):\n",
            " #   Column         Non-Null Count  Dtype \n",
            "---  ------         --------------  ----- \n",
            " 0   classificacao  391 non-null    int64 \n",
            " 1   uf             391 non-null    object\n",
            " 2   empresa        391 non-null    object\n",
            " 3   ano            391 non-null    int64 \n",
            "dtypes: int64(2), object(2)\n",
            "memory usage: 15.3+ KB\n"
          ]
        }
      ]
    },
    {
      "cell_type": "code",
      "source": [
        "df.head(50)"
      ],
      "metadata": {
        "id": "m8X8UfQ4Ru3m"
      },
      "execution_count": null,
      "outputs": []
    },
    {
      "cell_type": "markdown",
      "source": [
        "## Transformação"
      ],
      "metadata": {
        "id": "Qxk4DaSYAAih"
      }
    },
    {
      "cell_type": "code",
      "source": [
        "def muda_ano(ano, df):\n",
        "  for i in range(len(df)):\n",
        "    df.loc[i, 'ano'] = ano\n",
        "\n",
        "df0['ano'] = df0['ano'].astype('int')\n",
        "\n",
        "df0"
      ],
      "metadata": {
        "id": "idTXpTAnAGLL"
      },
      "execution_count": null,
      "outputs": []
    },
    {
      "cell_type": "markdown",
      "source": [
        "###Limpeza"
      ],
      "metadata": {
        "id": "l0R_O4QYWFE1"
      }
    },
    {
      "cell_type": "code",
      "source": [
        "df02.drop(columns={'Unnamed: 0','wdt_ID'}, inplace=True)"
      ],
      "metadata": {
        "id": "B9qlodspRQq7"
      },
      "execution_count": null,
      "outputs": []
    },
    {
      "cell_type": "code",
      "source": [
        "df = pd.concat([df1,df2,df3,df4,df5,df,df7,df8,df9,df0,df00,df01,df02])"
      ],
      "metadata": {
        "id": "smwYdF-rS3Tt"
      },
      "execution_count": null,
      "outputs": []
    },
    {
      "cell_type": "code",
      "source": [
        "df02.rename(columns={'Classificação Atual':'Classific. Atual'}, inplace=True)"
      ],
      "metadata": {
        "id": "8Bwj1DB7TIRs"
      },
      "execution_count": null,
      "outputs": []
    },
    {
      "cell_type": "code",
      "source": [
        "df.drop(df.index, inplace=True)"
      ],
      "metadata": {
        "id": "V4SMrrjqTVqo"
      },
      "execution_count": null,
      "outputs": []
    },
    {
      "cell_type": "code",
      "source": [
        "df.to_excel('visualizar.xlsx', index=False)"
      ],
      "metadata": {
        "id": "gMc-DCpIWAfb"
      },
      "execution_count": null,
      "outputs": []
    },
    {
      "cell_type": "code",
      "source": [
        "df"
      ],
      "metadata": {
        "colab": {
          "base_uri": "https://localhost:8080/",
          "height": 423
        },
        "id": "OR52fjnnbA4Z",
        "outputId": "fcc8e253-b96e-47f6-f5c2-6fdcbd03c336"
      },
      "execution_count": null,
      "outputs": [
        {
          "output_type": "execute_result",
          "data": {
            "text/plain": [
              "   classificacao  uf                                      empresa   ano\n",
              "0              1  SP               SARA LEE CAFES DO BRASIL LTDA.  2009\n",
              "1              2  CE    SANTA CLARA IND. E COM. DE ALIMENTOS S/A.  2009\n",
              "2              3  SP          MELITTA DO BRASIL IND. E COM. LTDA.  2009\n",
              "3              4  SE                 INDS. ALIMENTS. MARATA LTDA.  2009\n",
              "4              5  SP                 CIA. CACIQUE DE CAFE SOLUVEL  2009\n",
              "..           ...  ..                                          ...   ...\n",
              "95            96  GO                            CALDAS ALIM. LTDA  2022\n",
              "96            97  RO                 CAFE KATUTA IMP. E EXP. LTDA  2022\n",
              "97            98  SP                        CAFE SAO JOAQUIM LTDA  2022\n",
              "98            99  MG  AGROPEC. FAZENDA DO BENTO IND. E COM. LTDA.  2022\n",
              "99           100  BA                          CAFE BOM SABOR LTDA  2022\n",
              "\n",
              "[402 rows x 4 columns]"
            ],
            "text/html": [
              "\n",
              "  <div id=\"df-6731dd72-81b0-4349-a883-822568bc4d8b\">\n",
              "    <div class=\"colab-df-container\">\n",
              "      <div>\n",
              "<style scoped>\n",
              "    .dataframe tbody tr th:only-of-type {\n",
              "        vertical-align: middle;\n",
              "    }\n",
              "\n",
              "    .dataframe tbody tr th {\n",
              "        vertical-align: top;\n",
              "    }\n",
              "\n",
              "    .dataframe thead th {\n",
              "        text-align: right;\n",
              "    }\n",
              "</style>\n",
              "<table border=\"1\" class=\"dataframe\">\n",
              "  <thead>\n",
              "    <tr style=\"text-align: right;\">\n",
              "      <th></th>\n",
              "      <th>classificacao</th>\n",
              "      <th>uf</th>\n",
              "      <th>empresa</th>\n",
              "      <th>ano</th>\n",
              "    </tr>\n",
              "  </thead>\n",
              "  <tbody>\n",
              "    <tr>\n",
              "      <th>0</th>\n",
              "      <td>1</td>\n",
              "      <td>SP</td>\n",
              "      <td>SARA LEE CAFES DO BRASIL LTDA.</td>\n",
              "      <td>2009</td>\n",
              "    </tr>\n",
              "    <tr>\n",
              "      <th>1</th>\n",
              "      <td>2</td>\n",
              "      <td>CE</td>\n",
              "      <td>SANTA CLARA IND. E COM. DE ALIMENTOS S/A.</td>\n",
              "      <td>2009</td>\n",
              "    </tr>\n",
              "    <tr>\n",
              "      <th>2</th>\n",
              "      <td>3</td>\n",
              "      <td>SP</td>\n",
              "      <td>MELITTA DO BRASIL IND. E COM. LTDA.</td>\n",
              "      <td>2009</td>\n",
              "    </tr>\n",
              "    <tr>\n",
              "      <th>3</th>\n",
              "      <td>4</td>\n",
              "      <td>SE</td>\n",
              "      <td>INDS. ALIMENTS. MARATA LTDA.</td>\n",
              "      <td>2009</td>\n",
              "    </tr>\n",
              "    <tr>\n",
              "      <th>4</th>\n",
              "      <td>5</td>\n",
              "      <td>SP</td>\n",
              "      <td>CIA. CACIQUE DE CAFE SOLUVEL</td>\n",
              "      <td>2009</td>\n",
              "    </tr>\n",
              "    <tr>\n",
              "      <th>...</th>\n",
              "      <td>...</td>\n",
              "      <td>...</td>\n",
              "      <td>...</td>\n",
              "      <td>...</td>\n",
              "    </tr>\n",
              "    <tr>\n",
              "      <th>95</th>\n",
              "      <td>96</td>\n",
              "      <td>GO</td>\n",
              "      <td>CALDAS ALIM. LTDA</td>\n",
              "      <td>2022</td>\n",
              "    </tr>\n",
              "    <tr>\n",
              "      <th>96</th>\n",
              "      <td>97</td>\n",
              "      <td>RO</td>\n",
              "      <td>CAFE KATUTA IMP. E EXP. LTDA</td>\n",
              "      <td>2022</td>\n",
              "    </tr>\n",
              "    <tr>\n",
              "      <th>97</th>\n",
              "      <td>98</td>\n",
              "      <td>SP</td>\n",
              "      <td>CAFE SAO JOAQUIM LTDA</td>\n",
              "      <td>2022</td>\n",
              "    </tr>\n",
              "    <tr>\n",
              "      <th>98</th>\n",
              "      <td>99</td>\n",
              "      <td>MG</td>\n",
              "      <td>AGROPEC. FAZENDA DO BENTO IND. E COM. LTDA.</td>\n",
              "      <td>2022</td>\n",
              "    </tr>\n",
              "    <tr>\n",
              "      <th>99</th>\n",
              "      <td>100</td>\n",
              "      <td>BA</td>\n",
              "      <td>CAFE BOM SABOR LTDA</td>\n",
              "      <td>2022</td>\n",
              "    </tr>\n",
              "  </tbody>\n",
              "</table>\n",
              "<p>402 rows × 4 columns</p>\n",
              "</div>\n",
              "      <button class=\"colab-df-convert\" onclick=\"convertToInteractive('df-6731dd72-81b0-4349-a883-822568bc4d8b')\"\n",
              "              title=\"Convert this dataframe to an interactive table.\"\n",
              "              style=\"display:none;\">\n",
              "        \n",
              "  <svg xmlns=\"http://www.w3.org/2000/svg\" height=\"24px\"viewBox=\"0 0 24 24\"\n",
              "       width=\"24px\">\n",
              "    <path d=\"M0 0h24v24H0V0z\" fill=\"none\"/>\n",
              "    <path d=\"M18.56 5.44l.94 2.06.94-2.06 2.06-.94-2.06-.94-.94-2.06-.94 2.06-2.06.94zm-11 1L8.5 8.5l.94-2.06 2.06-.94-2.06-.94L8.5 2.5l-.94 2.06-2.06.94zm10 10l.94 2.06.94-2.06 2.06-.94-2.06-.94-.94-2.06-.94 2.06-2.06.94z\"/><path d=\"M17.41 7.96l-1.37-1.37c-.4-.4-.92-.59-1.43-.59-.52 0-1.04.2-1.43.59L10.3 9.45l-7.72 7.72c-.78.78-.78 2.05 0 2.83L4 21.41c.39.39.9.59 1.41.59.51 0 1.02-.2 1.41-.59l7.78-7.78 2.81-2.81c.8-.78.8-2.07 0-2.86zM5.41 20L4 18.59l7.72-7.72 1.47 1.35L5.41 20z\"/>\n",
              "  </svg>\n",
              "      </button>\n",
              "      \n",
              "  <style>\n",
              "    .colab-df-container {\n",
              "      display:flex;\n",
              "      flex-wrap:wrap;\n",
              "      gap: 12px;\n",
              "    }\n",
              "\n",
              "    .colab-df-convert {\n",
              "      background-color: #E8F0FE;\n",
              "      border: none;\n",
              "      border-radius: 50%;\n",
              "      cursor: pointer;\n",
              "      display: none;\n",
              "      fill: #1967D2;\n",
              "      height: 32px;\n",
              "      padding: 0 0 0 0;\n",
              "      width: 32px;\n",
              "    }\n",
              "\n",
              "    .colab-df-convert:hover {\n",
              "      background-color: #E2EBFA;\n",
              "      box-shadow: 0px 1px 2px rgba(60, 64, 67, 0.3), 0px 1px 3px 1px rgba(60, 64, 67, 0.15);\n",
              "      fill: #174EA6;\n",
              "    }\n",
              "\n",
              "    [theme=dark] .colab-df-convert {\n",
              "      background-color: #3B4455;\n",
              "      fill: #D2E3FC;\n",
              "    }\n",
              "\n",
              "    [theme=dark] .colab-df-convert:hover {\n",
              "      background-color: #434B5C;\n",
              "      box-shadow: 0px 1px 3px 1px rgba(0, 0, 0, 0.15);\n",
              "      filter: drop-shadow(0px 1px 2px rgba(0, 0, 0, 0.3));\n",
              "      fill: #FFFFFF;\n",
              "    }\n",
              "  </style>\n",
              "\n",
              "      <script>\n",
              "        const buttonEl =\n",
              "          document.querySelector('#df-6731dd72-81b0-4349-a883-822568bc4d8b button.colab-df-convert');\n",
              "        buttonEl.style.display =\n",
              "          google.colab.kernel.accessAllowed ? 'block' : 'none';\n",
              "\n",
              "        async function convertToInteractive(key) {\n",
              "          const element = document.querySelector('#df-6731dd72-81b0-4349-a883-822568bc4d8b');\n",
              "          const dataTable =\n",
              "            await google.colab.kernel.invokeFunction('convertToInteractive',\n",
              "                                                     [key], {});\n",
              "          if (!dataTable) return;\n",
              "\n",
              "          const docLinkHtml = 'Like what you see? Visit the ' +\n",
              "            '<a target=\"_blank\" href=https://colab.research.google.com/notebooks/data_table.ipynb>data table notebook</a>'\n",
              "            + ' to learn more about interactive tables.';\n",
              "          element.innerHTML = '';\n",
              "          dataTable['output_type'] = 'display_data';\n",
              "          await google.colab.output.renderOutput(dataTable, element);\n",
              "          const docLink = document.createElement('div');\n",
              "          docLink.innerHTML = docLinkHtml;\n",
              "          element.appendChild(docLink);\n",
              "        }\n",
              "      </script>\n",
              "    </div>\n",
              "  </div>\n",
              "  "
            ]
          },
          "metadata": {},
          "execution_count": 287
        }
      ]
    },
    {
      "cell_type": "markdown",
      "source": [
        "###Normalização"
      ],
      "metadata": {
        "id": "ScpFcqdoWKN_"
      }
    },
    {
      "cell_type": "code",
      "source": [
        "df.rename(columns={'Classific. Atual':'classificacao',\n",
        "                     'UF':'uf',\n",
        "                     'EMPRESA':'empresa'}, inplace=True)"
      ],
      "metadata": {
        "id": "7pgmsMGscdW4"
      },
      "execution_count": null,
      "outputs": []
    },
    {
      "cell_type": "code",
      "source": [
        "df.loc[df.ano == 2018]"
      ],
      "metadata": {
        "colab": {
          "base_uri": "https://localhost:8080/",
          "height": 423
        },
        "id": "QV61fGNWc-jw",
        "outputId": "c82eac8e-5875-4bb3-d0d9-71942bb3a43e"
      },
      "execution_count": null,
      "outputs": [
        {
          "output_type": "execute_result",
          "data": {
            "text/plain": [
              "    classificacao  uf                                      empresa   ano\n",
              "0               1  CE                          GRUPO TRES CORACOES  2018\n",
              "1               2  SP   JACOBS DOUWE EGBERTS BR COM. DE CAFES LTDA  2018\n",
              "2               3  SE                 INDS. ALIMENTS. MARATA LTDA.  2018\n",
              "3               4  SP          MELITTA DO BRASIL IND. E COM. LTDA.  2018\n",
              "4               5  SP                       MITSUI ALIMENTOS LTDA.  2018\n",
              "..            ...  ..                                          ...   ...\n",
              "95             96  MG                           CAFE CHAPADAO LTDA  2018\n",
              "96             97  MG  AGROPEC. FAZENDA DO BENTO IND. E COM. LTDA.  2018\n",
              "97             98  PR                   COCARI COOP. AGROP. E INDL  2018\n",
              "98             99  MG                             TORREF. BIA LTDA  2018\n",
              "99            100  MT                          CAFE CAMARADA LTDA.  2018\n",
              "\n",
              "[99 rows x 4 columns]"
            ],
            "text/html": [
              "\n",
              "  <div id=\"df-0fbe5885-8ccc-4964-8be5-9dffc1eec5c5\">\n",
              "    <div class=\"colab-df-container\">\n",
              "      <div>\n",
              "<style scoped>\n",
              "    .dataframe tbody tr th:only-of-type {\n",
              "        vertical-align: middle;\n",
              "    }\n",
              "\n",
              "    .dataframe tbody tr th {\n",
              "        vertical-align: top;\n",
              "    }\n",
              "\n",
              "    .dataframe thead th {\n",
              "        text-align: right;\n",
              "    }\n",
              "</style>\n",
              "<table border=\"1\" class=\"dataframe\">\n",
              "  <thead>\n",
              "    <tr style=\"text-align: right;\">\n",
              "      <th></th>\n",
              "      <th>classificacao</th>\n",
              "      <th>uf</th>\n",
              "      <th>empresa</th>\n",
              "      <th>ano</th>\n",
              "    </tr>\n",
              "  </thead>\n",
              "  <tbody>\n",
              "    <tr>\n",
              "      <th>0</th>\n",
              "      <td>1</td>\n",
              "      <td>CE</td>\n",
              "      <td>GRUPO TRES CORACOES</td>\n",
              "      <td>2018</td>\n",
              "    </tr>\n",
              "    <tr>\n",
              "      <th>1</th>\n",
              "      <td>2</td>\n",
              "      <td>SP</td>\n",
              "      <td>JACOBS DOUWE EGBERTS BR COM. DE CAFES LTDA</td>\n",
              "      <td>2018</td>\n",
              "    </tr>\n",
              "    <tr>\n",
              "      <th>2</th>\n",
              "      <td>3</td>\n",
              "      <td>SE</td>\n",
              "      <td>INDS. ALIMENTS. MARATA LTDA.</td>\n",
              "      <td>2018</td>\n",
              "    </tr>\n",
              "    <tr>\n",
              "      <th>3</th>\n",
              "      <td>4</td>\n",
              "      <td>SP</td>\n",
              "      <td>MELITTA DO BRASIL IND. E COM. LTDA.</td>\n",
              "      <td>2018</td>\n",
              "    </tr>\n",
              "    <tr>\n",
              "      <th>4</th>\n",
              "      <td>5</td>\n",
              "      <td>SP</td>\n",
              "      <td>MITSUI ALIMENTOS LTDA.</td>\n",
              "      <td>2018</td>\n",
              "    </tr>\n",
              "    <tr>\n",
              "      <th>...</th>\n",
              "      <td>...</td>\n",
              "      <td>...</td>\n",
              "      <td>...</td>\n",
              "      <td>...</td>\n",
              "    </tr>\n",
              "    <tr>\n",
              "      <th>95</th>\n",
              "      <td>96</td>\n",
              "      <td>MG</td>\n",
              "      <td>CAFE CHAPADAO LTDA</td>\n",
              "      <td>2018</td>\n",
              "    </tr>\n",
              "    <tr>\n",
              "      <th>96</th>\n",
              "      <td>97</td>\n",
              "      <td>MG</td>\n",
              "      <td>AGROPEC. FAZENDA DO BENTO IND. E COM. LTDA.</td>\n",
              "      <td>2018</td>\n",
              "    </tr>\n",
              "    <tr>\n",
              "      <th>97</th>\n",
              "      <td>98</td>\n",
              "      <td>PR</td>\n",
              "      <td>COCARI COOP. AGROP. E INDL</td>\n",
              "      <td>2018</td>\n",
              "    </tr>\n",
              "    <tr>\n",
              "      <th>98</th>\n",
              "      <td>99</td>\n",
              "      <td>MG</td>\n",
              "      <td>TORREF. BIA LTDA</td>\n",
              "      <td>2018</td>\n",
              "    </tr>\n",
              "    <tr>\n",
              "      <th>99</th>\n",
              "      <td>100</td>\n",
              "      <td>MT</td>\n",
              "      <td>CAFE CAMARADA LTDA.</td>\n",
              "      <td>2018</td>\n",
              "    </tr>\n",
              "  </tbody>\n",
              "</table>\n",
              "<p>99 rows × 4 columns</p>\n",
              "</div>\n",
              "      <button class=\"colab-df-convert\" onclick=\"convertToInteractive('df-0fbe5885-8ccc-4964-8be5-9dffc1eec5c5')\"\n",
              "              title=\"Convert this dataframe to an interactive table.\"\n",
              "              style=\"display:none;\">\n",
              "        \n",
              "  <svg xmlns=\"http://www.w3.org/2000/svg\" height=\"24px\"viewBox=\"0 0 24 24\"\n",
              "       width=\"24px\">\n",
              "    <path d=\"M0 0h24v24H0V0z\" fill=\"none\"/>\n",
              "    <path d=\"M18.56 5.44l.94 2.06.94-2.06 2.06-.94-2.06-.94-.94-2.06-.94 2.06-2.06.94zm-11 1L8.5 8.5l.94-2.06 2.06-.94-2.06-.94L8.5 2.5l-.94 2.06-2.06.94zm10 10l.94 2.06.94-2.06 2.06-.94-2.06-.94-.94-2.06-.94 2.06-2.06.94z\"/><path d=\"M17.41 7.96l-1.37-1.37c-.4-.4-.92-.59-1.43-.59-.52 0-1.04.2-1.43.59L10.3 9.45l-7.72 7.72c-.78.78-.78 2.05 0 2.83L4 21.41c.39.39.9.59 1.41.59.51 0 1.02-.2 1.41-.59l7.78-7.78 2.81-2.81c.8-.78.8-2.07 0-2.86zM5.41 20L4 18.59l7.72-7.72 1.47 1.35L5.41 20z\"/>\n",
              "  </svg>\n",
              "      </button>\n",
              "      \n",
              "  <style>\n",
              "    .colab-df-container {\n",
              "      display:flex;\n",
              "      flex-wrap:wrap;\n",
              "      gap: 12px;\n",
              "    }\n",
              "\n",
              "    .colab-df-convert {\n",
              "      background-color: #E8F0FE;\n",
              "      border: none;\n",
              "      border-radius: 50%;\n",
              "      cursor: pointer;\n",
              "      display: none;\n",
              "      fill: #1967D2;\n",
              "      height: 32px;\n",
              "      padding: 0 0 0 0;\n",
              "      width: 32px;\n",
              "    }\n",
              "\n",
              "    .colab-df-convert:hover {\n",
              "      background-color: #E2EBFA;\n",
              "      box-shadow: 0px 1px 2px rgba(60, 64, 67, 0.3), 0px 1px 3px 1px rgba(60, 64, 67, 0.15);\n",
              "      fill: #174EA6;\n",
              "    }\n",
              "\n",
              "    [theme=dark] .colab-df-convert {\n",
              "      background-color: #3B4455;\n",
              "      fill: #D2E3FC;\n",
              "    }\n",
              "\n",
              "    [theme=dark] .colab-df-convert:hover {\n",
              "      background-color: #434B5C;\n",
              "      box-shadow: 0px 1px 3px 1px rgba(0, 0, 0, 0.15);\n",
              "      filter: drop-shadow(0px 1px 2px rgba(0, 0, 0, 0.3));\n",
              "      fill: #FFFFFF;\n",
              "    }\n",
              "  </style>\n",
              "\n",
              "      <script>\n",
              "        const buttonEl =\n",
              "          document.querySelector('#df-0fbe5885-8ccc-4964-8be5-9dffc1eec5c5 button.colab-df-convert');\n",
              "        buttonEl.style.display =\n",
              "          google.colab.kernel.accessAllowed ? 'block' : 'none';\n",
              "\n",
              "        async function convertToInteractive(key) {\n",
              "          const element = document.querySelector('#df-0fbe5885-8ccc-4964-8be5-9dffc1eec5c5');\n",
              "          const dataTable =\n",
              "            await google.colab.kernel.invokeFunction('convertToInteractive',\n",
              "                                                     [key], {});\n",
              "          if (!dataTable) return;\n",
              "\n",
              "          const docLinkHtml = 'Like what you see? Visit the ' +\n",
              "            '<a target=\"_blank\" href=https://colab.research.google.com/notebooks/data_table.ipynb>data table notebook</a>'\n",
              "            + ' to learn more about interactive tables.';\n",
              "          element.innerHTML = '';\n",
              "          dataTable['output_type'] = 'display_data';\n",
              "          await google.colab.output.renderOutput(dataTable, element);\n",
              "          const docLink = document.createElement('div');\n",
              "          docLink.innerHTML = docLinkHtml;\n",
              "          element.appendChild(docLink);\n",
              "        }\n",
              "      </script>\n",
              "    </div>\n",
              "  </div>\n",
              "  "
            ]
          },
          "metadata": {},
          "execution_count": 341
        }
      ]
    },
    {
      "cell_type": "code",
      "source": [
        "df.loc[df.classificacao == 'Classific. Atual']"
      ],
      "metadata": {
        "id": "KM5AsFyBiyP-"
      },
      "execution_count": null,
      "outputs": []
    },
    {
      "cell_type": "code",
      "source": [
        "df['classificacao'] = df['classificacao'].astype('int')"
      ],
      "metadata": {
        "id": "Y3_FFFk8nqls"
      },
      "execution_count": null,
      "outputs": []
    },
    {
      "cell_type": "code",
      "source": [
        "df.loc[df['classificacao'].str.contains('Classificacão Atual')]\n"
      ],
      "metadata": {
        "colab": {
          "base_uri": "https://localhost:8080/",
          "height": 49
        },
        "id": "s6EwOEzymu4a",
        "outputId": "c1aba874-7743-4073-ce7a-24be364527b8"
      },
      "execution_count": null,
      "outputs": [
        {
          "output_type": "execute_result",
          "data": {
            "text/plain": [
              "Empty DataFrame\n",
              "Columns: [classificacao, uf, empresa, ano]\n",
              "Index: []"
            ],
            "text/html": [
              "\n",
              "  <div id=\"df-22efe4b8-56f4-4eb4-aeca-7b8783cdc421\">\n",
              "    <div class=\"colab-df-container\">\n",
              "      <div>\n",
              "<style scoped>\n",
              "    .dataframe tbody tr th:only-of-type {\n",
              "        vertical-align: middle;\n",
              "    }\n",
              "\n",
              "    .dataframe tbody tr th {\n",
              "        vertical-align: top;\n",
              "    }\n",
              "\n",
              "    .dataframe thead th {\n",
              "        text-align: right;\n",
              "    }\n",
              "</style>\n",
              "<table border=\"1\" class=\"dataframe\">\n",
              "  <thead>\n",
              "    <tr style=\"text-align: right;\">\n",
              "      <th></th>\n",
              "      <th>classificacao</th>\n",
              "      <th>uf</th>\n",
              "      <th>empresa</th>\n",
              "      <th>ano</th>\n",
              "    </tr>\n",
              "  </thead>\n",
              "  <tbody>\n",
              "  </tbody>\n",
              "</table>\n",
              "</div>\n",
              "      <button class=\"colab-df-convert\" onclick=\"convertToInteractive('df-22efe4b8-56f4-4eb4-aeca-7b8783cdc421')\"\n",
              "              title=\"Convert this dataframe to an interactive table.\"\n",
              "              style=\"display:none;\">\n",
              "        \n",
              "  <svg xmlns=\"http://www.w3.org/2000/svg\" height=\"24px\"viewBox=\"0 0 24 24\"\n",
              "       width=\"24px\">\n",
              "    <path d=\"M0 0h24v24H0V0z\" fill=\"none\"/>\n",
              "    <path d=\"M18.56 5.44l.94 2.06.94-2.06 2.06-.94-2.06-.94-.94-2.06-.94 2.06-2.06.94zm-11 1L8.5 8.5l.94-2.06 2.06-.94-2.06-.94L8.5 2.5l-.94 2.06-2.06.94zm10 10l.94 2.06.94-2.06 2.06-.94-2.06-.94-.94-2.06-.94 2.06-2.06.94z\"/><path d=\"M17.41 7.96l-1.37-1.37c-.4-.4-.92-.59-1.43-.59-.52 0-1.04.2-1.43.59L10.3 9.45l-7.72 7.72c-.78.78-.78 2.05 0 2.83L4 21.41c.39.39.9.59 1.41.59.51 0 1.02-.2 1.41-.59l7.78-7.78 2.81-2.81c.8-.78.8-2.07 0-2.86zM5.41 20L4 18.59l7.72-7.72 1.47 1.35L5.41 20z\"/>\n",
              "  </svg>\n",
              "      </button>\n",
              "      \n",
              "  <style>\n",
              "    .colab-df-container {\n",
              "      display:flex;\n",
              "      flex-wrap:wrap;\n",
              "      gap: 12px;\n",
              "    }\n",
              "\n",
              "    .colab-df-convert {\n",
              "      background-color: #E8F0FE;\n",
              "      border: none;\n",
              "      border-radius: 50%;\n",
              "      cursor: pointer;\n",
              "      display: none;\n",
              "      fill: #1967D2;\n",
              "      height: 32px;\n",
              "      padding: 0 0 0 0;\n",
              "      width: 32px;\n",
              "    }\n",
              "\n",
              "    .colab-df-convert:hover {\n",
              "      background-color: #E2EBFA;\n",
              "      box-shadow: 0px 1px 2px rgba(60, 64, 67, 0.3), 0px 1px 3px 1px rgba(60, 64, 67, 0.15);\n",
              "      fill: #174EA6;\n",
              "    }\n",
              "\n",
              "    [theme=dark] .colab-df-convert {\n",
              "      background-color: #3B4455;\n",
              "      fill: #D2E3FC;\n",
              "    }\n",
              "\n",
              "    [theme=dark] .colab-df-convert:hover {\n",
              "      background-color: #434B5C;\n",
              "      box-shadow: 0px 1px 3px 1px rgba(0, 0, 0, 0.15);\n",
              "      filter: drop-shadow(0px 1px 2px rgba(0, 0, 0, 0.3));\n",
              "      fill: #FFFFFF;\n",
              "    }\n",
              "  </style>\n",
              "\n",
              "      <script>\n",
              "        const buttonEl =\n",
              "          document.querySelector('#df-22efe4b8-56f4-4eb4-aeca-7b8783cdc421 button.colab-df-convert');\n",
              "        buttonEl.style.display =\n",
              "          google.colab.kernel.accessAllowed ? 'block' : 'none';\n",
              "\n",
              "        async function convertToInteractive(key) {\n",
              "          const element = document.querySelector('#df-22efe4b8-56f4-4eb4-aeca-7b8783cdc421');\n",
              "          const dataTable =\n",
              "            await google.colab.kernel.invokeFunction('convertToInteractive',\n",
              "                                                     [key], {});\n",
              "          if (!dataTable) return;\n",
              "\n",
              "          const docLinkHtml = 'Like what you see? Visit the ' +\n",
              "            '<a target=\"_blank\" href=https://colab.research.google.com/notebooks/data_table.ipynb>data table notebook</a>'\n",
              "            + ' to learn more about interactive tables.';\n",
              "          element.innerHTML = '';\n",
              "          dataTable['output_type'] = 'display_data';\n",
              "          await google.colab.output.renderOutput(dataTable, element);\n",
              "          const docLink = document.createElement('div');\n",
              "          docLink.innerHTML = docLinkHtml;\n",
              "          element.appendChild(docLink);\n",
              "        }\n",
              "      </script>\n",
              "    </div>\n",
              "  </div>\n",
              "  "
            ]
          },
          "metadata": {},
          "execution_count": 337
        }
      ]
    },
    {
      "cell_type": "code",
      "source": [
        "df.drop(df[df['classificacao'].str.contains('Classific. Atual')].index, inplace=True)\n",
        "df.drop(df[df['classificacao'].str.contains('Classificacão Atual')].index, inplace=True)"
      ],
      "metadata": {
        "id": "i3nq_A4kpLjB"
      },
      "execution_count": null,
      "outputs": []
    },
    {
      "cell_type": "code",
      "source": [
        "df.drop(df[df['classificacao'] > 10].index, inplace=True)"
      ],
      "metadata": {
        "id": "TzDVM2RrqCvY"
      },
      "execution_count": null,
      "outputs": []
    },
    {
      "cell_type": "markdown",
      "source": [
        "##Envio para o bucket"
      ],
      "metadata": {
        "id": "iqPKSTHasQae"
      }
    },
    {
      "cell_type": "code",
      "source": [
        "df.to_csv('10_maiores_tratados.csv', index=False)"
      ],
      "metadata": {
        "id": "M1TQVfoGsQLP"
      },
      "execution_count": null,
      "outputs": []
    },
    {
      "cell_type": "markdown",
      "source": [
        "# Dados da ABIC - Associação Brasileira da Industria do Café (Dados de Consumo Interno)\n",
        "---"
      ],
      "metadata": {
        "id": "bSBwf4ObuNn_"
      }
    },
    {
      "cell_type": "markdown",
      "source": [
        "### Extração"
      ],
      "metadata": {
        "id": "2dM7ERgsLTAz"
      }
    },
    {
      "cell_type": "code",
      "source": [
        "df = pd.read_csv('gs://comercio-cafe/BRUTOS/ABIC/Webscraping ABIC/CSVs/consumointerno.csv', sep=',', encoding='UTF-8')"
      ],
      "metadata": {
        "id": "0pCoZDLDKzDE"
      },
      "execution_count": null,
      "outputs": []
    },
    {
      "cell_type": "markdown",
      "source": [
        "### Pré-Analise"
      ],
      "metadata": {
        "id": "7j34mxu-LYid"
      }
    },
    {
      "cell_type": "code",
      "source": [
        "df.info()"
      ],
      "metadata": {
        "colab": {
          "base_uri": "https://localhost:8080/"
        },
        "id": "1ZTbIplHLD1y",
        "outputId": "1cfb13b3-c0a3-4b25-ad2b-ae00987f4f37"
      },
      "execution_count": null,
      "outputs": [
        {
          "output_type": "stream",
          "name": "stdout",
          "text": [
            "<class 'pandas.core.frame.DataFrame'>\n",
            "RangeIndex: 298 entries, 0 to 297\n",
            "Data columns (total 2 columns):\n",
            " #   Column       Non-Null Count  Dtype \n",
            "---  ------       --------------  ----- \n",
            " 0   mes_ano      298 non-null    object\n",
            " 1   tradicional  293 non-null    object\n",
            "dtypes: object(2)\n",
            "memory usage: 4.8+ KB\n"
          ]
        }
      ]
    },
    {
      "cell_type": "code",
      "source": [
        "df"
      ],
      "metadata": {
        "colab": {
          "base_uri": "https://localhost:8080/",
          "height": 424
        },
        "id": "lCSDUBBOLGc3",
        "outputId": "72c30784-6506-4bfa-e8db-c63fd3ad1dd5"
      },
      "execution_count": null,
      "outputs": [
        {
          "output_type": "execute_result",
          "data": {
            "text/plain": [
              "    Unnamed: 0                 ANO     Unnamed: 1_level_0  \\\n",
              "0          NaN  Unnamed: 0_level_1  SOMENTE TORRADO/MOÍDO   \n",
              "1          0.0                1965                    NaN   \n",
              "2          1.0                1985                   60.0   \n",
              "3          2.0                1990                    NaN   \n",
              "4          3.0                1991                    NaN   \n",
              "..         ...                 ...                    ...   \n",
              "31        30.0                2018                  199.0   \n",
              "32        31.0                2019                  200.0   \n",
              "33        32.0                2020                  203.0   \n",
              "34        33.0                2021                  205.0   \n",
              "35        34.0                2022                  203.0   \n",
              "\n",
              "                            Unnamed: 2_level_0  \\\n",
              "0   TOTAL INCLUSIVE SOLÚVEL (milhões de sacas)   \n",
              "1                                           81   \n",
              "2                                           64   \n",
              "3                                           82   \n",
              "4                                           85   \n",
              "..                                         ...   \n",
              "31                                         210   \n",
              "32                                         209   \n",
              "33                                         212   \n",
              "34                                         215   \n",
              "35                                         213   \n",
              "\n",
              "   CONSUMO PER CAPITA (kg / habitante ano)  \\\n",
              "0                            kg café verde   \n",
              "1                                      591   \n",
              "2                                      283   \n",
              "3                                      339   \n",
              "4                                      347   \n",
              "..                                     ...   \n",
              "31                                     602   \n",
              "32                                     595   \n",
              "33                                     599   \n",
              "34                                     606   \n",
              "35                                     596   \n",
              "\n",
              "   CONSUMO PER CAPITA (kg / habitante ano).1  \n",
              "0                            kg café torrado  \n",
              "1                                        472  \n",
              "2                                        227  \n",
              "3                                        271  \n",
              "4                                        278  \n",
              "..                                       ...  \n",
              "31                                       482  \n",
              "32                                       476  \n",
              "33                                       479  \n",
              "34                                       484  \n",
              "35                                       477  \n",
              "\n",
              "[36 rows x 6 columns]"
            ],
            "text/html": [
              "\n",
              "  <div id=\"df-3434ed1a-0b69-4bbc-a5fd-0495dd767558\">\n",
              "    <div class=\"colab-df-container\">\n",
              "      <div>\n",
              "<style scoped>\n",
              "    .dataframe tbody tr th:only-of-type {\n",
              "        vertical-align: middle;\n",
              "    }\n",
              "\n",
              "    .dataframe tbody tr th {\n",
              "        vertical-align: top;\n",
              "    }\n",
              "\n",
              "    .dataframe thead th {\n",
              "        text-align: right;\n",
              "    }\n",
              "</style>\n",
              "<table border=\"1\" class=\"dataframe\">\n",
              "  <thead>\n",
              "    <tr style=\"text-align: right;\">\n",
              "      <th></th>\n",
              "      <th>Unnamed: 0</th>\n",
              "      <th>ANO</th>\n",
              "      <th>Unnamed: 1_level_0</th>\n",
              "      <th>Unnamed: 2_level_0</th>\n",
              "      <th>CONSUMO PER CAPITA (kg / habitante ano)</th>\n",
              "      <th>CONSUMO PER CAPITA (kg / habitante ano).1</th>\n",
              "    </tr>\n",
              "  </thead>\n",
              "  <tbody>\n",
              "    <tr>\n",
              "      <th>0</th>\n",
              "      <td>NaN</td>\n",
              "      <td>Unnamed: 0_level_1</td>\n",
              "      <td>SOMENTE TORRADO/MOÍDO</td>\n",
              "      <td>TOTAL INCLUSIVE SOLÚVEL (milhões de sacas)</td>\n",
              "      <td>kg café verde</td>\n",
              "      <td>kg café torrado</td>\n",
              "    </tr>\n",
              "    <tr>\n",
              "      <th>1</th>\n",
              "      <td>0.0</td>\n",
              "      <td>1965</td>\n",
              "      <td>NaN</td>\n",
              "      <td>81</td>\n",
              "      <td>591</td>\n",
              "      <td>472</td>\n",
              "    </tr>\n",
              "    <tr>\n",
              "      <th>2</th>\n",
              "      <td>1.0</td>\n",
              "      <td>1985</td>\n",
              "      <td>60.0</td>\n",
              "      <td>64</td>\n",
              "      <td>283</td>\n",
              "      <td>227</td>\n",
              "    </tr>\n",
              "    <tr>\n",
              "      <th>3</th>\n",
              "      <td>2.0</td>\n",
              "      <td>1990</td>\n",
              "      <td>NaN</td>\n",
              "      <td>82</td>\n",
              "      <td>339</td>\n",
              "      <td>271</td>\n",
              "    </tr>\n",
              "    <tr>\n",
              "      <th>4</th>\n",
              "      <td>3.0</td>\n",
              "      <td>1991</td>\n",
              "      <td>NaN</td>\n",
              "      <td>85</td>\n",
              "      <td>347</td>\n",
              "      <td>278</td>\n",
              "    </tr>\n",
              "    <tr>\n",
              "      <th>...</th>\n",
              "      <td>...</td>\n",
              "      <td>...</td>\n",
              "      <td>...</td>\n",
              "      <td>...</td>\n",
              "      <td>...</td>\n",
              "      <td>...</td>\n",
              "    </tr>\n",
              "    <tr>\n",
              "      <th>31</th>\n",
              "      <td>30.0</td>\n",
              "      <td>2018</td>\n",
              "      <td>199.0</td>\n",
              "      <td>210</td>\n",
              "      <td>602</td>\n",
              "      <td>482</td>\n",
              "    </tr>\n",
              "    <tr>\n",
              "      <th>32</th>\n",
              "      <td>31.0</td>\n",
              "      <td>2019</td>\n",
              "      <td>200.0</td>\n",
              "      <td>209</td>\n",
              "      <td>595</td>\n",
              "      <td>476</td>\n",
              "    </tr>\n",
              "    <tr>\n",
              "      <th>33</th>\n",
              "      <td>32.0</td>\n",
              "      <td>2020</td>\n",
              "      <td>203.0</td>\n",
              "      <td>212</td>\n",
              "      <td>599</td>\n",
              "      <td>479</td>\n",
              "    </tr>\n",
              "    <tr>\n",
              "      <th>34</th>\n",
              "      <td>33.0</td>\n",
              "      <td>2021</td>\n",
              "      <td>205.0</td>\n",
              "      <td>215</td>\n",
              "      <td>606</td>\n",
              "      <td>484</td>\n",
              "    </tr>\n",
              "    <tr>\n",
              "      <th>35</th>\n",
              "      <td>34.0</td>\n",
              "      <td>2022</td>\n",
              "      <td>203.0</td>\n",
              "      <td>213</td>\n",
              "      <td>596</td>\n",
              "      <td>477</td>\n",
              "    </tr>\n",
              "  </tbody>\n",
              "</table>\n",
              "<p>36 rows × 6 columns</p>\n",
              "</div>\n",
              "      <button class=\"colab-df-convert\" onclick=\"convertToInteractive('df-3434ed1a-0b69-4bbc-a5fd-0495dd767558')\"\n",
              "              title=\"Convert this dataframe to an interactive table.\"\n",
              "              style=\"display:none;\">\n",
              "        \n",
              "  <svg xmlns=\"http://www.w3.org/2000/svg\" height=\"24px\"viewBox=\"0 0 24 24\"\n",
              "       width=\"24px\">\n",
              "    <path d=\"M0 0h24v24H0V0z\" fill=\"none\"/>\n",
              "    <path d=\"M18.56 5.44l.94 2.06.94-2.06 2.06-.94-2.06-.94-.94-2.06-.94 2.06-2.06.94zm-11 1L8.5 8.5l.94-2.06 2.06-.94-2.06-.94L8.5 2.5l-.94 2.06-2.06.94zm10 10l.94 2.06.94-2.06 2.06-.94-2.06-.94-.94-2.06-.94 2.06-2.06.94z\"/><path d=\"M17.41 7.96l-1.37-1.37c-.4-.4-.92-.59-1.43-.59-.52 0-1.04.2-1.43.59L10.3 9.45l-7.72 7.72c-.78.78-.78 2.05 0 2.83L4 21.41c.39.39.9.59 1.41.59.51 0 1.02-.2 1.41-.59l7.78-7.78 2.81-2.81c.8-.78.8-2.07 0-2.86zM5.41 20L4 18.59l7.72-7.72 1.47 1.35L5.41 20z\"/>\n",
              "  </svg>\n",
              "      </button>\n",
              "      \n",
              "  <style>\n",
              "    .colab-df-container {\n",
              "      display:flex;\n",
              "      flex-wrap:wrap;\n",
              "      gap: 12px;\n",
              "    }\n",
              "\n",
              "    .colab-df-convert {\n",
              "      background-color: #E8F0FE;\n",
              "      border: none;\n",
              "      border-radius: 50%;\n",
              "      cursor: pointer;\n",
              "      display: none;\n",
              "      fill: #1967D2;\n",
              "      height: 32px;\n",
              "      padding: 0 0 0 0;\n",
              "      width: 32px;\n",
              "    }\n",
              "\n",
              "    .colab-df-convert:hover {\n",
              "      background-color: #E2EBFA;\n",
              "      box-shadow: 0px 1px 2px rgba(60, 64, 67, 0.3), 0px 1px 3px 1px rgba(60, 64, 67, 0.15);\n",
              "      fill: #174EA6;\n",
              "    }\n",
              "\n",
              "    [theme=dark] .colab-df-convert {\n",
              "      background-color: #3B4455;\n",
              "      fill: #D2E3FC;\n",
              "    }\n",
              "\n",
              "    [theme=dark] .colab-df-convert:hover {\n",
              "      background-color: #434B5C;\n",
              "      box-shadow: 0px 1px 3px 1px rgba(0, 0, 0, 0.15);\n",
              "      filter: drop-shadow(0px 1px 2px rgba(0, 0, 0, 0.3));\n",
              "      fill: #FFFFFF;\n",
              "    }\n",
              "  </style>\n",
              "\n",
              "      <script>\n",
              "        const buttonEl =\n",
              "          document.querySelector('#df-3434ed1a-0b69-4bbc-a5fd-0495dd767558 button.colab-df-convert');\n",
              "        buttonEl.style.display =\n",
              "          google.colab.kernel.accessAllowed ? 'block' : 'none';\n",
              "\n",
              "        async function convertToInteractive(key) {\n",
              "          const element = document.querySelector('#df-3434ed1a-0b69-4bbc-a5fd-0495dd767558');\n",
              "          const dataTable =\n",
              "            await google.colab.kernel.invokeFunction('convertToInteractive',\n",
              "                                                     [key], {});\n",
              "          if (!dataTable) return;\n",
              "\n",
              "          const docLinkHtml = 'Like what you see? Visit the ' +\n",
              "            '<a target=\"_blank\" href=https://colab.research.google.com/notebooks/data_table.ipynb>data table notebook</a>'\n",
              "            + ' to learn more about interactive tables.';\n",
              "          element.innerHTML = '';\n",
              "          dataTable['output_type'] = 'display_data';\n",
              "          await google.colab.output.renderOutput(dataTable, element);\n",
              "          const docLink = document.createElement('div');\n",
              "          docLink.innerHTML = docLinkHtml;\n",
              "          element.appendChild(docLink);\n",
              "        }\n",
              "      </script>\n",
              "    </div>\n",
              "  </div>\n",
              "  "
            ]
          },
          "metadata": {},
          "execution_count": 50
        }
      ]
    },
    {
      "cell_type": "markdown",
      "source": [
        "##Transformações"
      ],
      "metadata": {
        "id": "ursL-gtvMjaL"
      }
    },
    {
      "cell_type": "markdown",
      "source": [
        "### Limpeza\n"
      ],
      "metadata": {
        "id": "WtrVKHNyMt-L"
      }
    },
    {
      "cell_type": "code",
      "source": [
        "df.drop(df[df['ano'].str.contains('Unnamed: 0_level_1')].index, inplace=True)"
      ],
      "metadata": {
        "id": "K0CFOfOTM2EC"
      },
      "execution_count": null,
      "outputs": []
    },
    {
      "cell_type": "code",
      "source": [
        "df.drop(columns={'Unnamed: 0'}, inplace=True)"
      ],
      "metadata": {
        "id": "djUOWPeVPiDL"
      },
      "execution_count": null,
      "outputs": []
    },
    {
      "cell_type": "markdown",
      "source": [
        "### Normalização"
      ],
      "metadata": {
        "id": "GRmQ8zeHM0Ei"
      }
    },
    {
      "cell_type": "code",
      "source": [
        "df.rename(columns={'ANO':'ano',\n",
        "                   'Unnamed: 1_level_0':'somente_torrado_ou_moido',\n",
        "                   'Unnamed: 2_level_0':'total_inclusive_soluvel_mil',\n",
        "                   'CONSUMO PER CAPITA (kg / habitante ano)':'cafe_verde_per_capita_kg',\n",
        "                   'CONSUMO PER CAPITA (kg / habitante ano).1':'cafe_torrado_per_capita_kg'}, inplace=True)"
      ],
      "metadata": {
        "id": "6PsAUrfhMzjS"
      },
      "execution_count": null,
      "outputs": []
    },
    {
      "cell_type": "code",
      "source": [
        "df['ano'] = df['ano'].astype('int')\n",
        "df['somente_torrado_ou_moido'] = df['somente_torrado_ou_moido'].astype('float')\n",
        "df['total_inclusive_soluvel_mil'] = df['total_inclusive_soluvel_mil'].astype('float')\n",
        "df['cafe_verde_per_capita_kg'] = df['cafe_verde_per_capita_kg'].astype('float')\n",
        "df['cafe_torrado_per_capita_kg'] = df['cafe_torrado_per_capita_kg'].astype('float')"
      ],
      "metadata": {
        "id": "Jisqy1WRQU6z"
      },
      "execution_count": null,
      "outputs": []
    },
    {
      "cell_type": "code",
      "source": [
        "schema = pa.DataFrameSchema(\n",
        "    columns = {\n",
        "        'ano':pa.Column(pa.Int, nullable=False),\n",
        "        'somente_torrado_ou_moido':pa.Column(pa.Float, nullable=True),\n",
        "        'total_inclusive_soluvel_mil':pa.Column(pa.Float, nullable=True),\n",
        "        'cafe_verde_per_capita_kg':pa.Column(pa.Float, nullable=True),\n",
        "        'cafe_torrado_per_capita_kg':pa.Column(pa.Float, nullable=True)\n",
        "})\n",
        "\n",
        "schema.validate(df)"
      ],
      "metadata": {
        "colab": {
          "base_uri": "https://localhost:8080/",
          "height": 424
        },
        "id": "lvLZDrgcQFDS",
        "outputId": "3856e0d1-cf45-4c74-bd9a-fafa2a5cc78e"
      },
      "execution_count": null,
      "outputs": [
        {
          "output_type": "execute_result",
          "data": {
            "text/plain": [
              "     ano  somente_torrado_ou_moido  total_inclusive_soluvel_mil  \\\n",
              "1   1965                       NaN                         81.0   \n",
              "2   1985                      60.0                         64.0   \n",
              "3   1990                       NaN                         82.0   \n",
              "4   1991                       NaN                         85.0   \n",
              "5   1992                       NaN                         89.0   \n",
              "..   ...                       ...                          ...   \n",
              "31  2018                     199.0                        210.0   \n",
              "32  2019                     200.0                        209.0   \n",
              "33  2020                     203.0                        212.0   \n",
              "34  2021                     205.0                        215.0   \n",
              "35  2022                     203.0                        213.0   \n",
              "\n",
              "    cafe_verde_per_capita_kg  cafe_torrado_per_capita_kg  \n",
              "1                      591.0                       472.0  \n",
              "2                      283.0                       227.0  \n",
              "3                      339.0                       271.0  \n",
              "4                      347.0                       278.0  \n",
              "5                      358.0                       287.0  \n",
              "..                       ...                         ...  \n",
              "31                     602.0                       482.0  \n",
              "32                     595.0                       476.0  \n",
              "33                     599.0                       479.0  \n",
              "34                     606.0                       484.0  \n",
              "35                     596.0                       477.0  \n",
              "\n",
              "[35 rows x 5 columns]"
            ],
            "text/html": [
              "\n",
              "  <div id=\"df-ca7fccd9-c0d5-47ea-b5e2-d8dad17a227f\">\n",
              "    <div class=\"colab-df-container\">\n",
              "      <div>\n",
              "<style scoped>\n",
              "    .dataframe tbody tr th:only-of-type {\n",
              "        vertical-align: middle;\n",
              "    }\n",
              "\n",
              "    .dataframe tbody tr th {\n",
              "        vertical-align: top;\n",
              "    }\n",
              "\n",
              "    .dataframe thead th {\n",
              "        text-align: right;\n",
              "    }\n",
              "</style>\n",
              "<table border=\"1\" class=\"dataframe\">\n",
              "  <thead>\n",
              "    <tr style=\"text-align: right;\">\n",
              "      <th></th>\n",
              "      <th>ano</th>\n",
              "      <th>somente_torrado_ou_moido</th>\n",
              "      <th>total_inclusive_soluvel_mil</th>\n",
              "      <th>cafe_verde_per_capita_kg</th>\n",
              "      <th>cafe_torrado_per_capita_kg</th>\n",
              "    </tr>\n",
              "  </thead>\n",
              "  <tbody>\n",
              "    <tr>\n",
              "      <th>1</th>\n",
              "      <td>1965</td>\n",
              "      <td>NaN</td>\n",
              "      <td>81.0</td>\n",
              "      <td>591.0</td>\n",
              "      <td>472.0</td>\n",
              "    </tr>\n",
              "    <tr>\n",
              "      <th>2</th>\n",
              "      <td>1985</td>\n",
              "      <td>60.0</td>\n",
              "      <td>64.0</td>\n",
              "      <td>283.0</td>\n",
              "      <td>227.0</td>\n",
              "    </tr>\n",
              "    <tr>\n",
              "      <th>3</th>\n",
              "      <td>1990</td>\n",
              "      <td>NaN</td>\n",
              "      <td>82.0</td>\n",
              "      <td>339.0</td>\n",
              "      <td>271.0</td>\n",
              "    </tr>\n",
              "    <tr>\n",
              "      <th>4</th>\n",
              "      <td>1991</td>\n",
              "      <td>NaN</td>\n",
              "      <td>85.0</td>\n",
              "      <td>347.0</td>\n",
              "      <td>278.0</td>\n",
              "    </tr>\n",
              "    <tr>\n",
              "      <th>5</th>\n",
              "      <td>1992</td>\n",
              "      <td>NaN</td>\n",
              "      <td>89.0</td>\n",
              "      <td>358.0</td>\n",
              "      <td>287.0</td>\n",
              "    </tr>\n",
              "    <tr>\n",
              "      <th>...</th>\n",
              "      <td>...</td>\n",
              "      <td>...</td>\n",
              "      <td>...</td>\n",
              "      <td>...</td>\n",
              "      <td>...</td>\n",
              "    </tr>\n",
              "    <tr>\n",
              "      <th>31</th>\n",
              "      <td>2018</td>\n",
              "      <td>199.0</td>\n",
              "      <td>210.0</td>\n",
              "      <td>602.0</td>\n",
              "      <td>482.0</td>\n",
              "    </tr>\n",
              "    <tr>\n",
              "      <th>32</th>\n",
              "      <td>2019</td>\n",
              "      <td>200.0</td>\n",
              "      <td>209.0</td>\n",
              "      <td>595.0</td>\n",
              "      <td>476.0</td>\n",
              "    </tr>\n",
              "    <tr>\n",
              "      <th>33</th>\n",
              "      <td>2020</td>\n",
              "      <td>203.0</td>\n",
              "      <td>212.0</td>\n",
              "      <td>599.0</td>\n",
              "      <td>479.0</td>\n",
              "    </tr>\n",
              "    <tr>\n",
              "      <th>34</th>\n",
              "      <td>2021</td>\n",
              "      <td>205.0</td>\n",
              "      <td>215.0</td>\n",
              "      <td>606.0</td>\n",
              "      <td>484.0</td>\n",
              "    </tr>\n",
              "    <tr>\n",
              "      <th>35</th>\n",
              "      <td>2022</td>\n",
              "      <td>203.0</td>\n",
              "      <td>213.0</td>\n",
              "      <td>596.0</td>\n",
              "      <td>477.0</td>\n",
              "    </tr>\n",
              "  </tbody>\n",
              "</table>\n",
              "<p>35 rows × 5 columns</p>\n",
              "</div>\n",
              "      <button class=\"colab-df-convert\" onclick=\"convertToInteractive('df-ca7fccd9-c0d5-47ea-b5e2-d8dad17a227f')\"\n",
              "              title=\"Convert this dataframe to an interactive table.\"\n",
              "              style=\"display:none;\">\n",
              "        \n",
              "  <svg xmlns=\"http://www.w3.org/2000/svg\" height=\"24px\"viewBox=\"0 0 24 24\"\n",
              "       width=\"24px\">\n",
              "    <path d=\"M0 0h24v24H0V0z\" fill=\"none\"/>\n",
              "    <path d=\"M18.56 5.44l.94 2.06.94-2.06 2.06-.94-2.06-.94-.94-2.06-.94 2.06-2.06.94zm-11 1L8.5 8.5l.94-2.06 2.06-.94-2.06-.94L8.5 2.5l-.94 2.06-2.06.94zm10 10l.94 2.06.94-2.06 2.06-.94-2.06-.94-.94-2.06-.94 2.06-2.06.94z\"/><path d=\"M17.41 7.96l-1.37-1.37c-.4-.4-.92-.59-1.43-.59-.52 0-1.04.2-1.43.59L10.3 9.45l-7.72 7.72c-.78.78-.78 2.05 0 2.83L4 21.41c.39.39.9.59 1.41.59.51 0 1.02-.2 1.41-.59l7.78-7.78 2.81-2.81c.8-.78.8-2.07 0-2.86zM5.41 20L4 18.59l7.72-7.72 1.47 1.35L5.41 20z\"/>\n",
              "  </svg>\n",
              "      </button>\n",
              "      \n",
              "  <style>\n",
              "    .colab-df-container {\n",
              "      display:flex;\n",
              "      flex-wrap:wrap;\n",
              "      gap: 12px;\n",
              "    }\n",
              "\n",
              "    .colab-df-convert {\n",
              "      background-color: #E8F0FE;\n",
              "      border: none;\n",
              "      border-radius: 50%;\n",
              "      cursor: pointer;\n",
              "      display: none;\n",
              "      fill: #1967D2;\n",
              "      height: 32px;\n",
              "      padding: 0 0 0 0;\n",
              "      width: 32px;\n",
              "    }\n",
              "\n",
              "    .colab-df-convert:hover {\n",
              "      background-color: #E2EBFA;\n",
              "      box-shadow: 0px 1px 2px rgba(60, 64, 67, 0.3), 0px 1px 3px 1px rgba(60, 64, 67, 0.15);\n",
              "      fill: #174EA6;\n",
              "    }\n",
              "\n",
              "    [theme=dark] .colab-df-convert {\n",
              "      background-color: #3B4455;\n",
              "      fill: #D2E3FC;\n",
              "    }\n",
              "\n",
              "    [theme=dark] .colab-df-convert:hover {\n",
              "      background-color: #434B5C;\n",
              "      box-shadow: 0px 1px 3px 1px rgba(0, 0, 0, 0.15);\n",
              "      filter: drop-shadow(0px 1px 2px rgba(0, 0, 0, 0.3));\n",
              "      fill: #FFFFFF;\n",
              "    }\n",
              "  </style>\n",
              "\n",
              "      <script>\n",
              "        const buttonEl =\n",
              "          document.querySelector('#df-ca7fccd9-c0d5-47ea-b5e2-d8dad17a227f button.colab-df-convert');\n",
              "        buttonEl.style.display =\n",
              "          google.colab.kernel.accessAllowed ? 'block' : 'none';\n",
              "\n",
              "        async function convertToInteractive(key) {\n",
              "          const element = document.querySelector('#df-ca7fccd9-c0d5-47ea-b5e2-d8dad17a227f');\n",
              "          const dataTable =\n",
              "            await google.colab.kernel.invokeFunction('convertToInteractive',\n",
              "                                                     [key], {});\n",
              "          if (!dataTable) return;\n",
              "\n",
              "          const docLinkHtml = 'Like what you see? Visit the ' +\n",
              "            '<a target=\"_blank\" href=https://colab.research.google.com/notebooks/data_table.ipynb>data table notebook</a>'\n",
              "            + ' to learn more about interactive tables.';\n",
              "          element.innerHTML = '';\n",
              "          dataTable['output_type'] = 'display_data';\n",
              "          await google.colab.output.renderOutput(dataTable, element);\n",
              "          const docLink = document.createElement('div');\n",
              "          docLink.innerHTML = docLinkHtml;\n",
              "          element.appendChild(docLink);\n",
              "        }\n",
              "      </script>\n",
              "    </div>\n",
              "  </div>\n",
              "  "
            ]
          },
          "metadata": {},
          "execution_count": 55
        }
      ]
    },
    {
      "cell_type": "markdown",
      "source": [
        "### Criação de Variaveis"
      ],
      "metadata": {
        "id": "cU0nSc-RMtmj"
      }
    },
    {
      "cell_type": "code",
      "source": [
        "df.to_excel('df.xlsx')"
      ],
      "metadata": {
        "id": "1Lj8rx9bLg1J"
      },
      "execution_count": null,
      "outputs": []
    },
    {
      "cell_type": "markdown",
      "source": [
        "# ABIC - Assossiação Brasileira da Industria do Café (Preço Varejo)"
      ],
      "metadata": {
        "id": "bcbhd19YWbcC"
      }
    },
    {
      "cell_type": "markdown",
      "source": [
        "###Extração"
      ],
      "metadata": {
        "id": "TbJxH4GtWjVC"
      }
    },
    {
      "cell_type": "code",
      "source": [
        "df = pd.read_csv('gs://comercio-cafe/BRUTOS/ABIC/Webscraping ABIC/CSVs/precoVarejo.csv', sep=',', encoding='UTF-8')"
      ],
      "metadata": {
        "id": "I3lm2ADpWiYi"
      },
      "execution_count": null,
      "outputs": []
    },
    {
      "cell_type": "markdown",
      "source": [
        "###Pré-Análise"
      ],
      "metadata": {
        "id": "gy_hLAJcXLCs"
      }
    },
    {
      "cell_type": "code",
      "source": [
        "df"
      ],
      "metadata": {
        "colab": {
          "base_uri": "https://localhost:8080/",
          "height": 424
        },
        "id": "OlCYA-7iWxXb",
        "outputId": "09c1226f-8ffd-475c-ba0b-89b11dc3343d"
      },
      "execution_count": null,
      "outputs": [
        {
          "output_type": "execute_result",
          "data": {
            "text/plain": [
              "    mes_ano  tradicional\n",
              "0    jan/23        34.64\n",
              "1    dez/22        35.90\n",
              "2    nov/22        37.82\n",
              "3    out/22        34.33\n",
              "4    set/22        33.86\n",
              "..      ...          ...\n",
              "293  mai/97         5.18\n",
              "294  abr/97         5.50\n",
              "295  mar/97         4.71\n",
              "296  fev/97         3.55\n",
              "297  jan/97         4.31\n",
              "\n",
              "[298 rows x 2 columns]"
            ],
            "text/html": [
              "\n",
              "  <div id=\"df-f15fb3ee-36fa-413d-a876-70c8574b422a\">\n",
              "    <div class=\"colab-df-container\">\n",
              "      <div>\n",
              "<style scoped>\n",
              "    .dataframe tbody tr th:only-of-type {\n",
              "        vertical-align: middle;\n",
              "    }\n",
              "\n",
              "    .dataframe tbody tr th {\n",
              "        vertical-align: top;\n",
              "    }\n",
              "\n",
              "    .dataframe thead th {\n",
              "        text-align: right;\n",
              "    }\n",
              "</style>\n",
              "<table border=\"1\" class=\"dataframe\">\n",
              "  <thead>\n",
              "    <tr style=\"text-align: right;\">\n",
              "      <th></th>\n",
              "      <th>mes_ano</th>\n",
              "      <th>tradicional</th>\n",
              "    </tr>\n",
              "  </thead>\n",
              "  <tbody>\n",
              "    <tr>\n",
              "      <th>0</th>\n",
              "      <td>jan/23</td>\n",
              "      <td>34.64</td>\n",
              "    </tr>\n",
              "    <tr>\n",
              "      <th>1</th>\n",
              "      <td>dez/22</td>\n",
              "      <td>35.90</td>\n",
              "    </tr>\n",
              "    <tr>\n",
              "      <th>2</th>\n",
              "      <td>nov/22</td>\n",
              "      <td>37.82</td>\n",
              "    </tr>\n",
              "    <tr>\n",
              "      <th>3</th>\n",
              "      <td>out/22</td>\n",
              "      <td>34.33</td>\n",
              "    </tr>\n",
              "    <tr>\n",
              "      <th>4</th>\n",
              "      <td>set/22</td>\n",
              "      <td>33.86</td>\n",
              "    </tr>\n",
              "    <tr>\n",
              "      <th>...</th>\n",
              "      <td>...</td>\n",
              "      <td>...</td>\n",
              "    </tr>\n",
              "    <tr>\n",
              "      <th>293</th>\n",
              "      <td>mai/97</td>\n",
              "      <td>5.18</td>\n",
              "    </tr>\n",
              "    <tr>\n",
              "      <th>294</th>\n",
              "      <td>abr/97</td>\n",
              "      <td>5.50</td>\n",
              "    </tr>\n",
              "    <tr>\n",
              "      <th>295</th>\n",
              "      <td>mar/97</td>\n",
              "      <td>4.71</td>\n",
              "    </tr>\n",
              "    <tr>\n",
              "      <th>296</th>\n",
              "      <td>fev/97</td>\n",
              "      <td>3.55</td>\n",
              "    </tr>\n",
              "    <tr>\n",
              "      <th>297</th>\n",
              "      <td>jan/97</td>\n",
              "      <td>4.31</td>\n",
              "    </tr>\n",
              "  </tbody>\n",
              "</table>\n",
              "<p>298 rows × 2 columns</p>\n",
              "</div>\n",
              "      <button class=\"colab-df-convert\" onclick=\"convertToInteractive('df-f15fb3ee-36fa-413d-a876-70c8574b422a')\"\n",
              "              title=\"Convert this dataframe to an interactive table.\"\n",
              "              style=\"display:none;\">\n",
              "        \n",
              "  <svg xmlns=\"http://www.w3.org/2000/svg\" height=\"24px\"viewBox=\"0 0 24 24\"\n",
              "       width=\"24px\">\n",
              "    <path d=\"M0 0h24v24H0V0z\" fill=\"none\"/>\n",
              "    <path d=\"M18.56 5.44l.94 2.06.94-2.06 2.06-.94-2.06-.94-.94-2.06-.94 2.06-2.06.94zm-11 1L8.5 8.5l.94-2.06 2.06-.94-2.06-.94L8.5 2.5l-.94 2.06-2.06.94zm10 10l.94 2.06.94-2.06 2.06-.94-2.06-.94-.94-2.06-.94 2.06-2.06.94z\"/><path d=\"M17.41 7.96l-1.37-1.37c-.4-.4-.92-.59-1.43-.59-.52 0-1.04.2-1.43.59L10.3 9.45l-7.72 7.72c-.78.78-.78 2.05 0 2.83L4 21.41c.39.39.9.59 1.41.59.51 0 1.02-.2 1.41-.59l7.78-7.78 2.81-2.81c.8-.78.8-2.07 0-2.86zM5.41 20L4 18.59l7.72-7.72 1.47 1.35L5.41 20z\"/>\n",
              "  </svg>\n",
              "      </button>\n",
              "      \n",
              "  <style>\n",
              "    .colab-df-container {\n",
              "      display:flex;\n",
              "      flex-wrap:wrap;\n",
              "      gap: 12px;\n",
              "    }\n",
              "\n",
              "    .colab-df-convert {\n",
              "      background-color: #E8F0FE;\n",
              "      border: none;\n",
              "      border-radius: 50%;\n",
              "      cursor: pointer;\n",
              "      display: none;\n",
              "      fill: #1967D2;\n",
              "      height: 32px;\n",
              "      padding: 0 0 0 0;\n",
              "      width: 32px;\n",
              "    }\n",
              "\n",
              "    .colab-df-convert:hover {\n",
              "      background-color: #E2EBFA;\n",
              "      box-shadow: 0px 1px 2px rgba(60, 64, 67, 0.3), 0px 1px 3px 1px rgba(60, 64, 67, 0.15);\n",
              "      fill: #174EA6;\n",
              "    }\n",
              "\n",
              "    [theme=dark] .colab-df-convert {\n",
              "      background-color: #3B4455;\n",
              "      fill: #D2E3FC;\n",
              "    }\n",
              "\n",
              "    [theme=dark] .colab-df-convert:hover {\n",
              "      background-color: #434B5C;\n",
              "      box-shadow: 0px 1px 3px 1px rgba(0, 0, 0, 0.15);\n",
              "      filter: drop-shadow(0px 1px 2px rgba(0, 0, 0, 0.3));\n",
              "      fill: #FFFFFF;\n",
              "    }\n",
              "  </style>\n",
              "\n",
              "      <script>\n",
              "        const buttonEl =\n",
              "          document.querySelector('#df-f15fb3ee-36fa-413d-a876-70c8574b422a button.colab-df-convert');\n",
              "        buttonEl.style.display =\n",
              "          google.colab.kernel.accessAllowed ? 'block' : 'none';\n",
              "\n",
              "        async function convertToInteractive(key) {\n",
              "          const element = document.querySelector('#df-f15fb3ee-36fa-413d-a876-70c8574b422a');\n",
              "          const dataTable =\n",
              "            await google.colab.kernel.invokeFunction('convertToInteractive',\n",
              "                                                     [key], {});\n",
              "          if (!dataTable) return;\n",
              "\n",
              "          const docLinkHtml = 'Like what you see? Visit the ' +\n",
              "            '<a target=\"_blank\" href=https://colab.research.google.com/notebooks/data_table.ipynb>data table notebook</a>'\n",
              "            + ' to learn more about interactive tables.';\n",
              "          element.innerHTML = '';\n",
              "          dataTable['output_type'] = 'display_data';\n",
              "          await google.colab.output.renderOutput(dataTable, element);\n",
              "          const docLink = document.createElement('div');\n",
              "          docLink.innerHTML = docLinkHtml;\n",
              "          element.appendChild(docLink);\n",
              "        }\n",
              "      </script>\n",
              "    </div>\n",
              "  </div>\n",
              "  "
            ]
          },
          "metadata": {},
          "execution_count": 284
        }
      ]
    },
    {
      "cell_type": "code",
      "source": [
        "df.info()"
      ],
      "metadata": {
        "colab": {
          "base_uri": "https://localhost:8080/"
        },
        "id": "IR0yHK2IW0u8",
        "outputId": "b1d2cbc4-44a3-4bd6-f861-cc6322bfde93"
      },
      "execution_count": null,
      "outputs": [
        {
          "output_type": "stream",
          "name": "stdout",
          "text": [
            "<class 'pandas.core.frame.DataFrame'>\n",
            "RangeIndex: 298 entries, 0 to 297\n",
            "Data columns (total 2 columns):\n",
            " #   Column       Non-Null Count  Dtype  \n",
            "---  ------       --------------  -----  \n",
            " 0   mes_ano      298 non-null    object \n",
            " 1   tradicional  298 non-null    float64\n",
            "dtypes: float64(1), object(1)\n",
            "memory usage: 4.8+ KB\n"
          ]
        }
      ]
    },
    {
      "cell_type": "markdown",
      "source": [
        "##Transformação"
      ],
      "metadata": {
        "id": "t_2bVNjaXTZa"
      }
    },
    {
      "cell_type": "markdown",
      "source": [
        "###Limpeza"
      ],
      "metadata": {
        "id": "yJdaHheXXgwT"
      }
    },
    {
      "cell_type": "code",
      "source": [
        "df.drop(columns={'Unnamed: 0'}, inplace=True)"
      ],
      "metadata": {
        "id": "D1vog83SXA-E"
      },
      "execution_count": null,
      "outputs": []
    },
    {
      "cell_type": "code",
      "source": [
        "df['Tradicional'][43] = 0\n",
        "df['Tradicional'][46] = 0\n",
        "df['Tradicional'][99] = 0\n",
        "df['Tradicional'][107] = 0\n",
        "df['Tradicional'][115] = 0\n",
        "df['Tradicional'][122] = 0"
      ],
      "metadata": {
        "id": "PfC7yXfIRB3Q"
      },
      "execution_count": null,
      "outputs": []
    },
    {
      "cell_type": "code",
      "source": [
        "df['Tradicional'] = df['Tradicional'].astype(str)\n",
        "df['Tradicional'] = df['Tradicional'].apply(lambda x: x[:-2] if x[-2:] == '.0' else x)"
      ],
      "metadata": {
        "id": "FjibhMbqgB6H"
      },
      "execution_count": null,
      "outputs": []
    },
    {
      "cell_type": "code",
      "source": [
        "df['Tradicional'] = df['Tradicional'].str.replace(',', '.')"
      ],
      "metadata": {
        "id": "J39X3AGohano"
      },
      "execution_count": null,
      "outputs": []
    },
    {
      "cell_type": "code",
      "source": [
        "df.to_excel('df.xlsx')"
      ],
      "metadata": {
        "id": "RvOcFxjzi4PG"
      },
      "execution_count": null,
      "outputs": []
    },
    {
      "cell_type": "code",
      "source": [
        "df2 = pd.read_csv('/content/df - Sheet1.csv', sep=',', encoding='UTF-8')"
      ],
      "metadata": {
        "id": "6X4LwhdcqQrb"
      },
      "execution_count": null,
      "outputs": []
    },
    {
      "cell_type": "code",
      "source": [
        "df['Tradicional'] = df2['Tradicional']"
      ],
      "metadata": {
        "id": "kY2DqfHEq9eI"
      },
      "execution_count": null,
      "outputs": []
    },
    {
      "cell_type": "code",
      "source": [
        "df_backup = df"
      ],
      "metadata": {
        "id": "IhA6-of3sp7S"
      },
      "execution_count": null,
      "outputs": []
    },
    {
      "cell_type": "markdown",
      "source": [
        "##Normalização"
      ],
      "metadata": {
        "id": "e0zjnThpku3E"
      }
    },
    {
      "cell_type": "code",
      "source": [
        "df.rename(columns={'Mês/Ano':'mes_ano',\n",
        "                   'Tradicional':'tradicional'}, inplace=True)"
      ],
      "metadata": {
        "id": "cMauGg1LX04g"
      },
      "execution_count": null,
      "outputs": []
    },
    {
      "cell_type": "code",
      "source": [
        "df['tradicional'] = df['tradicional'].astype(float)"
      ],
      "metadata": {
        "id": "B2zyZAL0c-tR"
      },
      "execution_count": null,
      "outputs": []
    },
    {
      "cell_type": "code",
      "source": [
        "df['tradicional'][99] = df['tradicional'][[98, 100]].mean()\n",
        "df['tradicional'][107] = df['tradicional'][[106, 108]].mean()\n",
        "df['tradicional'][115] = df['tradicional'][[115, 117]].mean()\n",
        "df['tradicional'][122] = df['tradicional'][[121, 123]].mean()\n",
        "df['tradicional'][43] = df['tradicional'][[42, 44]].mean()\n",
        "df['tradicional'][46] = df['tradicional'][[45, 47]].mean()"
      ],
      "metadata": {
        "id": "UmpWWCzttDU_"
      },
      "execution_count": null,
      "outputs": []
    },
    {
      "cell_type": "markdown",
      "source": [
        "###Envio para o Bucket"
      ],
      "metadata": {
        "id": "kFxxOMeYYRqS"
      }
    },
    {
      "cell_type": "code",
      "source": [
        "df.to_csv('gs://comercio-cafe/TRATADOS/ABIC/preco_varejo.csv', sep=';', index=False)"
      ],
      "metadata": {
        "id": "hNmmhrZlYVTQ"
      },
      "execution_count": null,
      "outputs": []
    },
    {
      "cell_type": "markdown",
      "source": [
        "#Dados da ABIC - Associação Brasileira da Industria do Café (Producão Participação)"
      ],
      "metadata": {
        "id": "KRlX6YlmZGG6"
      }
    },
    {
      "cell_type": "markdown",
      "source": [
        "###Extração"
      ],
      "metadata": {
        "id": "t-fJBmA8ZLnK"
      }
    },
    {
      "cell_type": "code",
      "source": [
        "df2008 = pd.read_csv('gs://comercio-cafe/BRUTOS/ABIC/Webscraping ABIC/CSVs/producao_participacao_2008.csv', sep=',', encoding='UTF-8')\n",
        "df2009 = pd.read_csv('gs://comercio-cafe/BRUTOS/ABIC/Webscraping ABIC/CSVs/producao_participacao_2009.csv', sep=',', encoding='UTF-8')\n",
        "df2010 = pd.read_csv('gs://comercio-cafe/BRUTOS/ABIC/Webscraping ABIC/CSVs/producao_participacao_2010.csv', sep=',', encoding='UTF-8')\n",
        "df2011 = pd.read_csv('gs://comercio-cafe/BRUTOS/ABIC/Webscraping ABIC/CSVs/producao_participacao_2011.csv', sep=',', encoding='UTF-8')\n",
        "df2012 = pd.read_csv('gs://comercio-cafe/BRUTOS/ABIC/Webscraping ABIC/CSVs/producao_participacao_2012.csv', sep=',', encoding='UTF-8')\n",
        "df2013 = pd.read_csv('gs://comercio-cafe/BRUTOS/ABIC/Webscraping ABIC/CSVs/producao_participacao_2013.csv', sep=',', encoding='UTF-8')\n",
        "df2014 = pd.read_csv('gs://comercio-cafe/BRUTOS/ABIC/Webscraping ABIC/CSVs/producao_participacao_2014.csv', sep=',', encoding='UTF-8')\n",
        "df2015 = pd.read_csv('gs://comercio-cafe/BRUTOS/ABIC/Webscraping ABIC/CSVs/producao_participacao_2015.csv', sep=',', encoding='UTF-8')\n",
        "df2017 = pd.read_csv('gs://comercio-cafe/BRUTOS/ABIC/Webscraping ABIC/CSVs/producao_participacao_2017.csv', sep=',', encoding='UTF-8')"
      ],
      "metadata": {
        "id": "miF5aHCYZLXK"
      },
      "execution_count": null,
      "outputs": []
    },
    {
      "cell_type": "code",
      "source": [
        "df2018 = pd.read_csv('gs://comercio-cafe/BRUTOS/ABIC/Webscraping ABIC/CSVs/producao_participacao_2018.csv', sep=',', encoding='UTF-8')\n",
        "df2020 = pd.read_csv('gs://comercio-cafe/BRUTOS/ABIC/Webscraping ABIC/CSVs/producao_participacao_2020.csv', sep=',', encoding='UTF-8')\n",
        "df2021 = pd.read_csv('gs://comercio-cafe/BRUTOS/ABIC/Webscraping ABIC/CSVs/producao_participacao_2021.csv', sep=',', encoding='UTF-8')"
      ],
      "metadata": {
        "id": "TsJFdbjJklAG"
      },
      "execution_count": null,
      "outputs": []
    },
    {
      "cell_type": "markdown",
      "source": [
        "###Pré-Análise"
      ],
      "metadata": {
        "id": "xWglfkD_ZkSK"
      }
    },
    {
      "cell_type": "code",
      "source": [
        "df2009"
      ],
      "metadata": {
        "colab": {
          "base_uri": "https://localhost:8080/",
          "height": 206
        },
        "id": "L1pvGJQUZeC_",
        "outputId": "8613806d-8132-41d2-c90e-0e60c3e07529"
      },
      "execution_count": null,
      "outputs": [
        {
          "output_type": "execute_result",
          "data": {
            "text/plain": [
              "                  GRUPO vol_mensal_sacas participacao_porcento num_empresas\n",
              "1         1 – 999 sacas           68.014                 6,95%          315\n",
              "2     1000 – 2999 sacas           61.028                 6,24%           33\n",
              "3     3000 – 9999 sacas          136.112                13,91%           26\n",
              "4  Acima de 10000 sacas          713.147                72,90%           10\n",
              "5                 TOTAL            978.3               100,00%          384"
            ],
            "text/html": [
              "\n",
              "  <div id=\"df-b228af23-5b31-4cb7-a7fe-0cb129b06ac0\">\n",
              "    <div class=\"colab-df-container\">\n",
              "      <div>\n",
              "<style scoped>\n",
              "    .dataframe tbody tr th:only-of-type {\n",
              "        vertical-align: middle;\n",
              "    }\n",
              "\n",
              "    .dataframe tbody tr th {\n",
              "        vertical-align: top;\n",
              "    }\n",
              "\n",
              "    .dataframe thead th {\n",
              "        text-align: right;\n",
              "    }\n",
              "</style>\n",
              "<table border=\"1\" class=\"dataframe\">\n",
              "  <thead>\n",
              "    <tr style=\"text-align: right;\">\n",
              "      <th></th>\n",
              "      <th>GRUPO</th>\n",
              "      <th>vol_mensal_sacas</th>\n",
              "      <th>participacao_porcento</th>\n",
              "      <th>num_empresas</th>\n",
              "    </tr>\n",
              "  </thead>\n",
              "  <tbody>\n",
              "    <tr>\n",
              "      <th>1</th>\n",
              "      <td>1 – 999 sacas</td>\n",
              "      <td>68.014</td>\n",
              "      <td>6,95%</td>\n",
              "      <td>315</td>\n",
              "    </tr>\n",
              "    <tr>\n",
              "      <th>2</th>\n",
              "      <td>1000 – 2999 sacas</td>\n",
              "      <td>61.028</td>\n",
              "      <td>6,24%</td>\n",
              "      <td>33</td>\n",
              "    </tr>\n",
              "    <tr>\n",
              "      <th>3</th>\n",
              "      <td>3000 – 9999 sacas</td>\n",
              "      <td>136.112</td>\n",
              "      <td>13,91%</td>\n",
              "      <td>26</td>\n",
              "    </tr>\n",
              "    <tr>\n",
              "      <th>4</th>\n",
              "      <td>Acima de 10000 sacas</td>\n",
              "      <td>713.147</td>\n",
              "      <td>72,90%</td>\n",
              "      <td>10</td>\n",
              "    </tr>\n",
              "    <tr>\n",
              "      <th>5</th>\n",
              "      <td>TOTAL</td>\n",
              "      <td>978.3</td>\n",
              "      <td>100,00%</td>\n",
              "      <td>384</td>\n",
              "    </tr>\n",
              "  </tbody>\n",
              "</table>\n",
              "</div>\n",
              "      <button class=\"colab-df-convert\" onclick=\"convertToInteractive('df-b228af23-5b31-4cb7-a7fe-0cb129b06ac0')\"\n",
              "              title=\"Convert this dataframe to an interactive table.\"\n",
              "              style=\"display:none;\">\n",
              "        \n",
              "  <svg xmlns=\"http://www.w3.org/2000/svg\" height=\"24px\"viewBox=\"0 0 24 24\"\n",
              "       width=\"24px\">\n",
              "    <path d=\"M0 0h24v24H0V0z\" fill=\"none\"/>\n",
              "    <path d=\"M18.56 5.44l.94 2.06.94-2.06 2.06-.94-2.06-.94-.94-2.06-.94 2.06-2.06.94zm-11 1L8.5 8.5l.94-2.06 2.06-.94-2.06-.94L8.5 2.5l-.94 2.06-2.06.94zm10 10l.94 2.06.94-2.06 2.06-.94-2.06-.94-.94-2.06-.94 2.06-2.06.94z\"/><path d=\"M17.41 7.96l-1.37-1.37c-.4-.4-.92-.59-1.43-.59-.52 0-1.04.2-1.43.59L10.3 9.45l-7.72 7.72c-.78.78-.78 2.05 0 2.83L4 21.41c.39.39.9.59 1.41.59.51 0 1.02-.2 1.41-.59l7.78-7.78 2.81-2.81c.8-.78.8-2.07 0-2.86zM5.41 20L4 18.59l7.72-7.72 1.47 1.35L5.41 20z\"/>\n",
              "  </svg>\n",
              "      </button>\n",
              "      \n",
              "  <style>\n",
              "    .colab-df-container {\n",
              "      display:flex;\n",
              "      flex-wrap:wrap;\n",
              "      gap: 12px;\n",
              "    }\n",
              "\n",
              "    .colab-df-convert {\n",
              "      background-color: #E8F0FE;\n",
              "      border: none;\n",
              "      border-radius: 50%;\n",
              "      cursor: pointer;\n",
              "      display: none;\n",
              "      fill: #1967D2;\n",
              "      height: 32px;\n",
              "      padding: 0 0 0 0;\n",
              "      width: 32px;\n",
              "    }\n",
              "\n",
              "    .colab-df-convert:hover {\n",
              "      background-color: #E2EBFA;\n",
              "      box-shadow: 0px 1px 2px rgba(60, 64, 67, 0.3), 0px 1px 3px 1px rgba(60, 64, 67, 0.15);\n",
              "      fill: #174EA6;\n",
              "    }\n",
              "\n",
              "    [theme=dark] .colab-df-convert {\n",
              "      background-color: #3B4455;\n",
              "      fill: #D2E3FC;\n",
              "    }\n",
              "\n",
              "    [theme=dark] .colab-df-convert:hover {\n",
              "      background-color: #434B5C;\n",
              "      box-shadow: 0px 1px 3px 1px rgba(0, 0, 0, 0.15);\n",
              "      filter: drop-shadow(0px 1px 2px rgba(0, 0, 0, 0.3));\n",
              "      fill: #FFFFFF;\n",
              "    }\n",
              "  </style>\n",
              "\n",
              "      <script>\n",
              "        const buttonEl =\n",
              "          document.querySelector('#df-b228af23-5b31-4cb7-a7fe-0cb129b06ac0 button.colab-df-convert');\n",
              "        buttonEl.style.display =\n",
              "          google.colab.kernel.accessAllowed ? 'block' : 'none';\n",
              "\n",
              "        async function convertToInteractive(key) {\n",
              "          const element = document.querySelector('#df-b228af23-5b31-4cb7-a7fe-0cb129b06ac0');\n",
              "          const dataTable =\n",
              "            await google.colab.kernel.invokeFunction('convertToInteractive',\n",
              "                                                     [key], {});\n",
              "          if (!dataTable) return;\n",
              "\n",
              "          const docLinkHtml = 'Like what you see? Visit the ' +\n",
              "            '<a target=\"_blank\" href=https://colab.research.google.com/notebooks/data_table.ipynb>data table notebook</a>'\n",
              "            + ' to learn more about interactive tables.';\n",
              "          element.innerHTML = '';\n",
              "          dataTable['output_type'] = 'display_data';\n",
              "          await google.colab.output.renderOutput(dataTable, element);\n",
              "          const docLink = document.createElement('div');\n",
              "          docLink.innerHTML = docLinkHtml;\n",
              "          element.appendChild(docLink);\n",
              "        }\n",
              "      </script>\n",
              "    </div>\n",
              "  </div>\n",
              "  "
            ]
          },
          "metadata": {},
          "execution_count": 107
        }
      ]
    },
    {
      "cell_type": "markdown",
      "source": [
        "##Transformação"
      ],
      "metadata": {
        "id": "fBS7dOVEbKaH"
      }
    },
    {
      "cell_type": "code",
      "source": [],
      "metadata": {
        "id": "Ae0FbV-XbJsB"
      },
      "execution_count": null,
      "outputs": []
    },
    {
      "cell_type": "markdown",
      "source": [
        "###Normalização"
      ],
      "metadata": {
        "id": "xQVZXzhbbUAh"
      }
    },
    {
      "cell_type": "code",
      "source": [
        "df2008.rename(columns={'2007 / 2008':'vol_mensal_sacas',\n",
        "                       '2007 / 2008.1':'participacao_porcento',\n",
        "                       '2007 / 2008.2':'num_empresas'}, inplace=True)\n",
        "\n",
        "df2009.rename(columns={'2008 / 2009':'vol_mensal_sacas',\n",
        "                       '2008 / 2009.1':'participacao_porcento',\n",
        "                       '2008 / 2009.2':'num_empresas'}, inplace=True)\n",
        "\n",
        "df2010.rename(columns={'2009 / 2010':'vol_mensal_sacas',\n",
        "                       '2009 / 2010.1':'participacao_porcento',\n",
        "                       '2009 / 2010.2':'num_empresas'}, inplace=True)\n",
        "\n",
        "df2011.rename(columns={'2010 / 2011':'vol_mensal_sacas',\n",
        "                       '2011 / 2012.1':'participacao_porcento',\n",
        "                       '2011 / 20012.2':'num_empresas'}, inplace=True)\n",
        "\n",
        "df2012.rename(columns={'2012 / 2013':'vol_mensal_sacas',\n",
        "                       '2012 / 2013.1':'participacao_porcento',\n",
        "                       '2012 / 2013.2':'num_empresas'}, inplace=True)\n",
        "\n",
        "df2013.rename(columns={'2012 / 2013':'vol_mensal_sacas',\n",
        "                       '2012 / 2013.1':'participacao_porcento',\n",
        "                       '2012 / 2013.2':'num_empresas'}, inplace=True)\n",
        "\n",
        "df2014.rename(columns={'2013 / 2014':'vol_mensal_sacas',\n",
        "                       '2013 / 2014.1':'participacao_porcento',\n",
        "                       '2013 / 2014.2':'num_empresas'}, inplace=True)\n",
        "\n",
        "df2015.rename(columns={'2014 / 2015':'vol_mensal_sacas',\n",
        "                       '2014 / 2015.1':'participacao_porcento',\n",
        "                       '2014 / 2015.2':'num_empresas'}, inplace=True)\n",
        "\n",
        "df2017.rename(columns={'2016 / 2017':'vol_mensal_sacas',\n",
        "                       '2016 / 2017.1':'participacao_porcento',\n",
        "                       '2016 / 2017.2':'num_empresas'}, inplace=True)"
      ],
      "metadata": {
        "id": "sT6_JBUnboi5"
      },
      "execution_count": null,
      "outputs": []
    },
    {
      "cell_type": "markdown",
      "source": [
        "###Limpeza"
      ],
      "metadata": {
        "id": "xXqE8Ud3bOSo"
      }
    },
    {
      "cell_type": "code",
      "source": [
        "df2008.drop(columns={'Unnamed: 0'}, inplace=True)\n",
        "df2009.drop(columns={'Unnamed: 0'}, inplace=True)\n",
        "df2010.drop(columns={'Unnamed: 0'}, inplace=True)\n",
        "df2011.drop(columns={'Unnamed: 0'}, inplace=True)\n",
        "df2012.drop(columns={'Unnamed: 0'}, inplace=True)\n",
        "df2013.drop(columns={'Unnamed: 0'}, inplace=True)\n",
        "df2014.drop(columns={'Unnamed: 0'}, inplace=True)\n",
        "df2015.drop(columns={'Unnamed: 0'}, inplace=True)\n",
        "df2017.drop(columns={'Unnamed: 0'}, inplace=True)"
      ],
      "metadata": {
        "id": "IGYO0vfsZrC6"
      },
      "execution_count": null,
      "outputs": []
    },
    {
      "cell_type": "code",
      "source": [
        "df2008.drop(df2008[df2008['GRUPO'].str.contains('GRUPO')].index, inplace=True)\n",
        "df2009.drop(df2009[df2009['GRUPO'].str.contains('GRUPO')].index, inplace=True)\n",
        "df2010.drop(df2010[df2010['GRUPO'].str.contains('GRUPO')].index, inplace=True)\n",
        "df2011.drop(df2011[df2011['GRUPO'].str.contains('GRUPO')].index, inplace=True)\n",
        "df2012.drop(df2012[df2012['GRUPO'].str.contains('GRUPO')].index, inplace=True)\n",
        "df2013.drop(df2013[df2013['GRUPO'].str.contains('GRUPO')].index, inplace=True)\n",
        "df2014.drop(df2014[df2014['GRUPO'].str.contains('GRUPO')].index, inplace=True)\n",
        "df2015.drop(df2015[df2015['GRUPO'].str.contains('GRUPO')].index, inplace=True)\n",
        "df2017.drop(df2017[df2017['GRUPO'].str.contains('GRUPO')].index, inplace=True)"
      ],
      "metadata": {
        "id": "7Jor4KQsbV-T"
      },
      "execution_count": null,
      "outputs": []
    },
    {
      "cell_type": "markdown",
      "source": [
        "##Envio para o Bucket"
      ],
      "metadata": {
        "id": "_3qqAxRibXQh"
      }
    },
    {
      "cell_type": "code",
      "source": [
        "df2008.to_csv('gs://comercio-cafe/TRATADOS/ABIC/producao_participacao_2008.csv', index=False)\n",
        "df2009.to_csv('gs://comercio-cafe/TRATADOS/ABIC/producao_participacao_2009.csv', index=False)\n",
        "df2010.to_csv('gs://comercio-cafe/TRATADOS/ABIC/producao_participacao_2010.csv', index=False)\n",
        "df2012.to_csv('gs://comercio-cafe/TRATADOS/ABIC/producao_participacao_2012.csv', index=False)\n",
        "df2011.to_csv('gs://comercio-cafe/TRATADOS/ABIC/producao_participacao_2011.csv', index=False)\n",
        "df2013.to_csv('gs://comercio-cafe/TRATADOS/ABIC/producao_participacao_2013.csv', index=False)\n",
        "df2014.to_csv('gs://comercio-cafe/TRATADOS/ABIC/producao_participacao_2014.csv', index=False)\n",
        "df2015.to_csv('gs://comercio-cafe/TRATADOS/ABIC/producao_participacao_2015.csv', index=False)\n",
        "df2017.to_csv('gs://comercio-cafe/TRATADOS/ABIC/producao_participacao_2017.csv', index=False)"
      ],
      "metadata": {
        "id": "xn5riwuXbyGB"
      },
      "execution_count": null,
      "outputs": []
    },
    {
      "cell_type": "markdown",
      "source": [
        "##Produção de Café\n"
      ],
      "metadata": {
        "id": "iTcr3OHNYGP0"
      }
    },
    {
      "cell_type": "code",
      "source": [],
      "metadata": {
        "id": "HWMQRPzQYEL8"
      },
      "execution_count": null,
      "outputs": []
    },
    {
      "cell_type": "code",
      "source": [],
      "metadata": {
        "id": "f8TUSmr09_iT"
      },
      "execution_count": null,
      "outputs": []
    },
    {
      "cell_type": "markdown",
      "source": [],
      "metadata": {
        "id": "hFWEO4nPx2or"
      }
    },
    {
      "cell_type": "markdown",
      "source": [
        "## **Enviando para o MongoDB - Backup**"
      ],
      "metadata": {
        "id": "fDJ053K2yAZy"
      }
    },
    {
      "cell_type": "code",
      "source": [
        "df = pd.read_csv('gs://comercio-cafe/TRATADOS/Ministério do Turismo/tratados.csv')"
      ],
      "metadata": {
        "id": "yO8ZHVoqybTC"
      },
      "execution_count": null,
      "outputs": []
    },
    {
      "cell_type": "code",
      "source": [
        "db = client['projeto_final']\n",
        "turismocafeterias = db['tratados_cafeterias']\n",
        "turismocafeterias.count_documents({})"
      ],
      "metadata": {
        "colab": {
          "base_uri": "https://localhost:8080/"
        },
        "id": "Ho4hr-X3yAZy",
        "outputId": "ca0c7471-4dc5-4389-afc5-1a4d35a27258"
      },
      "execution_count": null,
      "outputs": [
        {
          "output_type": "execute_result",
          "data": {
            "text/plain": [
              "0"
            ]
          },
          "metadata": {},
          "execution_count": 26
        }
      ]
    },
    {
      "cell_type": "code",
      "source": [
        "df_dict = df.to_dict(\"records\")\n",
        "turismocafeterias.insert_many(df_dict)"
      ],
      "metadata": {
        "colab": {
          "base_uri": "https://localhost:8080/"
        },
        "id": "-Mk2Ct8MyAZy",
        "outputId": "97867a3a-923f-4866-8a19-900a7a5869da"
      },
      "execution_count": null,
      "outputs": [
        {
          "output_type": "execute_result",
          "data": {
            "text/plain": [
              "<pymongo.results.InsertManyResult at 0x7f49fc6f2290>"
            ]
          },
          "metadata": {},
          "execution_count": 27
        }
      ]
    },
    {
      "cell_type": "code",
      "source": [
        "df = pd.read_csv('gs://comercio-cafe/TRATADOS/ABIC/10_maiores_tratados.csv')"
      ],
      "metadata": {
        "id": "Cn69BKtn0QXq"
      },
      "execution_count": null,
      "outputs": []
    },
    {
      "cell_type": "code",
      "source": [
        "db = client['projeto_final']\n",
        "maioresprodutores = db['tratados_maioresprodutores']\n",
        "maioresprodutores.count_documents({})"
      ],
      "metadata": {
        "colab": {
          "base_uri": "https://localhost:8080/"
        },
        "id": "h0lYA8aN0k-N",
        "outputId": "3c181c28-043a-40ff-c2a9-080a9e21215b"
      },
      "execution_count": null,
      "outputs": [
        {
          "output_type": "execute_result",
          "data": {
            "text/plain": [
              "0"
            ]
          },
          "metadata": {},
          "execution_count": 32
        }
      ]
    },
    {
      "cell_type": "code",
      "source": [
        "df_dict = df.to_dict(\"records\")\n",
        "maioresprodutores.insert_many(df_dict)"
      ],
      "metadata": {
        "colab": {
          "base_uri": "https://localhost:8080/"
        },
        "id": "NAEvVu-H02oZ",
        "outputId": "1b513fc0-b12d-43b7-cded-fce5a46613c0"
      },
      "execution_count": null,
      "outputs": [
        {
          "output_type": "execute_result",
          "data": {
            "text/plain": [
              "<pymongo.results.InsertManyResult at 0x7f4a3b83f820>"
            ]
          },
          "metadata": {},
          "execution_count": 33
        }
      ]
    },
    {
      "cell_type": "code",
      "source": [
        "df = pd.read_csv('gs://comercio-cafe/TRATADOS/ABIC/preco_varejo.csv')"
      ],
      "metadata": {
        "id": "gNQXqvAh2OpE"
      },
      "execution_count": null,
      "outputs": []
    },
    {
      "cell_type": "code",
      "source": [
        "db = client['projeto_final']\n",
        "precovarejo = db['tratados_precovarejo']\n",
        "precovarejo.count_documents({})"
      ],
      "metadata": {
        "colab": {
          "base_uri": "https://localhost:8080/"
        },
        "id": "eW2hMgYb2qmx",
        "outputId": "8d9815ee-f393-4f36-f2e9-7d2211d2c18f"
      },
      "execution_count": null,
      "outputs": [
        {
          "output_type": "execute_result",
          "data": {
            "text/plain": [
              "0"
            ]
          },
          "metadata": {},
          "execution_count": 38
        }
      ]
    },
    {
      "cell_type": "code",
      "source": [
        "df_dict = df.to_dict(\"records\")\n",
        "precovarejo.insert_many(df_dict)"
      ],
      "metadata": {
        "colab": {
          "base_uri": "https://localhost:8080/"
        },
        "id": "p-jBMuxE20Tr",
        "outputId": "8a2a35bf-2b74-49bb-adbc-e9dfae8b8bf0"
      },
      "execution_count": null,
      "outputs": [
        {
          "output_type": "execute_result",
          "data": {
            "text/plain": [
              "<pymongo.results.InsertManyResult at 0x7f4a05aa4820>"
            ]
          },
          "metadata": {},
          "execution_count": 39
        }
      ]
    },
    {
      "cell_type": "code",
      "source": [
        "df = pd.read_csv('gs://comercio-cafe/TRATADOS/ABIC/ExportacoesCafeTorrado.csv')"
      ],
      "metadata": {
        "id": "BGFn5APq3q_j"
      },
      "execution_count": null,
      "outputs": []
    },
    {
      "cell_type": "code",
      "source": [
        "db = client['projeto_final']\n",
        "expocafetorrado = db['tratados_expocafetorrado']\n"
      ],
      "metadata": {
        "colab": {
          "base_uri": "https://localhost:8080/"
        },
        "id": "ZiRMzNPk4B9k",
        "outputId": "e23adfd2-58c3-41ac-e0c8-b5ed45299ab1"
      },
      "execution_count": null,
      "outputs": [
        {
          "output_type": "execute_result",
          "data": {
            "text/plain": [
              "0"
            ]
          },
          "metadata": {},
          "execution_count": 43
        }
      ]
    },
    {
      "cell_type": "code",
      "source": [
        "df_dict = df.to_dict(\"records\")\n",
        "expocafetorrado.insert_many(df_dict)\n",
        "expocafetorrado.count_documents({})"
      ],
      "metadata": {
        "colab": {
          "base_uri": "https://localhost:8080/"
        },
        "id": "PGvkYQl44TVa",
        "outputId": "055b2ce2-a172-42d5-8f59-248a111ced04"
      },
      "execution_count": null,
      "outputs": [
        {
          "output_type": "execute_result",
          "data": {
            "text/plain": [
              "13"
            ]
          },
          "metadata": {},
          "execution_count": 44
        }
      ]
    },
    {
      "cell_type": "code",
      "source": [
        "df = pd.read_csv('gs://comercio-cafe/TRATADOS/ABIC/Exportacoes_CafeExtrato.csv')"
      ],
      "metadata": {
        "id": "EoAo-S0V47ID"
      },
      "execution_count": null,
      "outputs": []
    },
    {
      "cell_type": "code",
      "source": [
        "df"
      ],
      "metadata": {
        "id": "eBh61wwt7SXB"
      },
      "execution_count": null,
      "outputs": []
    },
    {
      "cell_type": "code",
      "source": [
        "db = client['projeto_final']\n",
        "expocafeextrato = db['tratados_expocafeextrato']"
      ],
      "metadata": {
        "id": "RYnrxPkw5CyS"
      },
      "execution_count": null,
      "outputs": []
    },
    {
      "cell_type": "code",
      "source": [
        "df_dict = df.to_dict(\"records\")\n",
        "expocafeextrato.insert_many(df_dict)\n",
        "expocafeextrato.count_documents({})"
      ],
      "metadata": {
        "colab": {
          "base_uri": "https://localhost:8080/"
        },
        "id": "XHaQeWau7Jn1",
        "outputId": "0ab402ba-ecb3-49a7-85c2-c85922396509"
      },
      "execution_count": null,
      "outputs": [
        {
          "output_type": "execute_result",
          "data": {
            "text/plain": [
              "13"
            ]
          },
          "metadata": {},
          "execution_count": 48
        }
      ]
    },
    {
      "cell_type": "code",
      "source": [
        "df = pd.read_csv('gs://comercio-cafe/TRATADOS/ABIC/Exportacoes_Cafe_Soluvel.csv')"
      ],
      "metadata": {
        "id": "T4ZYg23m7fi9"
      },
      "execution_count": null,
      "outputs": []
    },
    {
      "cell_type": "code",
      "source": [
        "db = client['projeto_final']\n",
        "expocafesoluvel = db['tratados_expocafesoluvel']"
      ],
      "metadata": {
        "id": "jbG3cf6D7kqY"
      },
      "execution_count": null,
      "outputs": []
    },
    {
      "cell_type": "code",
      "source": [
        "df_dict = df.to_dict(\"records\")\n",
        "expocafesoluvel.insert_many(df_dict)\n",
        "expocafesoluvel.count_documents({})"
      ],
      "metadata": {
        "colab": {
          "base_uri": "https://localhost:8080/"
        },
        "id": "fcNSY3948HaO",
        "outputId": "bfef5771-6bb5-4371-db05-23a790aefd8e"
      },
      "execution_count": null,
      "outputs": [
        {
          "output_type": "execute_result",
          "data": {
            "text/plain": [
              "13"
            ]
          },
          "metadata": {},
          "execution_count": 51
        }
      ]
    },
    {
      "cell_type": "code",
      "source": [
        "df = pd.read_excel('gs://comercio-cafe/TRATADOS/ABIC/TRATADOS_ABIC_exportacoes_cafe_verde.xlsx')"
      ],
      "metadata": {
        "id": "x_2QsS9K8MNg"
      },
      "execution_count": null,
      "outputs": []
    },
    {
      "cell_type": "code",
      "source": [
        "db = client['projeto_final']\n",
        "expocafeverde = db['tratados_expocafeverde']"
      ],
      "metadata": {
        "id": "7CiPw9gT8N_Z"
      },
      "execution_count": null,
      "outputs": []
    },
    {
      "cell_type": "code",
      "source": [
        "df_dict = df.to_dict(\"records\")\n",
        "expocafeverde.insert_many(df_dict)\n",
        "expocafeverde.count_documents({})"
      ],
      "metadata": {
        "colab": {
          "base_uri": "https://localhost:8080/"
        },
        "id": "xiixPS_t8qs0",
        "outputId": "22d7320e-0adb-492b-e819-0f730527e624"
      },
      "execution_count": null,
      "outputs": [
        {
          "output_type": "execute_result",
          "data": {
            "text/plain": [
              "13"
            ]
          },
          "metadata": {},
          "execution_count": 55
        }
      ]
    },
    {
      "cell_type": "code",
      "source": [
        "df = pd.read_csv('gs://comercio-cafe/TRATADOS/ABIC/consumo_interno.csv')"
      ],
      "metadata": {
        "id": "hIhNnOE39PlL"
      },
      "execution_count": null,
      "outputs": []
    },
    {
      "cell_type": "code",
      "source": [
        "db = client['projeto_final']\n",
        "consumo_interno = db['tratados_consumo_interno']"
      ],
      "metadata": {
        "id": "dHAcKC-u9cwJ"
      },
      "execution_count": null,
      "outputs": []
    },
    {
      "cell_type": "code",
      "source": [
        "df_dict = df.to_dict(\"records\")\n",
        "consumo_interno.insert_many(df_dict)\n",
        "consumo_interno.count_documents({})"
      ],
      "metadata": {
        "colab": {
          "base_uri": "https://localhost:8080/"
        },
        "id": "VCpNOn709j3t",
        "outputId": "e669b5f7-fd49-4063-e746-689f33a56857"
      },
      "execution_count": null,
      "outputs": [
        {
          "output_type": "execute_result",
          "data": {
            "text/plain": [
              "46"
            ]
          },
          "metadata": {},
          "execution_count": 59
        }
      ]
    },
    {
      "cell_type": "code",
      "source": [
        "df = pd.read_csv('gs://comercio-cafe/TRATADOS/ABIC/TRATADOS_ABIC_producao_participacao.csv')"
      ],
      "metadata": {
        "id": "Q-_ZTUHi99Pu"
      },
      "execution_count": null,
      "outputs": []
    },
    {
      "cell_type": "code",
      "source": [
        "db = client['projeto_final']\n",
        "producao_participacao = db['tratados_producao_participacao']"
      ],
      "metadata": {
        "id": "nkYV-C21-rtY"
      },
      "execution_count": null,
      "outputs": []
    },
    {
      "cell_type": "code",
      "source": [
        "df_dict = df.to_dict(\"records\")\n",
        "producao_participacao.insert_many(df_dict)\n",
        "producao_participacao.count_documents({})"
      ],
      "metadata": {
        "colab": {
          "base_uri": "https://localhost:8080/"
        },
        "id": "qgSzPQzR_R9-",
        "outputId": "fd48f16d-a689-48b0-c1f2-0429d054df38"
      },
      "execution_count": null,
      "outputs": [
        {
          "output_type": "execute_result",
          "data": {
            "text/plain": [
              "32"
            ]
          },
          "metadata": {},
          "execution_count": 72
        }
      ]
    },
    {
      "cell_type": "markdown",
      "source": [
        "##Celic"
      ],
      "metadata": {
        "id": "-Iga_sOtkmW1"
      }
    },
    {
      "cell_type": "code",
      "source": [
        "!pip install python-bcb"
      ],
      "metadata": {
        "id": "W8i1OUWLtVT4"
      },
      "execution_count": null,
      "outputs": []
    },
    {
      "cell_type": "code",
      "source": [
        "from bcb import sgs"
      ],
      "metadata": {
        "id": "ajhTjeVMtxmA"
      },
      "execution_count": null,
      "outputs": []
    },
    {
      "cell_type": "code",
      "source": [
        "selic = sgs.get(('selic', 432), start = '2010-01-01')"
      ],
      "metadata": {
        "id": "sGv295WAt664"
      },
      "execution_count": null,
      "outputs": []
    },
    {
      "cell_type": "code",
      "source": [
        "df_mes = selic.resample('M').mean()\n",
        "df_mes"
      ],
      "metadata": {
        "colab": {
          "base_uri": "https://localhost:8080/",
          "height": 655
        },
        "id": "nSQYcrMJuXy_",
        "outputId": "2d6d17e8-ffa3-4447-d02d-e202bf6a533e"
      },
      "execution_count": null,
      "outputs": [
        {
          "output_type": "execute_result",
          "data": {
            "text/plain": [
              "            selic\n",
              "Date             \n",
              "2010-01-31   8.75\n",
              "2010-02-28   8.75\n",
              "2010-03-31   8.75\n",
              "2010-04-30   8.80\n",
              "2010-05-31   9.50\n",
              "...           ...\n",
              "2023-01-31  13.75\n",
              "2023-02-28  13.75\n",
              "2023-03-31  13.75\n",
              "2023-04-30  13.75\n",
              "2023-05-31  13.75\n",
              "\n",
              "[161 rows x 1 columns]"
            ],
            "text/html": [
              "\n",
              "  <div id=\"df-0183fd45-8321-4703-9ef3-e9ca620d74b6\">\n",
              "    <div class=\"colab-df-container\">\n",
              "      <div>\n",
              "<style scoped>\n",
              "    .dataframe tbody tr th:only-of-type {\n",
              "        vertical-align: middle;\n",
              "    }\n",
              "\n",
              "    .dataframe tbody tr th {\n",
              "        vertical-align: top;\n",
              "    }\n",
              "\n",
              "    .dataframe thead th {\n",
              "        text-align: right;\n",
              "    }\n",
              "</style>\n",
              "<table border=\"1\" class=\"dataframe\">\n",
              "  <thead>\n",
              "    <tr style=\"text-align: right;\">\n",
              "      <th></th>\n",
              "      <th>selic</th>\n",
              "    </tr>\n",
              "    <tr>\n",
              "      <th>Date</th>\n",
              "      <th></th>\n",
              "    </tr>\n",
              "  </thead>\n",
              "  <tbody>\n",
              "    <tr>\n",
              "      <th>2010-01-31</th>\n",
              "      <td>8.75</td>\n",
              "    </tr>\n",
              "    <tr>\n",
              "      <th>2010-02-28</th>\n",
              "      <td>8.75</td>\n",
              "    </tr>\n",
              "    <tr>\n",
              "      <th>2010-03-31</th>\n",
              "      <td>8.75</td>\n",
              "    </tr>\n",
              "    <tr>\n",
              "      <th>2010-04-30</th>\n",
              "      <td>8.80</td>\n",
              "    </tr>\n",
              "    <tr>\n",
              "      <th>2010-05-31</th>\n",
              "      <td>9.50</td>\n",
              "    </tr>\n",
              "    <tr>\n",
              "      <th>...</th>\n",
              "      <td>...</td>\n",
              "    </tr>\n",
              "    <tr>\n",
              "      <th>2023-01-31</th>\n",
              "      <td>13.75</td>\n",
              "    </tr>\n",
              "    <tr>\n",
              "      <th>2023-02-28</th>\n",
              "      <td>13.75</td>\n",
              "    </tr>\n",
              "    <tr>\n",
              "      <th>2023-03-31</th>\n",
              "      <td>13.75</td>\n",
              "    </tr>\n",
              "    <tr>\n",
              "      <th>2023-04-30</th>\n",
              "      <td>13.75</td>\n",
              "    </tr>\n",
              "    <tr>\n",
              "      <th>2023-05-31</th>\n",
              "      <td>13.75</td>\n",
              "    </tr>\n",
              "  </tbody>\n",
              "</table>\n",
              "<p>161 rows × 1 columns</p>\n",
              "</div>\n",
              "      <button class=\"colab-df-convert\" onclick=\"convertToInteractive('df-0183fd45-8321-4703-9ef3-e9ca620d74b6')\"\n",
              "              title=\"Convert this dataframe to an interactive table.\"\n",
              "              style=\"display:none;\">\n",
              "        \n",
              "  <svg xmlns=\"http://www.w3.org/2000/svg\" height=\"24px\"viewBox=\"0 0 24 24\"\n",
              "       width=\"24px\">\n",
              "    <path d=\"M0 0h24v24H0V0z\" fill=\"none\"/>\n",
              "    <path d=\"M18.56 5.44l.94 2.06.94-2.06 2.06-.94-2.06-.94-.94-2.06-.94 2.06-2.06.94zm-11 1L8.5 8.5l.94-2.06 2.06-.94-2.06-.94L8.5 2.5l-.94 2.06-2.06.94zm10 10l.94 2.06.94-2.06 2.06-.94-2.06-.94-.94-2.06-.94 2.06-2.06.94z\"/><path d=\"M17.41 7.96l-1.37-1.37c-.4-.4-.92-.59-1.43-.59-.52 0-1.04.2-1.43.59L10.3 9.45l-7.72 7.72c-.78.78-.78 2.05 0 2.83L4 21.41c.39.39.9.59 1.41.59.51 0 1.02-.2 1.41-.59l7.78-7.78 2.81-2.81c.8-.78.8-2.07 0-2.86zM5.41 20L4 18.59l7.72-7.72 1.47 1.35L5.41 20z\"/>\n",
              "  </svg>\n",
              "      </button>\n",
              "      \n",
              "  <style>\n",
              "    .colab-df-container {\n",
              "      display:flex;\n",
              "      flex-wrap:wrap;\n",
              "      gap: 12px;\n",
              "    }\n",
              "\n",
              "    .colab-df-convert {\n",
              "      background-color: #E8F0FE;\n",
              "      border: none;\n",
              "      border-radius: 50%;\n",
              "      cursor: pointer;\n",
              "      display: none;\n",
              "      fill: #1967D2;\n",
              "      height: 32px;\n",
              "      padding: 0 0 0 0;\n",
              "      width: 32px;\n",
              "    }\n",
              "\n",
              "    .colab-df-convert:hover {\n",
              "      background-color: #E2EBFA;\n",
              "      box-shadow: 0px 1px 2px rgba(60, 64, 67, 0.3), 0px 1px 3px 1px rgba(60, 64, 67, 0.15);\n",
              "      fill: #174EA6;\n",
              "    }\n",
              "\n",
              "    [theme=dark] .colab-df-convert {\n",
              "      background-color: #3B4455;\n",
              "      fill: #D2E3FC;\n",
              "    }\n",
              "\n",
              "    [theme=dark] .colab-df-convert:hover {\n",
              "      background-color: #434B5C;\n",
              "      box-shadow: 0px 1px 3px 1px rgba(0, 0, 0, 0.15);\n",
              "      filter: drop-shadow(0px 1px 2px rgba(0, 0, 0, 0.3));\n",
              "      fill: #FFFFFF;\n",
              "    }\n",
              "  </style>\n",
              "\n",
              "      <script>\n",
              "        const buttonEl =\n",
              "          document.querySelector('#df-0183fd45-8321-4703-9ef3-e9ca620d74b6 button.colab-df-convert');\n",
              "        buttonEl.style.display =\n",
              "          google.colab.kernel.accessAllowed ? 'block' : 'none';\n",
              "\n",
              "        async function convertToInteractive(key) {\n",
              "          const element = document.querySelector('#df-0183fd45-8321-4703-9ef3-e9ca620d74b6');\n",
              "          const dataTable =\n",
              "            await google.colab.kernel.invokeFunction('convertToInteractive',\n",
              "                                                     [key], {});\n",
              "          if (!dataTable) return;\n",
              "\n",
              "          const docLinkHtml = 'Like what you see? Visit the ' +\n",
              "            '<a target=\"_blank\" href=https://colab.research.google.com/notebooks/data_table.ipynb>data table notebook</a>'\n",
              "            + ' to learn more about interactive tables.';\n",
              "          element.innerHTML = '';\n",
              "          dataTable['output_type'] = 'display_data';\n",
              "          await google.colab.output.renderOutput(dataTable, element);\n",
              "          const docLink = document.createElement('div');\n",
              "          docLink.innerHTML = docLinkHtml;\n",
              "          element.appendChild(docLink);\n",
              "        }\n",
              "      </script>\n",
              "    </div>\n",
              "  </div>\n",
              "  "
            ]
          },
          "metadata": {},
          "execution_count": 6
        }
      ]
    },
    {
      "cell_type": "code",
      "source": [
        "df_mes.info()\n"
      ],
      "metadata": {
        "colab": {
          "base_uri": "https://localhost:8080/"
        },
        "id": "I-5GNdxnDbzn",
        "outputId": "22a0ea80-eaec-4802-f8f2-b2a8047c0155"
      },
      "execution_count": null,
      "outputs": [
        {
          "output_type": "stream",
          "name": "stdout",
          "text": [
            "<class 'pandas.core.frame.DataFrame'>\n",
            "DatetimeIndex: 161 entries, 2010-01-31 to 2023-05-31\n",
            "Freq: M\n",
            "Data columns (total 1 columns):\n",
            " #   Column  Non-Null Count  Dtype  \n",
            "---  ------  --------------  -----  \n",
            " 0   selic   161 non-null    float64\n",
            "dtypes: float64(1)\n",
            "memory usage: 2.5 KB\n"
          ]
        }
      ]
    },
    {
      "cell_type": "code",
      "source": [
        "df_mes.to_csv('selic.csv')"
      ],
      "metadata": {
        "id": "AdZkXfJJE8tj"
      },
      "execution_count": null,
      "outputs": []
    },
    {
      "cell_type": "code",
      "source": [
        "df_diesel = pd.read_csv('gs://comercio-cafe/TRATADOS/preco_diesel/preco_diesel.csv', sep=',', encoding='utf-8')"
      ],
      "metadata": {
        "colab": {
          "base_uri": "https://localhost:8080/",
          "height": 939
        },
        "id": "DEHO-eq6LLSA",
        "outputId": "a46bcaf9-8ad5-4e0f-d951-f561c536b791"
      },
      "execution_count": null,
      "outputs": [
        {
          "output_type": "stream",
          "name": "stderr",
          "text": [
            "ERROR:gcsfs:_request out of retries on exception: (\"Failed to retrieve http://metadata.google.internal/computeMetadata/v1/instance/service-accounts/default/?recursive=true from the Google Compute Engine metadata service. Status: 404 Response:\\nb''\", <google.auth.transport.requests._Response object at 0x7fa87352b8e0>)\n",
            "Traceback (most recent call last):\n",
            "  File \"/usr/local/lib/python3.10/dist-packages/google/auth/compute_engine/credentials.py\", line 111, in refresh\n",
            "    self._retrieve_info(request)\n",
            "  File \"/usr/local/lib/python3.10/dist-packages/google/auth/compute_engine/credentials.py\", line 87, in _retrieve_info\n",
            "    info = _metadata.get_service_account_info(\n",
            "  File \"/usr/local/lib/python3.10/dist-packages/google/auth/compute_engine/_metadata.py\", line 234, in get_service_account_info\n",
            "    return get(request, path, params={\"recursive\": \"true\"})\n",
            "  File \"/usr/local/lib/python3.10/dist-packages/google/auth/compute_engine/_metadata.py\", line 182, in get\n",
            "    raise exceptions.TransportError(\n",
            "google.auth.exceptions.TransportError: (\"Failed to retrieve http://metadata.google.internal/computeMetadata/v1/instance/service-accounts/default/?recursive=true from the Google Compute Engine metadata service. Status: 404 Response:\\nb''\", <google.auth.transport.requests._Response object at 0x7fa87352b8e0>)\n",
            "\n",
            "The above exception was the direct cause of the following exception:\n",
            "\n",
            "Traceback (most recent call last):\n",
            "  File \"/usr/local/lib/python3.10/dist-packages/gcsfs/retry.py\", line 114, in retry_request\n",
            "    return await func(*args, **kwargs)\n",
            "  File \"/usr/local/lib/python3.10/dist-packages/gcsfs/core.py\", line 413, in _request\n",
            "    headers=self._get_headers(headers),\n",
            "  File \"/usr/local/lib/python3.10/dist-packages/gcsfs/core.py\", line 392, in _get_headers\n",
            "    self.credentials.apply(out)\n",
            "  File \"/usr/local/lib/python3.10/dist-packages/gcsfs/credentials.py\", line 185, in apply\n",
            "    self.maybe_refresh()\n",
            "  File \"/usr/local/lib/python3.10/dist-packages/gcsfs/credentials.py\", line 180, in maybe_refresh\n",
            "    self.credentials.refresh(req)\n",
            "  File \"/usr/local/lib/python3.10/dist-packages/google/auth/compute_engine/credentials.py\", line 117, in refresh\n",
            "    six.raise_from(new_exc, caught_exc)\n",
            "  File \"<string>\", line 3, in raise_from\n",
            "google.auth.exceptions.RefreshError: (\"Failed to retrieve http://metadata.google.internal/computeMetadata/v1/instance/service-accounts/default/?recursive=true from the Google Compute Engine metadata service. Status: 404 Response:\\nb''\", <google.auth.transport.requests._Response object at 0x7fa87352b8e0>)\n"
          ]
        },
        {
          "output_type": "error",
          "ename": "RefreshError",
          "evalue": "ignored",
          "traceback": [
            "\u001b[0;31m---------------------------------------------------------------------------\u001b[0m",
            "\u001b[0;31mTransportError\u001b[0m                            Traceback (most recent call last)",
            "\u001b[0;32m/usr/local/lib/python3.10/dist-packages/google/auth/compute_engine/credentials.py\u001b[0m in \u001b[0;36mrefresh\u001b[0;34m(self, request)\u001b[0m\n\u001b[1;32m    110\u001b[0m         \u001b[0;32mtry\u001b[0m\u001b[0;34m:\u001b[0m\u001b[0;34m\u001b[0m\u001b[0;34m\u001b[0m\u001b[0m\n\u001b[0;32m--> 111\u001b[0;31m             \u001b[0mself\u001b[0m\u001b[0;34m.\u001b[0m\u001b[0m_retrieve_info\u001b[0m\u001b[0;34m(\u001b[0m\u001b[0mrequest\u001b[0m\u001b[0;34m)\u001b[0m\u001b[0;34m\u001b[0m\u001b[0;34m\u001b[0m\u001b[0m\n\u001b[0m\u001b[1;32m    112\u001b[0m             self.token, self.expiry = _metadata.get_service_account_token(\n",
            "\u001b[0;32m/usr/local/lib/python3.10/dist-packages/google/auth/compute_engine/credentials.py\u001b[0m in \u001b[0;36m_retrieve_info\u001b[0;34m(self, request)\u001b[0m\n\u001b[1;32m     86\u001b[0m         \"\"\"\n\u001b[0;32m---> 87\u001b[0;31m         info = _metadata.get_service_account_info(\n\u001b[0m\u001b[1;32m     88\u001b[0m             \u001b[0mrequest\u001b[0m\u001b[0;34m,\u001b[0m \u001b[0mservice_account\u001b[0m\u001b[0;34m=\u001b[0m\u001b[0mself\u001b[0m\u001b[0;34m.\u001b[0m\u001b[0m_service_account_email\u001b[0m\u001b[0;34m\u001b[0m\u001b[0;34m\u001b[0m\u001b[0m\n",
            "\u001b[0;32m/usr/local/lib/python3.10/dist-packages/google/auth/compute_engine/_metadata.py\u001b[0m in \u001b[0;36mget_service_account_info\u001b[0;34m(request, service_account)\u001b[0m\n\u001b[1;32m    233\u001b[0m     \u001b[0;31m# for more on the use of 'recursive'.\u001b[0m\u001b[0;34m\u001b[0m\u001b[0;34m\u001b[0m\u001b[0m\n\u001b[0;32m--> 234\u001b[0;31m     \u001b[0;32mreturn\u001b[0m \u001b[0mget\u001b[0m\u001b[0;34m(\u001b[0m\u001b[0mrequest\u001b[0m\u001b[0;34m,\u001b[0m \u001b[0mpath\u001b[0m\u001b[0;34m,\u001b[0m \u001b[0mparams\u001b[0m\u001b[0;34m=\u001b[0m\u001b[0;34m{\u001b[0m\u001b[0;34m\"recursive\"\u001b[0m\u001b[0;34m:\u001b[0m \u001b[0;34m\"true\"\u001b[0m\u001b[0;34m}\u001b[0m\u001b[0;34m)\u001b[0m\u001b[0;34m\u001b[0m\u001b[0;34m\u001b[0m\u001b[0m\n\u001b[0m\u001b[1;32m    235\u001b[0m \u001b[0;34m\u001b[0m\u001b[0m\n",
            "\u001b[0;32m/usr/local/lib/python3.10/dist-packages/google/auth/compute_engine/_metadata.py\u001b[0m in \u001b[0;36mget\u001b[0;34m(request, path, root, params, recursive, retry_count)\u001b[0m\n\u001b[1;32m    181\u001b[0m     \u001b[0;32melse\u001b[0m\u001b[0;34m:\u001b[0m\u001b[0;34m\u001b[0m\u001b[0;34m\u001b[0m\u001b[0m\n\u001b[0;32m--> 182\u001b[0;31m         raise exceptions.TransportError(\n\u001b[0m\u001b[1;32m    183\u001b[0m             \u001b[0;34m\"Failed to retrieve {} from the Google Compute Engine \"\u001b[0m\u001b[0;34m\u001b[0m\u001b[0;34m\u001b[0m\u001b[0m\n",
            "\u001b[0;31mTransportError\u001b[0m: (\"Failed to retrieve http://metadata.google.internal/computeMetadata/v1/instance/service-accounts/default/?recursive=true from the Google Compute Engine metadata service. Status: 404 Response:\\nb''\", <google.auth.transport.requests._Response object at 0x7fa87352b8e0>)",
            "\nThe above exception was the direct cause of the following exception:\n",
            "\u001b[0;31mRefreshError\u001b[0m                              Traceback (most recent call last)",
            "\u001b[0;32m<ipython-input-24-dea3101f1c08>\u001b[0m in \u001b[0;36m<cell line: 1>\u001b[0;34m()\u001b[0m\n\u001b[0;32m----> 1\u001b[0;31m \u001b[0mdf_diesel\u001b[0m \u001b[0;34m=\u001b[0m \u001b[0mpd\u001b[0m\u001b[0;34m.\u001b[0m\u001b[0mread_csv\u001b[0m\u001b[0;34m(\u001b[0m\u001b[0;34m'gs://comercio-cafe/TRATADOS/preco_diesel/preco_diesel.csv'\u001b[0m\u001b[0;34m,\u001b[0m \u001b[0msep\u001b[0m\u001b[0;34m=\u001b[0m\u001b[0;34m','\u001b[0m\u001b[0;34m,\u001b[0m \u001b[0mencoding\u001b[0m\u001b[0;34m=\u001b[0m\u001b[0;34m'utf-8'\u001b[0m\u001b[0;34m)\u001b[0m\u001b[0;34m\u001b[0m\u001b[0;34m\u001b[0m\u001b[0m\n\u001b[0m",
            "\u001b[0;32m/usr/local/lib/python3.10/dist-packages/pandas/util/_decorators.py\u001b[0m in \u001b[0;36mwrapper\u001b[0;34m(*args, **kwargs)\u001b[0m\n\u001b[1;32m    209\u001b[0m                 \u001b[0;32melse\u001b[0m\u001b[0;34m:\u001b[0m\u001b[0;34m\u001b[0m\u001b[0;34m\u001b[0m\u001b[0m\n\u001b[1;32m    210\u001b[0m                     \u001b[0mkwargs\u001b[0m\u001b[0;34m[\u001b[0m\u001b[0mnew_arg_name\u001b[0m\u001b[0;34m]\u001b[0m \u001b[0;34m=\u001b[0m \u001b[0mnew_arg_value\u001b[0m\u001b[0;34m\u001b[0m\u001b[0;34m\u001b[0m\u001b[0m\n\u001b[0;32m--> 211\u001b[0;31m             \u001b[0;32mreturn\u001b[0m \u001b[0mfunc\u001b[0m\u001b[0;34m(\u001b[0m\u001b[0;34m*\u001b[0m\u001b[0margs\u001b[0m\u001b[0;34m,\u001b[0m \u001b[0;34m**\u001b[0m\u001b[0mkwargs\u001b[0m\u001b[0;34m)\u001b[0m\u001b[0;34m\u001b[0m\u001b[0;34m\u001b[0m\u001b[0m\n\u001b[0m\u001b[1;32m    212\u001b[0m \u001b[0;34m\u001b[0m\u001b[0m\n\u001b[1;32m    213\u001b[0m         \u001b[0;32mreturn\u001b[0m \u001b[0mcast\u001b[0m\u001b[0;34m(\u001b[0m\u001b[0mF\u001b[0m\u001b[0;34m,\u001b[0m \u001b[0mwrapper\u001b[0m\u001b[0;34m)\u001b[0m\u001b[0;34m\u001b[0m\u001b[0;34m\u001b[0m\u001b[0m\n",
            "\u001b[0;32m/usr/local/lib/python3.10/dist-packages/pandas/util/_decorators.py\u001b[0m in \u001b[0;36mwrapper\u001b[0;34m(*args, **kwargs)\u001b[0m\n\u001b[1;32m    329\u001b[0m                     \u001b[0mstacklevel\u001b[0m\u001b[0;34m=\u001b[0m\u001b[0mfind_stack_level\u001b[0m\u001b[0;34m(\u001b[0m\u001b[0;34m)\u001b[0m\u001b[0;34m,\u001b[0m\u001b[0;34m\u001b[0m\u001b[0;34m\u001b[0m\u001b[0m\n\u001b[1;32m    330\u001b[0m                 )\n\u001b[0;32m--> 331\u001b[0;31m             \u001b[0;32mreturn\u001b[0m \u001b[0mfunc\u001b[0m\u001b[0;34m(\u001b[0m\u001b[0;34m*\u001b[0m\u001b[0margs\u001b[0m\u001b[0;34m,\u001b[0m \u001b[0;34m**\u001b[0m\u001b[0mkwargs\u001b[0m\u001b[0;34m)\u001b[0m\u001b[0;34m\u001b[0m\u001b[0;34m\u001b[0m\u001b[0m\n\u001b[0m\u001b[1;32m    332\u001b[0m \u001b[0;34m\u001b[0m\u001b[0m\n\u001b[1;32m    333\u001b[0m         \u001b[0;31m# error: \"Callable[[VarArg(Any), KwArg(Any)], Any]\" has no\u001b[0m\u001b[0;34m\u001b[0m\u001b[0;34m\u001b[0m\u001b[0m\n",
            "\u001b[0;32m/usr/local/lib/python3.10/dist-packages/pandas/io/parsers/readers.py\u001b[0m in \u001b[0;36mread_csv\u001b[0;34m(filepath_or_buffer, sep, delimiter, header, names, index_col, usecols, squeeze, prefix, mangle_dupe_cols, dtype, engine, converters, true_values, false_values, skipinitialspace, skiprows, skipfooter, nrows, na_values, keep_default_na, na_filter, verbose, skip_blank_lines, parse_dates, infer_datetime_format, keep_date_col, date_parser, dayfirst, cache_dates, iterator, chunksize, compression, thousands, decimal, lineterminator, quotechar, quoting, doublequote, escapechar, comment, encoding, encoding_errors, dialect, error_bad_lines, warn_bad_lines, on_bad_lines, delim_whitespace, low_memory, memory_map, float_precision, storage_options)\u001b[0m\n\u001b[1;32m    948\u001b[0m     \u001b[0mkwds\u001b[0m\u001b[0;34m.\u001b[0m\u001b[0mupdate\u001b[0m\u001b[0;34m(\u001b[0m\u001b[0mkwds_defaults\u001b[0m\u001b[0;34m)\u001b[0m\u001b[0;34m\u001b[0m\u001b[0;34m\u001b[0m\u001b[0m\n\u001b[1;32m    949\u001b[0m \u001b[0;34m\u001b[0m\u001b[0m\n\u001b[0;32m--> 950\u001b[0;31m     \u001b[0;32mreturn\u001b[0m \u001b[0m_read\u001b[0m\u001b[0;34m(\u001b[0m\u001b[0mfilepath_or_buffer\u001b[0m\u001b[0;34m,\u001b[0m \u001b[0mkwds\u001b[0m\u001b[0;34m)\u001b[0m\u001b[0;34m\u001b[0m\u001b[0;34m\u001b[0m\u001b[0m\n\u001b[0m\u001b[1;32m    951\u001b[0m \u001b[0;34m\u001b[0m\u001b[0m\n\u001b[1;32m    952\u001b[0m \u001b[0;34m\u001b[0m\u001b[0m\n",
            "\u001b[0;32m/usr/local/lib/python3.10/dist-packages/pandas/io/parsers/readers.py\u001b[0m in \u001b[0;36m_read\u001b[0;34m(filepath_or_buffer, kwds)\u001b[0m\n\u001b[1;32m    603\u001b[0m \u001b[0;34m\u001b[0m\u001b[0m\n\u001b[1;32m    604\u001b[0m     \u001b[0;31m# Create the parser.\u001b[0m\u001b[0;34m\u001b[0m\u001b[0;34m\u001b[0m\u001b[0m\n\u001b[0;32m--> 605\u001b[0;31m     \u001b[0mparser\u001b[0m \u001b[0;34m=\u001b[0m \u001b[0mTextFileReader\u001b[0m\u001b[0;34m(\u001b[0m\u001b[0mfilepath_or_buffer\u001b[0m\u001b[0;34m,\u001b[0m \u001b[0;34m**\u001b[0m\u001b[0mkwds\u001b[0m\u001b[0;34m)\u001b[0m\u001b[0;34m\u001b[0m\u001b[0;34m\u001b[0m\u001b[0m\n\u001b[0m\u001b[1;32m    606\u001b[0m \u001b[0;34m\u001b[0m\u001b[0m\n\u001b[1;32m    607\u001b[0m     \u001b[0;32mif\u001b[0m \u001b[0mchunksize\u001b[0m \u001b[0;32mor\u001b[0m \u001b[0miterator\u001b[0m\u001b[0;34m:\u001b[0m\u001b[0;34m\u001b[0m\u001b[0;34m\u001b[0m\u001b[0m\n",
            "\u001b[0;32m/usr/local/lib/python3.10/dist-packages/pandas/io/parsers/readers.py\u001b[0m in \u001b[0;36m__init__\u001b[0;34m(self, f, engine, **kwds)\u001b[0m\n\u001b[1;32m   1440\u001b[0m \u001b[0;34m\u001b[0m\u001b[0m\n\u001b[1;32m   1441\u001b[0m         \u001b[0mself\u001b[0m\u001b[0;34m.\u001b[0m\u001b[0mhandles\u001b[0m\u001b[0;34m:\u001b[0m \u001b[0mIOHandles\u001b[0m \u001b[0;34m|\u001b[0m \u001b[0;32mNone\u001b[0m \u001b[0;34m=\u001b[0m \u001b[0;32mNone\u001b[0m\u001b[0;34m\u001b[0m\u001b[0;34m\u001b[0m\u001b[0m\n\u001b[0;32m-> 1442\u001b[0;31m         \u001b[0mself\u001b[0m\u001b[0;34m.\u001b[0m\u001b[0m_engine\u001b[0m \u001b[0;34m=\u001b[0m \u001b[0mself\u001b[0m\u001b[0;34m.\u001b[0m\u001b[0m_make_engine\u001b[0m\u001b[0;34m(\u001b[0m\u001b[0mf\u001b[0m\u001b[0;34m,\u001b[0m \u001b[0mself\u001b[0m\u001b[0;34m.\u001b[0m\u001b[0mengine\u001b[0m\u001b[0;34m)\u001b[0m\u001b[0;34m\u001b[0m\u001b[0;34m\u001b[0m\u001b[0m\n\u001b[0m\u001b[1;32m   1443\u001b[0m \u001b[0;34m\u001b[0m\u001b[0m\n\u001b[1;32m   1444\u001b[0m     \u001b[0;32mdef\u001b[0m \u001b[0mclose\u001b[0m\u001b[0;34m(\u001b[0m\u001b[0mself\u001b[0m\u001b[0;34m)\u001b[0m \u001b[0;34m->\u001b[0m \u001b[0;32mNone\u001b[0m\u001b[0;34m:\u001b[0m\u001b[0;34m\u001b[0m\u001b[0;34m\u001b[0m\u001b[0m\n",
            "\u001b[0;32m/usr/local/lib/python3.10/dist-packages/pandas/io/parsers/readers.py\u001b[0m in \u001b[0;36m_make_engine\u001b[0;34m(self, f, engine)\u001b[0m\n\u001b[1;32m   1733\u001b[0m                 \u001b[0;32mif\u001b[0m \u001b[0;34m\"b\"\u001b[0m \u001b[0;32mnot\u001b[0m \u001b[0;32min\u001b[0m \u001b[0mmode\u001b[0m\u001b[0;34m:\u001b[0m\u001b[0;34m\u001b[0m\u001b[0;34m\u001b[0m\u001b[0m\n\u001b[1;32m   1734\u001b[0m                     \u001b[0mmode\u001b[0m \u001b[0;34m+=\u001b[0m \u001b[0;34m\"b\"\u001b[0m\u001b[0;34m\u001b[0m\u001b[0;34m\u001b[0m\u001b[0m\n\u001b[0;32m-> 1735\u001b[0;31m             self.handles = get_handle(\n\u001b[0m\u001b[1;32m   1736\u001b[0m                 \u001b[0mf\u001b[0m\u001b[0;34m,\u001b[0m\u001b[0;34m\u001b[0m\u001b[0;34m\u001b[0m\u001b[0m\n\u001b[1;32m   1737\u001b[0m                 \u001b[0mmode\u001b[0m\u001b[0;34m,\u001b[0m\u001b[0;34m\u001b[0m\u001b[0;34m\u001b[0m\u001b[0m\n",
            "\u001b[0;32m/usr/local/lib/python3.10/dist-packages/pandas/io/common.py\u001b[0m in \u001b[0;36mget_handle\u001b[0;34m(path_or_buf, mode, encoding, compression, memory_map, is_text, errors, storage_options)\u001b[0m\n\u001b[1;32m    711\u001b[0m \u001b[0;34m\u001b[0m\u001b[0m\n\u001b[1;32m    712\u001b[0m     \u001b[0;31m# open URLs\u001b[0m\u001b[0;34m\u001b[0m\u001b[0;34m\u001b[0m\u001b[0m\n\u001b[0;32m--> 713\u001b[0;31m     ioargs = _get_filepath_or_buffer(\n\u001b[0m\u001b[1;32m    714\u001b[0m         \u001b[0mpath_or_buf\u001b[0m\u001b[0;34m,\u001b[0m\u001b[0;34m\u001b[0m\u001b[0;34m\u001b[0m\u001b[0m\n\u001b[1;32m    715\u001b[0m         \u001b[0mencoding\u001b[0m\u001b[0;34m=\u001b[0m\u001b[0mencoding\u001b[0m\u001b[0;34m,\u001b[0m\u001b[0;34m\u001b[0m\u001b[0;34m\u001b[0m\u001b[0m\n",
            "\u001b[0;32m/usr/local/lib/python3.10/dist-packages/pandas/io/common.py\u001b[0m in \u001b[0;36m_get_filepath_or_buffer\u001b[0;34m(filepath_or_buffer, encoding, compression, mode, storage_options)\u001b[0m\n\u001b[1;32m    409\u001b[0m             file_obj = fsspec.open(\n\u001b[1;32m    410\u001b[0m                 \u001b[0mfilepath_or_buffer\u001b[0m\u001b[0;34m,\u001b[0m \u001b[0mmode\u001b[0m\u001b[0;34m=\u001b[0m\u001b[0mfsspec_mode\u001b[0m\u001b[0;34m,\u001b[0m \u001b[0;34m**\u001b[0m\u001b[0;34m(\u001b[0m\u001b[0mstorage_options\u001b[0m \u001b[0;32mor\u001b[0m \u001b[0;34m{\u001b[0m\u001b[0;34m}\u001b[0m\u001b[0;34m)\u001b[0m\u001b[0;34m\u001b[0m\u001b[0;34m\u001b[0m\u001b[0m\n\u001b[0;32m--> 411\u001b[0;31m             ).open()\n\u001b[0m\u001b[1;32m    412\u001b[0m         \u001b[0;31m# GH 34626 Reads from Public Buckets without Credentials needs anon=True\u001b[0m\u001b[0;34m\u001b[0m\u001b[0;34m\u001b[0m\u001b[0m\n\u001b[1;32m    413\u001b[0m         \u001b[0;32mexcept\u001b[0m \u001b[0mtuple\u001b[0m\u001b[0;34m(\u001b[0m\u001b[0merr_types_to_retry_with_anon\u001b[0m\u001b[0;34m)\u001b[0m\u001b[0;34m:\u001b[0m\u001b[0;34m\u001b[0m\u001b[0;34m\u001b[0m\u001b[0m\n",
            "\u001b[0;32m/usr/local/lib/python3.10/dist-packages/fsspec/core.py\u001b[0m in \u001b[0;36mopen\u001b[0;34m(self)\u001b[0m\n\u001b[1;32m    132\u001b[0m         \u001b[0mduring\u001b[0m \u001b[0mthe\u001b[0m \u001b[0mlife\u001b[0m \u001b[0mof\u001b[0m \u001b[0mthe\u001b[0m \u001b[0mfile\u001b[0m\u001b[0;34m-\u001b[0m\u001b[0mlike\u001b[0m \u001b[0mit\u001b[0m \u001b[0mgenerates\u001b[0m\u001b[0;34m.\u001b[0m\u001b[0;34m\u001b[0m\u001b[0;34m\u001b[0m\u001b[0m\n\u001b[1;32m    133\u001b[0m         \"\"\"\n\u001b[0;32m--> 134\u001b[0;31m         \u001b[0;32mreturn\u001b[0m \u001b[0mself\u001b[0m\u001b[0;34m.\u001b[0m\u001b[0m__enter__\u001b[0m\u001b[0;34m(\u001b[0m\u001b[0;34m)\u001b[0m\u001b[0;34m\u001b[0m\u001b[0;34m\u001b[0m\u001b[0m\n\u001b[0m\u001b[1;32m    135\u001b[0m \u001b[0;34m\u001b[0m\u001b[0m\n\u001b[1;32m    136\u001b[0m     \u001b[0;32mdef\u001b[0m \u001b[0mclose\u001b[0m\u001b[0;34m(\u001b[0m\u001b[0mself\u001b[0m\u001b[0;34m)\u001b[0m\u001b[0;34m:\u001b[0m\u001b[0;34m\u001b[0m\u001b[0;34m\u001b[0m\u001b[0m\n",
            "\u001b[0;32m/usr/local/lib/python3.10/dist-packages/fsspec/core.py\u001b[0m in \u001b[0;36m__enter__\u001b[0;34m(self)\u001b[0m\n\u001b[1;32m    100\u001b[0m         \u001b[0mmode\u001b[0m \u001b[0;34m=\u001b[0m \u001b[0mself\u001b[0m\u001b[0;34m.\u001b[0m\u001b[0mmode\u001b[0m\u001b[0;34m.\u001b[0m\u001b[0mreplace\u001b[0m\u001b[0;34m(\u001b[0m\u001b[0;34m\"t\"\u001b[0m\u001b[0;34m,\u001b[0m \u001b[0;34m\"\"\u001b[0m\u001b[0;34m)\u001b[0m\u001b[0;34m.\u001b[0m\u001b[0mreplace\u001b[0m\u001b[0;34m(\u001b[0m\u001b[0;34m\"b\"\u001b[0m\u001b[0;34m,\u001b[0m \u001b[0;34m\"\"\u001b[0m\u001b[0;34m)\u001b[0m \u001b[0;34m+\u001b[0m \u001b[0;34m\"b\"\u001b[0m\u001b[0;34m\u001b[0m\u001b[0;34m\u001b[0m\u001b[0m\n\u001b[1;32m    101\u001b[0m \u001b[0;34m\u001b[0m\u001b[0m\n\u001b[0;32m--> 102\u001b[0;31m         \u001b[0mf\u001b[0m \u001b[0;34m=\u001b[0m \u001b[0mself\u001b[0m\u001b[0;34m.\u001b[0m\u001b[0mfs\u001b[0m\u001b[0;34m.\u001b[0m\u001b[0mopen\u001b[0m\u001b[0;34m(\u001b[0m\u001b[0mself\u001b[0m\u001b[0;34m.\u001b[0m\u001b[0mpath\u001b[0m\u001b[0;34m,\u001b[0m \u001b[0mmode\u001b[0m\u001b[0;34m=\u001b[0m\u001b[0mmode\u001b[0m\u001b[0;34m)\u001b[0m\u001b[0;34m\u001b[0m\u001b[0;34m\u001b[0m\u001b[0m\n\u001b[0m\u001b[1;32m    103\u001b[0m \u001b[0;34m\u001b[0m\u001b[0m\n\u001b[1;32m    104\u001b[0m         \u001b[0mself\u001b[0m\u001b[0;34m.\u001b[0m\u001b[0mfobjects\u001b[0m \u001b[0;34m=\u001b[0m \u001b[0;34m[\u001b[0m\u001b[0mf\u001b[0m\u001b[0;34m]\u001b[0m\u001b[0;34m\u001b[0m\u001b[0;34m\u001b[0m\u001b[0m\n",
            "\u001b[0;32m/usr/local/lib/python3.10/dist-packages/fsspec/spec.py\u001b[0m in \u001b[0;36mopen\u001b[0;34m(self, path, mode, block_size, cache_options, compression, **kwargs)\u001b[0m\n\u001b[1;32m   1197\u001b[0m         \u001b[0;32melse\u001b[0m\u001b[0;34m:\u001b[0m\u001b[0;34m\u001b[0m\u001b[0;34m\u001b[0m\u001b[0m\n\u001b[1;32m   1198\u001b[0m             \u001b[0mac\u001b[0m \u001b[0;34m=\u001b[0m \u001b[0mkwargs\u001b[0m\u001b[0;34m.\u001b[0m\u001b[0mpop\u001b[0m\u001b[0;34m(\u001b[0m\u001b[0;34m\"autocommit\"\u001b[0m\u001b[0;34m,\u001b[0m \u001b[0;32mnot\u001b[0m \u001b[0mself\u001b[0m\u001b[0;34m.\u001b[0m\u001b[0m_intrans\u001b[0m\u001b[0;34m)\u001b[0m\u001b[0;34m\u001b[0m\u001b[0;34m\u001b[0m\u001b[0m\n\u001b[0;32m-> 1199\u001b[0;31m             f = self._open(\n\u001b[0m\u001b[1;32m   1200\u001b[0m                 \u001b[0mpath\u001b[0m\u001b[0;34m,\u001b[0m\u001b[0;34m\u001b[0m\u001b[0;34m\u001b[0m\u001b[0m\n\u001b[1;32m   1201\u001b[0m                 \u001b[0mmode\u001b[0m\u001b[0;34m=\u001b[0m\u001b[0mmode\u001b[0m\u001b[0;34m,\u001b[0m\u001b[0;34m\u001b[0m\u001b[0;34m\u001b[0m\u001b[0m\n",
            "\u001b[0;32m/usr/local/lib/python3.10/dist-packages/gcsfs/core.py\u001b[0m in \u001b[0;36m_open\u001b[0;34m(self, path, mode, block_size, cache_options, acl, consistency, metadata, autocommit, fixed_key_metadata, generation, **kwargs)\u001b[0m\n\u001b[1;32m   1318\u001b[0m             \u001b[0mblock_size\u001b[0m \u001b[0;34m=\u001b[0m \u001b[0mself\u001b[0m\u001b[0;34m.\u001b[0m\u001b[0mdefault_block_size\u001b[0m\u001b[0;34m\u001b[0m\u001b[0;34m\u001b[0m\u001b[0m\n\u001b[1;32m   1319\u001b[0m         \u001b[0mconst\u001b[0m \u001b[0;34m=\u001b[0m \u001b[0mconsistency\u001b[0m \u001b[0;32mor\u001b[0m \u001b[0mself\u001b[0m\u001b[0;34m.\u001b[0m\u001b[0mconsistency\u001b[0m\u001b[0;34m\u001b[0m\u001b[0;34m\u001b[0m\u001b[0m\n\u001b[0;32m-> 1320\u001b[0;31m         return GCSFile(\n\u001b[0m\u001b[1;32m   1321\u001b[0m             \u001b[0mself\u001b[0m\u001b[0;34m,\u001b[0m\u001b[0;34m\u001b[0m\u001b[0;34m\u001b[0m\u001b[0m\n\u001b[1;32m   1322\u001b[0m             \u001b[0mpath\u001b[0m\u001b[0;34m,\u001b[0m\u001b[0;34m\u001b[0m\u001b[0;34m\u001b[0m\u001b[0m\n",
            "\u001b[0;32m/usr/local/lib/python3.10/dist-packages/gcsfs/core.py\u001b[0m in \u001b[0;36m__init__\u001b[0;34m(self, gcsfs, path, mode, block_size, autocommit, cache_type, cache_options, acl, consistency, metadata, content_type, timeout, fixed_key_metadata, generation, **kwargs)\u001b[0m\n\u001b[1;32m   1477\u001b[0m             \u001b[0;32mraise\u001b[0m \u001b[0mOSError\u001b[0m\u001b[0;34m(\u001b[0m\u001b[0;34m\"Attempt to open a bucket\"\u001b[0m\u001b[0;34m)\u001b[0m\u001b[0;34m\u001b[0m\u001b[0;34m\u001b[0m\u001b[0m\n\u001b[1;32m   1478\u001b[0m         \u001b[0mself\u001b[0m\u001b[0;34m.\u001b[0m\u001b[0mgeneration\u001b[0m \u001b[0;34m=\u001b[0m \u001b[0m_coalesce_generation\u001b[0m\u001b[0;34m(\u001b[0m\u001b[0mgeneration\u001b[0m\u001b[0;34m,\u001b[0m \u001b[0mpath_generation\u001b[0m\u001b[0;34m)\u001b[0m\u001b[0;34m\u001b[0m\u001b[0;34m\u001b[0m\u001b[0m\n\u001b[0;32m-> 1479\u001b[0;31m         super().__init__(\n\u001b[0m\u001b[1;32m   1480\u001b[0m             \u001b[0mgcsfs\u001b[0m\u001b[0;34m,\u001b[0m\u001b[0;34m\u001b[0m\u001b[0;34m\u001b[0m\u001b[0m\n\u001b[1;32m   1481\u001b[0m             \u001b[0mpath\u001b[0m\u001b[0;34m,\u001b[0m\u001b[0;34m\u001b[0m\u001b[0;34m\u001b[0m\u001b[0m\n",
            "\u001b[0;32m/usr/local/lib/python3.10/dist-packages/fsspec/spec.py\u001b[0m in \u001b[0;36m__init__\u001b[0;34m(self, fs, path, mode, block_size, autocommit, cache_type, cache_options, size, **kwargs)\u001b[0m\n\u001b[1;32m   1553\u001b[0m                 \u001b[0mself\u001b[0m\u001b[0;34m.\u001b[0m\u001b[0msize\u001b[0m \u001b[0;34m=\u001b[0m \u001b[0msize\u001b[0m\u001b[0;34m\u001b[0m\u001b[0;34m\u001b[0m\u001b[0m\n\u001b[1;32m   1554\u001b[0m             \u001b[0;32melse\u001b[0m\u001b[0;34m:\u001b[0m\u001b[0;34m\u001b[0m\u001b[0;34m\u001b[0m\u001b[0m\n\u001b[0;32m-> 1555\u001b[0;31m                 \u001b[0mself\u001b[0m\u001b[0;34m.\u001b[0m\u001b[0msize\u001b[0m \u001b[0;34m=\u001b[0m \u001b[0mself\u001b[0m\u001b[0;34m.\u001b[0m\u001b[0mdetails\u001b[0m\u001b[0;34m[\u001b[0m\u001b[0;34m\"size\"\u001b[0m\u001b[0;34m]\u001b[0m\u001b[0;34m\u001b[0m\u001b[0;34m\u001b[0m\u001b[0m\n\u001b[0m\u001b[1;32m   1556\u001b[0m             self.cache = caches[cache_type](\n\u001b[1;32m   1557\u001b[0m                 \u001b[0mself\u001b[0m\u001b[0;34m.\u001b[0m\u001b[0mblocksize\u001b[0m\u001b[0;34m,\u001b[0m \u001b[0mself\u001b[0m\u001b[0;34m.\u001b[0m\u001b[0m_fetch_range\u001b[0m\u001b[0;34m,\u001b[0m \u001b[0mself\u001b[0m\u001b[0;34m.\u001b[0m\u001b[0msize\u001b[0m\u001b[0;34m,\u001b[0m \u001b[0;34m**\u001b[0m\u001b[0mcache_options\u001b[0m\u001b[0;34m\u001b[0m\u001b[0;34m\u001b[0m\u001b[0m\n",
            "\u001b[0;32m/usr/local/lib/python3.10/dist-packages/gcsfs/core.py\u001b[0m in \u001b[0;36mdetails\u001b[0;34m(self)\u001b[0m\n\u001b[1;32m   1513\u001b[0m     \u001b[0;32mdef\u001b[0m \u001b[0mdetails\u001b[0m\u001b[0;34m(\u001b[0m\u001b[0mself\u001b[0m\u001b[0;34m)\u001b[0m\u001b[0;34m:\u001b[0m\u001b[0;34m\u001b[0m\u001b[0;34m\u001b[0m\u001b[0m\n\u001b[1;32m   1514\u001b[0m         \u001b[0;32mif\u001b[0m \u001b[0mself\u001b[0m\u001b[0;34m.\u001b[0m\u001b[0m_details\u001b[0m \u001b[0;32mis\u001b[0m \u001b[0;32mNone\u001b[0m\u001b[0;34m:\u001b[0m\u001b[0;34m\u001b[0m\u001b[0;34m\u001b[0m\u001b[0m\n\u001b[0;32m-> 1515\u001b[0;31m             \u001b[0mself\u001b[0m\u001b[0;34m.\u001b[0m\u001b[0m_details\u001b[0m \u001b[0;34m=\u001b[0m \u001b[0mself\u001b[0m\u001b[0;34m.\u001b[0m\u001b[0mfs\u001b[0m\u001b[0;34m.\u001b[0m\u001b[0minfo\u001b[0m\u001b[0;34m(\u001b[0m\u001b[0mself\u001b[0m\u001b[0;34m.\u001b[0m\u001b[0mpath\u001b[0m\u001b[0;34m,\u001b[0m \u001b[0mgeneration\u001b[0m\u001b[0;34m=\u001b[0m\u001b[0mself\u001b[0m\u001b[0;34m.\u001b[0m\u001b[0mgeneration\u001b[0m\u001b[0;34m)\u001b[0m\u001b[0;34m\u001b[0m\u001b[0;34m\u001b[0m\u001b[0m\n\u001b[0m\u001b[1;32m   1516\u001b[0m         \u001b[0;32mreturn\u001b[0m \u001b[0mself\u001b[0m\u001b[0;34m.\u001b[0m\u001b[0m_details\u001b[0m\u001b[0;34m\u001b[0m\u001b[0;34m\u001b[0m\u001b[0m\n\u001b[1;32m   1517\u001b[0m \u001b[0;34m\u001b[0m\u001b[0m\n",
            "\u001b[0;32m/usr/local/lib/python3.10/dist-packages/fsspec/asyn.py\u001b[0m in \u001b[0;36mwrapper\u001b[0;34m(*args, **kwargs)\u001b[0m\n\u001b[1;32m    113\u001b[0m     \u001b[0;32mdef\u001b[0m \u001b[0mwrapper\u001b[0m\u001b[0;34m(\u001b[0m\u001b[0;34m*\u001b[0m\u001b[0margs\u001b[0m\u001b[0;34m,\u001b[0m \u001b[0;34m**\u001b[0m\u001b[0mkwargs\u001b[0m\u001b[0;34m)\u001b[0m\u001b[0;34m:\u001b[0m\u001b[0;34m\u001b[0m\u001b[0;34m\u001b[0m\u001b[0m\n\u001b[1;32m    114\u001b[0m         \u001b[0mself\u001b[0m \u001b[0;34m=\u001b[0m \u001b[0mobj\u001b[0m \u001b[0;32mor\u001b[0m \u001b[0margs\u001b[0m\u001b[0;34m[\u001b[0m\u001b[0;36m0\u001b[0m\u001b[0;34m]\u001b[0m\u001b[0;34m\u001b[0m\u001b[0;34m\u001b[0m\u001b[0m\n\u001b[0;32m--> 115\u001b[0;31m         \u001b[0;32mreturn\u001b[0m \u001b[0msync\u001b[0m\u001b[0;34m(\u001b[0m\u001b[0mself\u001b[0m\u001b[0;34m.\u001b[0m\u001b[0mloop\u001b[0m\u001b[0;34m,\u001b[0m \u001b[0mfunc\u001b[0m\u001b[0;34m,\u001b[0m \u001b[0;34m*\u001b[0m\u001b[0margs\u001b[0m\u001b[0;34m,\u001b[0m \u001b[0;34m**\u001b[0m\u001b[0mkwargs\u001b[0m\u001b[0;34m)\u001b[0m\u001b[0;34m\u001b[0m\u001b[0;34m\u001b[0m\u001b[0m\n\u001b[0m\u001b[1;32m    116\u001b[0m \u001b[0;34m\u001b[0m\u001b[0m\n\u001b[1;32m    117\u001b[0m     \u001b[0;32mreturn\u001b[0m \u001b[0mwrapper\u001b[0m\u001b[0;34m\u001b[0m\u001b[0;34m\u001b[0m\u001b[0m\n",
            "\u001b[0;32m/usr/local/lib/python3.10/dist-packages/fsspec/asyn.py\u001b[0m in \u001b[0;36msync\u001b[0;34m(loop, func, timeout, *args, **kwargs)\u001b[0m\n\u001b[1;32m     98\u001b[0m         \u001b[0;32mraise\u001b[0m \u001b[0mFSTimeoutError\u001b[0m \u001b[0;32mfrom\u001b[0m \u001b[0mreturn_result\u001b[0m\u001b[0;34m\u001b[0m\u001b[0;34m\u001b[0m\u001b[0m\n\u001b[1;32m     99\u001b[0m     \u001b[0;32melif\u001b[0m \u001b[0misinstance\u001b[0m\u001b[0;34m(\u001b[0m\u001b[0mreturn_result\u001b[0m\u001b[0;34m,\u001b[0m \u001b[0mBaseException\u001b[0m\u001b[0;34m)\u001b[0m\u001b[0;34m:\u001b[0m\u001b[0;34m\u001b[0m\u001b[0;34m\u001b[0m\u001b[0m\n\u001b[0;32m--> 100\u001b[0;31m         \u001b[0;32mraise\u001b[0m \u001b[0mreturn_result\u001b[0m\u001b[0;34m\u001b[0m\u001b[0;34m\u001b[0m\u001b[0m\n\u001b[0m\u001b[1;32m    101\u001b[0m     \u001b[0;32melse\u001b[0m\u001b[0;34m:\u001b[0m\u001b[0;34m\u001b[0m\u001b[0;34m\u001b[0m\u001b[0m\n\u001b[1;32m    102\u001b[0m         \u001b[0;32mreturn\u001b[0m \u001b[0mreturn_result\u001b[0m\u001b[0;34m\u001b[0m\u001b[0;34m\u001b[0m\u001b[0m\n",
            "\u001b[0;32m/usr/local/lib/python3.10/dist-packages/fsspec/asyn.py\u001b[0m in \u001b[0;36m_runner\u001b[0;34m(event, coro, result, timeout)\u001b[0m\n\u001b[1;32m     53\u001b[0m         \u001b[0mcoro\u001b[0m \u001b[0;34m=\u001b[0m \u001b[0masyncio\u001b[0m\u001b[0;34m.\u001b[0m\u001b[0mwait_for\u001b[0m\u001b[0;34m(\u001b[0m\u001b[0mcoro\u001b[0m\u001b[0;34m,\u001b[0m \u001b[0mtimeout\u001b[0m\u001b[0;34m=\u001b[0m\u001b[0mtimeout\u001b[0m\u001b[0;34m)\u001b[0m\u001b[0;34m\u001b[0m\u001b[0;34m\u001b[0m\u001b[0m\n\u001b[1;32m     54\u001b[0m     \u001b[0;32mtry\u001b[0m\u001b[0;34m:\u001b[0m\u001b[0;34m\u001b[0m\u001b[0;34m\u001b[0m\u001b[0m\n\u001b[0;32m---> 55\u001b[0;31m         \u001b[0mresult\u001b[0m\u001b[0;34m[\u001b[0m\u001b[0;36m0\u001b[0m\u001b[0;34m]\u001b[0m \u001b[0;34m=\u001b[0m \u001b[0;32mawait\u001b[0m \u001b[0mcoro\u001b[0m\u001b[0;34m\u001b[0m\u001b[0;34m\u001b[0m\u001b[0m\n\u001b[0m\u001b[1;32m     56\u001b[0m     \u001b[0;32mexcept\u001b[0m \u001b[0mException\u001b[0m \u001b[0;32mas\u001b[0m \u001b[0mex\u001b[0m\u001b[0;34m:\u001b[0m\u001b[0;34m\u001b[0m\u001b[0;34m\u001b[0m\u001b[0m\n\u001b[1;32m     57\u001b[0m         \u001b[0mresult\u001b[0m\u001b[0;34m[\u001b[0m\u001b[0;36m0\u001b[0m\u001b[0;34m]\u001b[0m \u001b[0;34m=\u001b[0m \u001b[0mex\u001b[0m\u001b[0;34m\u001b[0m\u001b[0;34m\u001b[0m\u001b[0m\n",
            "\u001b[0;32m/usr/local/lib/python3.10/dist-packages/gcsfs/core.py\u001b[0m in \u001b[0;36m_info\u001b[0;34m(self, path, generation, **kwargs)\u001b[0m\n\u001b[1;32m    799\u001b[0m         \u001b[0;31m# Check exact file path\u001b[0m\u001b[0;34m\u001b[0m\u001b[0;34m\u001b[0m\u001b[0m\n\u001b[1;32m    800\u001b[0m         \u001b[0;32mtry\u001b[0m\u001b[0;34m:\u001b[0m\u001b[0;34m\u001b[0m\u001b[0;34m\u001b[0m\u001b[0m\n\u001b[0;32m--> 801\u001b[0;31m             \u001b[0mexact\u001b[0m \u001b[0;34m=\u001b[0m \u001b[0;32mawait\u001b[0m \u001b[0mself\u001b[0m\u001b[0;34m.\u001b[0m\u001b[0m_get_object\u001b[0m\u001b[0;34m(\u001b[0m\u001b[0mpath\u001b[0m\u001b[0;34m)\u001b[0m\u001b[0;34m\u001b[0m\u001b[0;34m\u001b[0m\u001b[0m\n\u001b[0m\u001b[1;32m    802\u001b[0m             \u001b[0;31m# this condition finds a \"placeholder\" - still need to check if it's a directory\u001b[0m\u001b[0;34m\u001b[0m\u001b[0;34m\u001b[0m\u001b[0m\n\u001b[1;32m    803\u001b[0m             \u001b[0;32mif\u001b[0m \u001b[0mexact\u001b[0m\u001b[0;34m[\u001b[0m\u001b[0;34m\"size\"\u001b[0m\u001b[0;34m]\u001b[0m \u001b[0;32mor\u001b[0m \u001b[0;32mnot\u001b[0m \u001b[0mexact\u001b[0m\u001b[0;34m[\u001b[0m\u001b[0;34m\"name\"\u001b[0m\u001b[0;34m]\u001b[0m\u001b[0;34m.\u001b[0m\u001b[0mendswith\u001b[0m\u001b[0;34m(\u001b[0m\u001b[0;34m\"/\"\u001b[0m\u001b[0;34m)\u001b[0m\u001b[0;34m:\u001b[0m\u001b[0;34m\u001b[0m\u001b[0;34m\u001b[0m\u001b[0m\n",
            "\u001b[0;32m/usr/local/lib/python3.10/dist-packages/gcsfs/core.py\u001b[0m in \u001b[0;36m_get_object\u001b[0;34m(self, path)\u001b[0m\n\u001b[1;32m    500\u001b[0m         \u001b[0;31m# fall back to a bucket list + filter to object name (storage.objects.list).\u001b[0m\u001b[0;34m\u001b[0m\u001b[0;34m\u001b[0m\u001b[0m\n\u001b[1;32m    501\u001b[0m         \u001b[0;32mtry\u001b[0m\u001b[0;34m:\u001b[0m\u001b[0;34m\u001b[0m\u001b[0;34m\u001b[0m\u001b[0m\n\u001b[0;32m--> 502\u001b[0;31m             res = await self._call(\n\u001b[0m\u001b[1;32m    503\u001b[0m                 \u001b[0;34m\"GET\"\u001b[0m\u001b[0;34m,\u001b[0m \u001b[0;34m\"b/{}/o/{}\"\u001b[0m\u001b[0;34m,\u001b[0m \u001b[0mbucket\u001b[0m\u001b[0;34m,\u001b[0m \u001b[0mkey\u001b[0m\u001b[0;34m,\u001b[0m \u001b[0mjson_out\u001b[0m\u001b[0;34m=\u001b[0m\u001b[0;32mTrue\u001b[0m\u001b[0;34m,\u001b[0m \u001b[0mgeneration\u001b[0m\u001b[0;34m=\u001b[0m\u001b[0mgeneration\u001b[0m\u001b[0;34m\u001b[0m\u001b[0;34m\u001b[0m\u001b[0m\n\u001b[1;32m    504\u001b[0m             )\n",
            "\u001b[0;32m/usr/local/lib/python3.10/dist-packages/gcsfs/core.py\u001b[0m in \u001b[0;36m_call\u001b[0;34m(self, method, path, json_out, info_out, *args, **kwargs)\u001b[0m\n\u001b[1;32m    427\u001b[0m     ):\n\u001b[1;32m    428\u001b[0m         \u001b[0mlogger\u001b[0m\u001b[0;34m.\u001b[0m\u001b[0mdebug\u001b[0m\u001b[0;34m(\u001b[0m\u001b[0;34mf\"{method.upper()}: {path}, {args}, {kwargs.get('headers')}\"\u001b[0m\u001b[0;34m)\u001b[0m\u001b[0;34m\u001b[0m\u001b[0;34m\u001b[0m\u001b[0m\n\u001b[0;32m--> 429\u001b[0;31m         status, headers, info, contents = await self._request(\n\u001b[0m\u001b[1;32m    430\u001b[0m             \u001b[0mmethod\u001b[0m\u001b[0;34m,\u001b[0m \u001b[0mpath\u001b[0m\u001b[0;34m,\u001b[0m \u001b[0;34m*\u001b[0m\u001b[0margs\u001b[0m\u001b[0;34m,\u001b[0m \u001b[0;34m**\u001b[0m\u001b[0mkwargs\u001b[0m\u001b[0;34m\u001b[0m\u001b[0;34m\u001b[0m\u001b[0m\n\u001b[1;32m    431\u001b[0m         )\n",
            "\u001b[0;32m<decorator-gen-119>\u001b[0m in \u001b[0;36m_request\u001b[0;34m(self, method, path, headers, json, data, *args, **kwargs)\u001b[0m\n",
            "\u001b[0;32m/usr/local/lib/python3.10/dist-packages/gcsfs/retry.py\u001b[0m in \u001b[0;36mretry_request\u001b[0;34m(func, retries, *args, **kwargs)\u001b[0m\n\u001b[1;32m    142\u001b[0m             \u001b[0;32mif\u001b[0m \u001b[0mretry\u001b[0m \u001b[0;34m==\u001b[0m \u001b[0mretries\u001b[0m \u001b[0;34m-\u001b[0m \u001b[0;36m1\u001b[0m\u001b[0;34m:\u001b[0m\u001b[0;34m\u001b[0m\u001b[0;34m\u001b[0m\u001b[0m\n\u001b[1;32m    143\u001b[0m                 \u001b[0mlogger\u001b[0m\u001b[0;34m.\u001b[0m\u001b[0mexception\u001b[0m\u001b[0;34m(\u001b[0m\u001b[0;34mf\"{func.__name__} out of retries on exception: {e}\"\u001b[0m\u001b[0;34m)\u001b[0m\u001b[0;34m\u001b[0m\u001b[0;34m\u001b[0m\u001b[0m\n\u001b[0;32m--> 144\u001b[0;31m                 \u001b[0;32mraise\u001b[0m \u001b[0me\u001b[0m\u001b[0;34m\u001b[0m\u001b[0;34m\u001b[0m\u001b[0m\n\u001b[0m\u001b[1;32m    145\u001b[0m             \u001b[0;32mif\u001b[0m \u001b[0mis_retriable\u001b[0m\u001b[0;34m(\u001b[0m\u001b[0me\u001b[0m\u001b[0;34m)\u001b[0m\u001b[0;34m:\u001b[0m\u001b[0;34m\u001b[0m\u001b[0;34m\u001b[0m\u001b[0m\n\u001b[1;32m    146\u001b[0m                 \u001b[0mlogger\u001b[0m\u001b[0;34m.\u001b[0m\u001b[0mdebug\u001b[0m\u001b[0;34m(\u001b[0m\u001b[0;34mf\"{func.__name__} retrying after exception: {e}\"\u001b[0m\u001b[0;34m)\u001b[0m\u001b[0;34m\u001b[0m\u001b[0;34m\u001b[0m\u001b[0m\n",
            "\u001b[0;32m/usr/local/lib/python3.10/dist-packages/gcsfs/retry.py\u001b[0m in \u001b[0;36mretry_request\u001b[0;34m(func, retries, *args, **kwargs)\u001b[0m\n\u001b[1;32m    112\u001b[0m             \u001b[0;32mif\u001b[0m \u001b[0mretry\u001b[0m \u001b[0;34m>\u001b[0m \u001b[0;36m0\u001b[0m\u001b[0;34m:\u001b[0m\u001b[0;34m\u001b[0m\u001b[0;34m\u001b[0m\u001b[0m\n\u001b[1;32m    113\u001b[0m                 \u001b[0;32mawait\u001b[0m \u001b[0masyncio\u001b[0m\u001b[0;34m.\u001b[0m\u001b[0msleep\u001b[0m\u001b[0;34m(\u001b[0m\u001b[0mmin\u001b[0m\u001b[0;34m(\u001b[0m\u001b[0mrandom\u001b[0m\u001b[0;34m.\u001b[0m\u001b[0mrandom\u001b[0m\u001b[0;34m(\u001b[0m\u001b[0;34m)\u001b[0m \u001b[0;34m+\u001b[0m \u001b[0;36m2\u001b[0m \u001b[0;34m**\u001b[0m \u001b[0;34m(\u001b[0m\u001b[0mretry\u001b[0m \u001b[0;34m-\u001b[0m \u001b[0;36m1\u001b[0m\u001b[0;34m)\u001b[0m\u001b[0;34m,\u001b[0m \u001b[0;36m32\u001b[0m\u001b[0;34m)\u001b[0m\u001b[0;34m)\u001b[0m\u001b[0;34m\u001b[0m\u001b[0;34m\u001b[0m\u001b[0m\n\u001b[0;32m--> 114\u001b[0;31m             \u001b[0;32mreturn\u001b[0m \u001b[0;32mawait\u001b[0m \u001b[0mfunc\u001b[0m\u001b[0;34m(\u001b[0m\u001b[0;34m*\u001b[0m\u001b[0margs\u001b[0m\u001b[0;34m,\u001b[0m \u001b[0;34m**\u001b[0m\u001b[0mkwargs\u001b[0m\u001b[0;34m)\u001b[0m\u001b[0;34m\u001b[0m\u001b[0;34m\u001b[0m\u001b[0m\n\u001b[0m\u001b[1;32m    115\u001b[0m         except (\n\u001b[1;32m    116\u001b[0m             \u001b[0mHttpError\u001b[0m\u001b[0;34m,\u001b[0m\u001b[0;34m\u001b[0m\u001b[0;34m\u001b[0m\u001b[0m\n",
            "\u001b[0;32m/usr/local/lib/python3.10/dist-packages/gcsfs/core.py\u001b[0m in \u001b[0;36m_request\u001b[0;34m(self, method, path, headers, json, data, *args, **kwargs)\u001b[0m\n\u001b[1;32m    411\u001b[0m             \u001b[0mparams\u001b[0m\u001b[0;34m=\u001b[0m\u001b[0mself\u001b[0m\u001b[0;34m.\u001b[0m\u001b[0m_get_params\u001b[0m\u001b[0;34m(\u001b[0m\u001b[0mkwargs\u001b[0m\u001b[0;34m)\u001b[0m\u001b[0;34m,\u001b[0m\u001b[0;34m\u001b[0m\u001b[0;34m\u001b[0m\u001b[0m\n\u001b[1;32m    412\u001b[0m             \u001b[0mjson\u001b[0m\u001b[0;34m=\u001b[0m\u001b[0mjson\u001b[0m\u001b[0;34m,\u001b[0m\u001b[0;34m\u001b[0m\u001b[0;34m\u001b[0m\u001b[0m\n\u001b[0;32m--> 413\u001b[0;31m             \u001b[0mheaders\u001b[0m\u001b[0;34m=\u001b[0m\u001b[0mself\u001b[0m\u001b[0;34m.\u001b[0m\u001b[0m_get_headers\u001b[0m\u001b[0;34m(\u001b[0m\u001b[0mheaders\u001b[0m\u001b[0;34m)\u001b[0m\u001b[0;34m,\u001b[0m\u001b[0;34m\u001b[0m\u001b[0;34m\u001b[0m\u001b[0m\n\u001b[0m\u001b[1;32m    414\u001b[0m             \u001b[0mdata\u001b[0m\u001b[0;34m=\u001b[0m\u001b[0mdata\u001b[0m\u001b[0;34m,\u001b[0m\u001b[0;34m\u001b[0m\u001b[0;34m\u001b[0m\u001b[0m\n\u001b[1;32m    415\u001b[0m             \u001b[0mtimeout\u001b[0m\u001b[0;34m=\u001b[0m\u001b[0mself\u001b[0m\u001b[0;34m.\u001b[0m\u001b[0mrequests_timeout\u001b[0m\u001b[0;34m,\u001b[0m\u001b[0;34m\u001b[0m\u001b[0;34m\u001b[0m\u001b[0m\n",
            "\u001b[0;32m/usr/local/lib/python3.10/dist-packages/gcsfs/core.py\u001b[0m in \u001b[0;36m_get_headers\u001b[0;34m(self, headers)\u001b[0m\n\u001b[1;32m    390\u001b[0m         \u001b[0;32mif\u001b[0m \u001b[0;34m\"User-Agent\"\u001b[0m \u001b[0;32mnot\u001b[0m \u001b[0;32min\u001b[0m \u001b[0mout\u001b[0m\u001b[0;34m:\u001b[0m\u001b[0;34m\u001b[0m\u001b[0;34m\u001b[0m\u001b[0m\n\u001b[1;32m    391\u001b[0m             \u001b[0mout\u001b[0m\u001b[0;34m[\u001b[0m\u001b[0;34m\"User-Agent\"\u001b[0m\u001b[0;34m]\u001b[0m \u001b[0;34m=\u001b[0m \u001b[0;34m\"python-gcsfs/\"\u001b[0m \u001b[0;34m+\u001b[0m \u001b[0mversion\u001b[0m\u001b[0;34m\u001b[0m\u001b[0;34m\u001b[0m\u001b[0m\n\u001b[0;32m--> 392\u001b[0;31m         \u001b[0mself\u001b[0m\u001b[0;34m.\u001b[0m\u001b[0mcredentials\u001b[0m\u001b[0;34m.\u001b[0m\u001b[0mapply\u001b[0m\u001b[0;34m(\u001b[0m\u001b[0mout\u001b[0m\u001b[0;34m)\u001b[0m\u001b[0;34m\u001b[0m\u001b[0;34m\u001b[0m\u001b[0m\n\u001b[0m\u001b[1;32m    393\u001b[0m         \u001b[0;32mreturn\u001b[0m \u001b[0mout\u001b[0m\u001b[0;34m\u001b[0m\u001b[0;34m\u001b[0m\u001b[0m\n\u001b[1;32m    394\u001b[0m \u001b[0;34m\u001b[0m\u001b[0m\n",
            "\u001b[0;32m/usr/local/lib/python3.10/dist-packages/gcsfs/credentials.py\u001b[0m in \u001b[0;36mapply\u001b[0;34m(self, out)\u001b[0m\n\u001b[1;32m    183\u001b[0m     \u001b[0;32mdef\u001b[0m \u001b[0mapply\u001b[0m\u001b[0;34m(\u001b[0m\u001b[0mself\u001b[0m\u001b[0;34m,\u001b[0m \u001b[0mout\u001b[0m\u001b[0;34m)\u001b[0m\u001b[0;34m:\u001b[0m\u001b[0;34m\u001b[0m\u001b[0;34m\u001b[0m\u001b[0m\n\u001b[1;32m    184\u001b[0m         \u001b[0;34m\"\"\"Insert credential headers in-place to a dictionary\"\"\"\u001b[0m\u001b[0;34m\u001b[0m\u001b[0;34m\u001b[0m\u001b[0m\n\u001b[0;32m--> 185\u001b[0;31m         \u001b[0mself\u001b[0m\u001b[0;34m.\u001b[0m\u001b[0mmaybe_refresh\u001b[0m\u001b[0;34m(\u001b[0m\u001b[0;34m)\u001b[0m\u001b[0;34m\u001b[0m\u001b[0;34m\u001b[0m\u001b[0m\n\u001b[0m\u001b[1;32m    186\u001b[0m         \u001b[0;32mif\u001b[0m \u001b[0mself\u001b[0m\u001b[0;34m.\u001b[0m\u001b[0mcredentials\u001b[0m \u001b[0;32mis\u001b[0m \u001b[0;32mnot\u001b[0m \u001b[0;32mNone\u001b[0m\u001b[0;34m:\u001b[0m\u001b[0;34m\u001b[0m\u001b[0;34m\u001b[0m\u001b[0m\n\u001b[1;32m    187\u001b[0m             \u001b[0mself\u001b[0m\u001b[0;34m.\u001b[0m\u001b[0mcredentials\u001b[0m\u001b[0;34m.\u001b[0m\u001b[0mapply\u001b[0m\u001b[0;34m(\u001b[0m\u001b[0mout\u001b[0m\u001b[0;34m)\u001b[0m\u001b[0;34m\u001b[0m\u001b[0;34m\u001b[0m\u001b[0m\n",
            "\u001b[0;32m/usr/local/lib/python3.10/dist-packages/gcsfs/credentials.py\u001b[0m in \u001b[0;36mmaybe_refresh\u001b[0;34m(self)\u001b[0m\n\u001b[1;32m    178\u001b[0m                     \u001b[0;32mreturn\u001b[0m  \u001b[0;31m# repeat to avoid race (but don't want lock in common case)\u001b[0m\u001b[0;34m\u001b[0m\u001b[0;34m\u001b[0m\u001b[0m\n\u001b[1;32m    179\u001b[0m                 \u001b[0mlogger\u001b[0m\u001b[0;34m.\u001b[0m\u001b[0mdebug\u001b[0m\u001b[0;34m(\u001b[0m\u001b[0;34m\"GCS refresh\"\u001b[0m\u001b[0;34m)\u001b[0m\u001b[0;34m\u001b[0m\u001b[0;34m\u001b[0m\u001b[0m\n\u001b[0;32m--> 180\u001b[0;31m                 \u001b[0mself\u001b[0m\u001b[0;34m.\u001b[0m\u001b[0mcredentials\u001b[0m\u001b[0;34m.\u001b[0m\u001b[0mrefresh\u001b[0m\u001b[0;34m(\u001b[0m\u001b[0mreq\u001b[0m\u001b[0;34m)\u001b[0m\u001b[0;34m\u001b[0m\u001b[0;34m\u001b[0m\u001b[0m\n\u001b[0m\u001b[1;32m    181\u001b[0m                 \u001b[0mself\u001b[0m\u001b[0;34m.\u001b[0m\u001b[0mapply\u001b[0m\u001b[0;34m(\u001b[0m\u001b[0mself\u001b[0m\u001b[0;34m.\u001b[0m\u001b[0mheads\u001b[0m\u001b[0;34m)\u001b[0m\u001b[0;34m\u001b[0m\u001b[0;34m\u001b[0m\u001b[0m\n\u001b[1;32m    182\u001b[0m \u001b[0;34m\u001b[0m\u001b[0m\n",
            "\u001b[0;32m/usr/local/lib/python3.10/dist-packages/google/auth/compute_engine/credentials.py\u001b[0m in \u001b[0;36mrefresh\u001b[0;34m(self, request)\u001b[0m\n\u001b[1;32m    115\u001b[0m         \u001b[0;32mexcept\u001b[0m \u001b[0mexceptions\u001b[0m\u001b[0;34m.\u001b[0m\u001b[0mTransportError\u001b[0m \u001b[0;32mas\u001b[0m \u001b[0mcaught_exc\u001b[0m\u001b[0;34m:\u001b[0m\u001b[0;34m\u001b[0m\u001b[0;34m\u001b[0m\u001b[0m\n\u001b[1;32m    116\u001b[0m             \u001b[0mnew_exc\u001b[0m \u001b[0;34m=\u001b[0m \u001b[0mexceptions\u001b[0m\u001b[0;34m.\u001b[0m\u001b[0mRefreshError\u001b[0m\u001b[0;34m(\u001b[0m\u001b[0mcaught_exc\u001b[0m\u001b[0;34m)\u001b[0m\u001b[0;34m\u001b[0m\u001b[0;34m\u001b[0m\u001b[0m\n\u001b[0;32m--> 117\u001b[0;31m             \u001b[0msix\u001b[0m\u001b[0;34m.\u001b[0m\u001b[0mraise_from\u001b[0m\u001b[0;34m(\u001b[0m\u001b[0mnew_exc\u001b[0m\u001b[0;34m,\u001b[0m \u001b[0mcaught_exc\u001b[0m\u001b[0;34m)\u001b[0m\u001b[0;34m\u001b[0m\u001b[0;34m\u001b[0m\u001b[0m\n\u001b[0m\u001b[1;32m    118\u001b[0m \u001b[0;34m\u001b[0m\u001b[0m\n\u001b[1;32m    119\u001b[0m     \u001b[0;34m@\u001b[0m\u001b[0mproperty\u001b[0m\u001b[0;34m\u001b[0m\u001b[0;34m\u001b[0m\u001b[0m\n",
            "\u001b[0;32m/usr/local/lib/python3.10/dist-packages/six.py\u001b[0m in \u001b[0;36mraise_from\u001b[0;34m(value, from_value)\u001b[0m\n",
            "\u001b[0;31mRefreshError\u001b[0m: (\"Failed to retrieve http://metadata.google.internal/computeMetadata/v1/instance/service-accounts/default/?recursive=true from the Google Compute Engine metadata service. Status: 404 Response:\\nb''\", <google.auth.transport.requests._Response object at 0x7fa87352b8e0>)"
          ]
        }
      ]
    },
    {
      "cell_type": "markdown",
      "source": [
        "df_mes.to_csv('gs://comercio-cafe/TRATADOS/selic_mes.csv', index=False)"
      ],
      "metadata": {
        "id": "0nevdQkDEzJ8"
      }
    },
    {
      "cell_type": "code",
      "source": [
        "df = pd.DataFrame(list(zip(df_mes,roe,pib)),columns = ['ibov','roe','pib'])"
      ],
      "metadata": {
        "id": "JAHvXAA0KvyB"
      },
      "execution_count": null,
      "outputs": []
    },
    {
      "cell_type": "markdown",
      "source": [
        "#Insights e Plotagem Auxiliares"
      ],
      "metadata": {
        "id": "064JwuDvVi9k"
      }
    },
    {
      "cell_type": "code",
      "source": [],
      "metadata": {
        "id": "0LJi1BXamElz"
      },
      "execution_count": null,
      "outputs": []
    },
    {
      "cell_type": "code",
      "source": [
        "spark"
      ],
      "metadata": {
        "colab": {
          "base_uri": "https://localhost:8080/",
          "height": 219
        },
        "id": "IxE4khzMDowh",
        "outputId": "1574ea41-8482-4e76-b770-fa1017472cd1"
      },
      "execution_count": null,
      "outputs": [
        {
          "output_type": "execute_result",
          "data": {
            "text/plain": [
              "<pyspark.sql.session.SparkSession at 0x7f04e9e76a40>"
            ],
            "text/html": [
              "\n",
              "            <div>\n",
              "                <p><b>SparkSession - in-memory</b></p>\n",
              "                \n",
              "        <div>\n",
              "            <p><b>SparkContext</b></p>\n",
              "\n",
              "            <p><a href=\"http://bc6a27c26ef8:4050\">Spark UI</a></p>\n",
              "\n",
              "            <dl>\n",
              "              <dt>Version</dt>\n",
              "                <dd><code>v3.4.0</code></dd>\n",
              "              <dt>Master</dt>\n",
              "                <dd><code>local[2]</code></dd>\n",
              "              <dt>AppName</dt>\n",
              "                <dd><code>coffee_brasil</code></dd>\n",
              "            </dl>\n",
              "        </div>\n",
              "        \n",
              "            </div>\n",
              "        "
            ]
          },
          "metadata": {},
          "execution_count": 6
        }
      ]
    },
    {
      "cell_type": "code",
      "source": [
        "df = (\n",
        "    spark.read\n",
        "         .format('csv')\n",
        "         .option('delimiter', ',')\n",
        "         .option('header', 'true')\n",
        "         .option('inferschema', 'true')\n",
        "         .load(path)\n",
        ")"
      ],
      "metadata": {
        "id": "3tyKo6g3E_vU"
      },
      "execution_count": null,
      "outputs": []
    },
    {
      "cell_type": "code",
      "source": [
        "df.show()"
      ],
      "metadata": {
        "colab": {
          "base_uri": "https://localhost:8080/"
        },
        "id": "q1ZZ-3KrQHW0",
        "outputId": "21d7ca02-a79e-40b7-cd45-1c71b0384e6c"
      },
      "execution_count": null,
      "outputs": [
        {
          "output_type": "stream",
          "name": "stdout",
          "text": [
            "+-------+-----------+\n",
            "|mes_ano|tradicional|\n",
            "+-------+-----------+\n",
            "| jan/23|      34.64|\n",
            "| dez/22|       35.9|\n",
            "| nov/22|      37.82|\n",
            "| out/22|      34.33|\n",
            "| set/22|      33.86|\n",
            "| ago/22|      36.23|\n",
            "| jul/22|      32.99|\n",
            "| jun/22|      37.38|\n",
            "| mai/22|      33.13|\n",
            "| abr/22|      34.17|\n",
            "| mar/22|      35.36|\n",
            "| fev/22|      34.91|\n",
            "| jan/22|      30.25|\n",
            "| dez/21|      26.51|\n",
            "| nov/21|      27.38|\n",
            "| out/21|      26.43|\n",
            "| set/21|      26.49|\n",
            "| ago/21|       25.0|\n",
            "| jul/21|      20.43|\n",
            "| jun/21|      18.25|\n",
            "+-------+-----------+\n",
            "only showing top 20 rows\n",
            "\n"
          ]
        }
      ]
    },
    {
      "cell_type": "code",
      "source": [
        "print(f'({df.count()}, {len(df.columns)})')"
      ],
      "metadata": {
        "colab": {
          "base_uri": "https://localhost:8080/"
        },
        "id": "X2oLr-ClQr39",
        "outputId": "88ebc09c-d225-47f2-8c7c-71781bf73e09"
      },
      "execution_count": null,
      "outputs": [
        {
          "output_type": "stream",
          "name": "stdout",
          "text": [
            "(293, 2)\n"
          ]
        }
      ]
    },
    {
      "cell_type": "code",
      "source": [
        "df = df.withColumn(\"mes\", split(substring(expr(\"mes_ano\"), 1, 3), \"/\").getItem(0))"
      ],
      "metadata": {
        "id": "x0TF1v6jwbE8"
      },
      "execution_count": null,
      "outputs": []
    },
    {
      "cell_type": "code",
      "source": [
        "df = df.withColumn(\"ano\", split(substring(expr(\"mes_ano\"), -2, 2), \"/\").getItem(0))"
      ],
      "metadata": {
        "id": "ddN4W-L7xkIZ"
      },
      "execution_count": null,
      "outputs": []
    },
    {
      "cell_type": "code",
      "source": [
        "df = df.withColumn(\"ano\", F.when(col(\"ano\").between(\"00\", \"23\"), concat(lit(\"20\"), col(\"ano\"))).otherwise(col(\"ano\")))"
      ],
      "metadata": {
        "id": "sBaSNYZqryep"
      },
      "execution_count": null,
      "outputs": []
    },
    {
      "cell_type": "code",
      "source": [
        "df = df.withColumn(\"ano\", F.when(col(\"ano\").isin(\"99\", \"98\", \"97\"), concat(lit(\"19\"), col(\"ano\"))).otherwise(col(\"ano\")))"
      ],
      "metadata": {
        "id": "K8zJaZSjwSWZ"
      },
      "execution_count": null,
      "outputs": []
    },
    {
      "cell_type": "code",
      "source": [
        "df.show()"
      ],
      "metadata": {
        "colab": {
          "base_uri": "https://localhost:8080/"
        },
        "id": "Y2MpbjkFuko-",
        "outputId": "73eb478f-db9c-44ea-bb85-f39ddecc6c3c"
      },
      "execution_count": null,
      "outputs": [
        {
          "output_type": "stream",
          "name": "stdout",
          "text": [
            "+-------+-----------+---+----+\n",
            "|mes_ano|tradicional|mes| ano|\n",
            "+-------+-----------+---+----+\n",
            "| jan/23|      34.64|jan|2023|\n",
            "| dez/22|       35.9|dez|2022|\n",
            "| nov/22|      37.82|nov|2022|\n",
            "| out/22|      34.33|out|2022|\n",
            "| set/22|      33.86|set|2022|\n",
            "| ago/22|      36.23|ago|2022|\n",
            "| jul/22|      32.99|jul|2022|\n",
            "| jun/22|      37.38|jun|2022|\n",
            "| mai/22|      33.13|mai|2022|\n",
            "| abr/22|      34.17|abr|2022|\n",
            "| mar/22|      35.36|mar|2022|\n",
            "| fev/22|      34.91|fev|2022|\n",
            "| jan/22|      30.25|jan|2022|\n",
            "| dez/21|      26.51|dez|2021|\n",
            "| nov/21|      27.38|nov|2021|\n",
            "| out/21|      26.43|out|2021|\n",
            "| set/21|      26.49|set|2021|\n",
            "| ago/21|       25.0|ago|2021|\n",
            "| jul/21|      20.43|jul|2021|\n",
            "| jun/21|      18.25|jun|2021|\n",
            "+-------+-----------+---+----+\n",
            "only showing top 20 rows\n",
            "\n"
          ]
        }
      ]
    },
    {
      "cell_type": "code",
      "source": [
        "df = df.withColumn(\"ano\", F.date_format(df[\"ano\"], \"yyyy\"))"
      ],
      "metadata": {
        "id": "0mjrQ4LhAM58"
      },
      "execution_count": null,
      "outputs": []
    },
    {
      "cell_type": "code",
      "source": [
        "df.show()"
      ],
      "metadata": {
        "colab": {
          "base_uri": "https://localhost:8080/"
        },
        "id": "Div1sE5cxlzF",
        "outputId": "b0524da0-c187-4198-bfb6-cce3082782a9"
      },
      "execution_count": null,
      "outputs": [
        {
          "output_type": "stream",
          "name": "stdout",
          "text": [
            "+-------+-----------+---+----+\n",
            "|mes_ano|tradicional|mes| ano|\n",
            "+-------+-----------+---+----+\n",
            "| jan/23|      34.64|jan|2023|\n",
            "| dez/22|       35.9|dez|2022|\n",
            "| nov/22|      37.82|nov|2022|\n",
            "| out/22|      34.33|out|2022|\n",
            "| set/22|      33.86|set|2022|\n",
            "| ago/22|      36.23|ago|2022|\n",
            "| jul/22|      32.99|jul|2022|\n",
            "| jun/22|      37.38|jun|2022|\n",
            "| mai/22|      33.13|mai|2022|\n",
            "| abr/22|      34.17|abr|2022|\n",
            "| mar/22|      35.36|mar|2022|\n",
            "| fev/22|      34.91|fev|2022|\n",
            "| jan/22|      30.25|jan|2022|\n",
            "| dez/21|      26.51|dez|2021|\n",
            "| nov/21|      27.38|nov|2021|\n",
            "| out/21|      26.43|out|2021|\n",
            "| set/21|      26.49|set|2021|\n",
            "| ago/21|       25.0|ago|2021|\n",
            "| jul/21|      20.43|jul|2021|\n",
            "| jun/21|      18.25|jun|2021|\n",
            "+-------+-----------+---+----+\n",
            "only showing top 20 rows\n",
            "\n"
          ]
        }
      ]
    },
    {
      "cell_type": "code",
      "source": [
        "df_tail = df.tail(100)\n",
        "for row in df_tail:\n",
        "    print(row)"
      ],
      "metadata": {
        "colab": {
          "base_uri": "https://localhost:8080/"
        },
        "id": "DUgWsHZ6u7tQ",
        "outputId": "e91ade43-088b-4a6c-c0fd-78b60ead0a01"
      },
      "execution_count": null,
      "outputs": [
        {
          "output_type": "stream",
          "name": "stdout",
          "text": [
            "Row(mes_ano='jan/06', tradicional=9.17, mes='jan', ano='2006')\n",
            "Row(mes_ano='jul/05', tradicional=8.37, mes='jul', ano='2005')\n",
            "Row(mes_ano='mar/05', tradicional=8.08, mes='mar', ano='2005')\n",
            "Row(mes_ano='fev/05', tradicional=7.26, mes='fev', ano='2005')\n",
            "Row(mes_ano='jan/05', tradicional=7.43, mes='jan', ano='2005')\n",
            "Row(mes_ano='dez/04', tradicional=7.63, mes='dez', ano='2004')\n",
            "Row(mes_ano='nov/04', tradicional=7.34, mes='nov', ano='2004')\n",
            "Row(mes_ano='out/04', tradicional=7.53, mes='out', ano='2004')\n",
            "Row(mes_ano='set/04', tradicional=7.66, mes='set', ano='2004')\n",
            "Row(mes_ano='ago/04', tradicional=7.51, mes='ago', ano='2004')\n",
            "Row(mes_ano='jul/04', tradicional=7.5, mes='jul', ano='2004')\n",
            "Row(mes_ano='jun/04', tradicional=7.3, mes='jun', ano='2004')\n",
            "Row(mes_ano='mai/04', tradicional=7.18, mes='mai', ano='2004')\n",
            "Row(mes_ano='abr/04', tradicional=6.76, mes='abr', ano='2004')\n",
            "Row(mes_ano='mar/04', tradicional=6.48, mes='mar', ano='2004')\n",
            "Row(mes_ano='fev/04', tradicional=6.67, mes='fev', ano='2004')\n",
            "Row(mes_ano='jan/04', tradicional=6.1, mes='jan', ano='2004')\n",
            "Row(mes_ano='dez/03', tradicional=6.28, mes='dez', ano='2003')\n",
            "Row(mes_ano='nov/03', tradicional=6.43, mes='nov', ano='2003')\n",
            "Row(mes_ano='out/03', tradicional=6.24, mes='out', ano='2003')\n",
            "Row(mes_ano='set/03', tradicional=5.66, mes='set', ano='2003')\n",
            "Row(mes_ano='ago/03', tradicional=5.64, mes='ago', ano='2003')\n",
            "Row(mes_ano='jul/03', tradicional=5.98, mes='jul', ano='2003')\n",
            "Row(mes_ano='jun/03', tradicional=5.62, mes='jun', ano='2003')\n",
            "Row(mes_ano='mai/03', tradicional=6.23, mes='mai', ano='2003')\n",
            "Row(mes_ano='abr/03', tradicional=5.91, mes='abr', ano='2003')\n",
            "Row(mes_ano='mar/03', tradicional=5.73, mes='mar', ano='2003')\n",
            "Row(mes_ano='fev/03', tradicional=5.39, mes='fev', ano='2003')\n",
            "Row(mes_ano='jan/03', tradicional=5.5, mes='jan', ano='2003')\n",
            "Row(mes_ano='dez/02', tradicional=5.72, mes='dez', ano='2002')\n",
            "Row(mes_ano='nov/02', tradicional=4.75, mes='nov', ano='2002')\n",
            "Row(mes_ano='out/02', tradicional=4.52, mes='out', ano='2002')\n",
            "Row(mes_ano='set/02', tradicional=4.27, mes='set', ano='2002')\n",
            "Row(mes_ano='ago/02', tradicional=4.59, mes='ago', ano='2002')\n",
            "Row(mes_ano='jun/02', tradicional=4.4, mes='jun', ano='2002')\n",
            "Row(mes_ano='mai/02', tradicional=3.99, mes='mai', ano='2002')\n",
            "Row(mes_ano='abr/02', tradicional=3.98, mes='abr', ano='2002')\n",
            "Row(mes_ano='mar/02', tradicional=3.96, mes='mar', ano='2002')\n",
            "Row(mes_ano='fev/02', tradicional=4.65, mes='fev', ano='2002')\n",
            "Row(mes_ano='jan/02', tradicional=4.53, mes='jan', ano='2002')\n",
            "Row(mes_ano='dez/01', tradicional=5.04, mes='dez', ano='2001')\n",
            "Row(mes_ano='nov/01', tradicional=4.38, mes='nov', ano='2001')\n",
            "Row(mes_ano='out/01', tradicional=4.47, mes='out', ano='2001')\n",
            "Row(mes_ano='set/01', tradicional=4.51, mes='set', ano='2001')\n",
            "Row(mes_ano='ago/01', tradicional=4.88, mes='ago', ano='2001')\n",
            "Row(mes_ano='jul/01', tradicional=4.84, mes='jul', ano='2001')\n",
            "Row(mes_ano='jun/01', tradicional=4.91, mes='jun', ano='2001')\n",
            "Row(mes_ano='mai/01', tradicional=5.46, mes='mai', ano='2001')\n",
            "Row(mes_ano='abr/01', tradicional=5.25, mes='abr', ano='2001')\n",
            "Row(mes_ano='mar/01', tradicional=5.14, mes='mar', ano='2001')\n",
            "Row(mes_ano='fev/01', tradicional=5.22, mes='fev', ano='2001')\n",
            "Row(mes_ano='jan/01', tradicional=5.1, mes='jan', ano='2001')\n",
            "Row(mes_ano='dez/00', tradicional=5.85, mes='dez', ano='2000')\n",
            "Row(mes_ano='nov/00', tradicional=5.77, mes='nov', ano='2000')\n",
            "Row(mes_ano='out/00', tradicional=6.22, mes='out', ano='2000')\n",
            "Row(mes_ano='set/00', tradicional=5.71, mes='set', ano='2000')\n",
            "Row(mes_ano='ago/00', tradicional=5.98, mes='ago', ano='2000')\n",
            "Row(mes_ano='jul/00', tradicional=5.11, mes='jul', ano='2000')\n",
            "Row(mes_ano='jun/00', tradicional=6.21, mes='jun', ano='2000')\n",
            "Row(mes_ano='mai/00', tradicional=6.15, mes='mai', ano='2000')\n",
            "Row(mes_ano='abr/00', tradicional=6.18, mes='abr', ano='2000')\n",
            "Row(mes_ano='mar/00', tradicional=6.19, mes='mar', ano='2000')\n",
            "Row(mes_ano='fev/00', tradicional=6.75, mes='fev', ano='2000')\n",
            "Row(mes_ano='jan/00', tradicional=6.71, mes='jan', ano='2000')\n",
            "Row(mes_ano='dez/99', tradicional=6.25, mes='dez', ano='1999')\n",
            "Row(mes_ano='nov/99', tradicional=5.8, mes='nov', ano='1999')\n",
            "Row(mes_ano='out/99', tradicional=5.4, mes='out', ano='1999')\n",
            "Row(mes_ano='set/99', tradicional=5.63, mes='set', ano='1999')\n",
            "Row(mes_ano='ago/99', tradicional=5.31, mes='ago', ano='1999')\n",
            "Row(mes_ano='jul/99', tradicional=6.58, mes='jul', ano='1999')\n",
            "Row(mes_ano='jun/99', tradicional=5.7, mes='jun', ano='1999')\n",
            "Row(mes_ano='mai/99', tradicional=5.63, mes='mai', ano='1999')\n",
            "Row(mes_ano='abr/99', tradicional=5.9, mes='abr', ano='1999')\n",
            "Row(mes_ano='mar/99', tradicional=5.95, mes='mar', ano='1999')\n",
            "Row(mes_ano='fev/99', tradicional=5.28, mes='fev', ano='1999')\n",
            "Row(mes_ano='jan/99', tradicional=4.74, mes='jan', ano='1999')\n",
            "Row(mes_ano='dez/98', tradicional=5.31, mes='dez', ano='1998')\n",
            "Row(mes_ano='nov/98', tradicional=5.5, mes='nov', ano='1998')\n",
            "Row(mes_ano='out/98', tradicional=5.28, mes='out', ano='1998')\n",
            "Row(mes_ano='set/98', tradicional=5.38, mes='set', ano='1998')\n",
            "Row(mes_ano='ago/98', tradicional=5.34, mes='ago', ano='1998')\n",
            "Row(mes_ano='jul/98', tradicional=5.99, mes='jul', ano='1998')\n",
            "Row(mes_ano='jun/98', tradicional=5.84, mes='jun', ano='1998')\n",
            "Row(mes_ano='mai/98', tradicional=6.06, mes='mai', ano='1998')\n",
            "Row(mes_ano='abr/98', tradicional=6.1, mes='abr', ano='1998')\n",
            "Row(mes_ano='mar/98', tradicional=6.35, mes='mar', ano='1998')\n",
            "Row(mes_ano='fev/98', tradicional=5.7, mes='fev', ano='1998')\n",
            "Row(mes_ano='jan/98', tradicional=5.17, mes='jan', ano='1998')\n",
            "Row(mes_ano='dez/97', tradicional=5.51, mes='dez', ano='1997')\n",
            "Row(mes_ano='nov/97', tradicional=5.01, mes='nov', ano='1997')\n",
            "Row(mes_ano='out/97', tradicional=5.53, mes='out', ano='1997')\n",
            "Row(mes_ano='set/97', tradicional=4.98, mes='set', ano='1997')\n",
            "Row(mes_ano='ago/97', tradicional=5.53, mes='ago', ano='1997')\n",
            "Row(mes_ano='jul/97', tradicional=5.59, mes='jul', ano='1997')\n",
            "Row(mes_ano='jun/97', tradicional=5.36, mes='jun', ano='1997')\n",
            "Row(mes_ano='mai/97', tradicional=5.18, mes='mai', ano='1997')\n",
            "Row(mes_ano='abr/97', tradicional=5.5, mes='abr', ano='1997')\n",
            "Row(mes_ano='mar/97', tradicional=4.71, mes='mar', ano='1997')\n",
            "Row(mes_ano='fev/97', tradicional=3.55, mes='fev', ano='1997')\n",
            "Row(mes_ano='jan/97', tradicional=4.31, mes='jan', ano='1997')\n"
          ]
        }
      ]
    },
    {
      "cell_type": "code",
      "source": [
        "df = df.drop(\"mes_ano\")"
      ],
      "metadata": {
        "id": "44-qORtXx2Xd"
      },
      "execution_count": null,
      "outputs": []
    },
    {
      "cell_type": "markdown",
      "source": [
        "Preço médio anual"
      ],
      "metadata": {
        "id": "hQ8uMb_A9dVC"
      }
    },
    {
      "cell_type": "code",
      "source": [
        "df_agg = df.groupBy(year(\"ano\")).agg(F.avg(\"tradicional\").alias(\"preco_medio\"))"
      ],
      "metadata": {
        "id": "1LtkDFMb8Wkm"
      },
      "execution_count": null,
      "outputs": []
    },
    {
      "cell_type": "code",
      "source": [
        "df_avg = df.groupBy(\"ano\").agg(F.mean(\"tradicional\").alias(\"preco_medio\"))\n"
      ],
      "metadata": {
        "id": "Ep4uFzcU1GDe"
      },
      "execution_count": null,
      "outputs": []
    },
    {
      "cell_type": "code",
      "source": [
        "df_avg.show()"
      ],
      "metadata": {
        "colab": {
          "base_uri": "https://localhost:8080/"
        },
        "id": "sz8zia4e1PxO",
        "outputId": "51c3fa9c-6d7a-4953-d49f-c55bca591815"
      },
      "execution_count": null,
      "outputs": [
        {
          "output_type": "stream",
          "name": "stdout",
          "text": [
            "+----+------------------+\n",
            "| ano|       preco_medio|\n",
            "+----+------------------+\n",
            "|2016|17.701666666666668|\n",
            "|2020|16.445833333333333|\n",
            "|2012|13.826363636363636|\n",
            "|2019|             18.52|\n",
            "|2017|            20.885|\n",
            "|2014| 13.49909090909091|\n",
            "|2013|13.294545454545453|\n",
            "|2005|             7.785|\n",
            "|2000| 6.069166666666667|\n",
            "|2002| 4.487272727272727|\n",
            "|2018|            20.098|\n",
            "|2009|10.436363636363636|\n",
            "|2006| 8.798333333333334|\n",
            "|2004| 7.138333333333333|\n",
            "|2011|           11.6075|\n",
            "|2022| 34.69416666666667|\n",
            "|2008|           10.0525|\n",
            "|1999| 5.680833333333333|\n",
            "|1997|5.0633333333333335|\n",
            "|2007|10.056666666666665|\n",
            "+----+------------------+\n",
            "only showing top 20 rows\n",
            "\n"
          ]
        }
      ]
    },
    {
      "cell_type": "code",
      "source": [
        "df_agg.orderBy(\"year(ano)\")"
      ],
      "metadata": {
        "colab": {
          "base_uri": "https://localhost:8080/"
        },
        "id": "qZpYb3Jq9V0u",
        "outputId": "d19d50cc-6996-4794-9045-58561b6afbf8"
      },
      "execution_count": null,
      "outputs": [
        {
          "output_type": "execute_result",
          "data": {
            "text/plain": [
              "DataFrame[year(ano): int, preco_medio: double]"
            ]
          },
          "metadata": {},
          "execution_count": 22
        }
      ]
    },
    {
      "cell_type": "code",
      "source": [
        "df_agg.show()"
      ],
      "metadata": {
        "colab": {
          "base_uri": "https://localhost:8080/"
        },
        "id": "dO_ghejs-SVD",
        "outputId": "39213af5-e220-4240-a421-b846ae80821d"
      },
      "execution_count": null,
      "outputs": [
        {
          "output_type": "stream",
          "name": "stdout",
          "text": [
            "+---------+------------------+\n",
            "|year(ano)|       preco_medio|\n",
            "+---------+------------------+\n",
            "|     2003| 5.884166666666666|\n",
            "|     2007|10.056666666666665|\n",
            "|     2018|            20.098|\n",
            "|     2015|14.838333333333331|\n",
            "|     2023|             34.64|\n",
            "|     2006| 8.798333333333334|\n",
            "|     2022| 34.69416666666667|\n",
            "|     2013|13.294545454545453|\n",
            "|     1997|5.0633333333333335|\n",
            "|     2014| 13.49909090909091|\n",
            "|     2019|             18.52|\n",
            "|     2004| 7.138333333333333|\n",
            "|     1998| 5.668333333333334|\n",
            "|     2020|16.445833333333333|\n",
            "|     2012|13.826363636363636|\n",
            "|     2009|10.436363636363636|\n",
            "|     2016|17.701666666666668|\n",
            "|     2001| 4.933333333333334|\n",
            "|     2005|             7.785|\n",
            "|     2000| 6.069166666666667|\n",
            "+---------+------------------+\n",
            "only showing top 20 rows\n",
            "\n"
          ]
        }
      ]
    },
    {
      "cell_type": "code",
      "source": [
        "df_pandas = df_agg.toPandas()\n",
        "#para plotar"
      ],
      "metadata": {
        "id": "F1W2_7lPBwgW"
      },
      "execution_count": null,
      "outputs": []
    },
    {
      "cell_type": "code",
      "source": [
        "df_sorted_by_year = df.orderBy(F.asc(\"ano\"))"
      ],
      "metadata": {
        "id": "Nu9XHW8d4JUx"
      },
      "execution_count": null,
      "outputs": []
    },
    {
      "cell_type": "code",
      "source": [
        "df_sorted_by_year.show()"
      ],
      "metadata": {
        "colab": {
          "base_uri": "https://localhost:8080/"
        },
        "id": "bwQM-LNZ4T-j",
        "outputId": "70385ef0-c4dc-4676-ae86-9464511e84c1"
      },
      "execution_count": null,
      "outputs": [
        {
          "output_type": "stream",
          "name": "stdout",
          "text": [
            "+-----------+---+----+\n",
            "|tradicional|mes| ano|\n",
            "+-----------+---+----+\n",
            "|       5.51|dez|1997|\n",
            "|       5.01|nov|1997|\n",
            "|       5.53|out|1997|\n",
            "|       4.98|set|1997|\n",
            "|       5.53|ago|1997|\n",
            "|       5.59|jul|1997|\n",
            "|       5.36|jun|1997|\n",
            "|       5.18|mai|1997|\n",
            "|        5.5|abr|1997|\n",
            "|       4.71|mar|1997|\n",
            "|       3.55|fev|1997|\n",
            "|       4.31|jan|1997|\n",
            "|       5.38|set|1998|\n",
            "|       5.31|dez|1998|\n",
            "|        5.5|nov|1998|\n",
            "|       5.28|out|1998|\n",
            "|       5.34|ago|1998|\n",
            "|       5.99|jul|1998|\n",
            "|       5.84|jun|1998|\n",
            "|       6.06|mai|1998|\n",
            "+-----------+---+----+\n",
            "only showing top 20 rows\n",
            "\n"
          ]
        }
      ]
    },
    {
      "cell_type": "code",
      "source": [
        "anos_ordenados = df_sorted_by_year.select(\"ano\").rdd.flatMap(lambda x: x).collect()\n",
        "precos_ordenados = df_sorted_by_year.select(\"tradicional\").rdd.flatMap(lambda x: x).collect()\n",
        "df_plot = spark.createDataFrame(zip(anos_ordenados, precos_ordenados), [\"ano\", \"tradicional\"])\n",
        "df_plot_pandas = df_plot.toPandas()\n",
        "plt.plot(df_plot_pandas['ano'], df_plot_pandas['tradicional'], color='brown')\n",
        "plt.title('Preço Médio em Relação aos Anos')\n",
        "plt.xlabel('Ano')\n",
        "plt.ylabel('Preço Médio')\n",
        "plt.figure(figsize=(30, 20))\n",
        "plt.show()\n"
      ],
      "metadata": {
        "colab": {
          "base_uri": "https://localhost:8080/",
          "height": 489
        },
        "id": "TOm60y1I6MFU",
        "outputId": "a6aaabd6-43f0-4ad7-9748-83723aaf3f18"
      },
      "execution_count": null,
      "outputs": [
        {
          "output_type": "display_data",
          "data": {
            "text/plain": [
              "<Figure size 640x480 with 1 Axes>"
            ],
            "image/png": "[encoded data removed]"
          },
          "metadata": {}
        },
        {
          "output_type": "display_data",
          "data": {
            "text/plain": [
              "<Figure size 3000x2000 with 0 Axes>"
            ]
          },
          "metadata": {}
        }
      ]
    },
    {
      "cell_type": "code",
      "source": [
        "df_recorte1 = df.filter((col('ano') >= 2019) & (col('ano') <= 2023))"
      ],
      "metadata": {
        "id": "vE6whQJq_rIi"
      },
      "execution_count": null,
      "outputs": []
    },
    {
      "cell_type": "code",
      "source": [
        "df_recorte2 = df.filter((col('ano') >= 2009) & (col('ano') <= 2018))"
      ],
      "metadata": {
        "id": "iw9klc4bn8Ai"
      },
      "execution_count": null,
      "outputs": []
    },
    {
      "cell_type": "code",
      "source": [
        "df_recorte1.show()"
      ],
      "metadata": {
        "colab": {
          "base_uri": "https://localhost:8080/"
        },
        "id": "kRRuJWDMHsBm",
        "outputId": "928dbda8-ad63-406f-b365-50b9b125f1a1"
      },
      "execution_count": null,
      "outputs": [
        {
          "output_type": "stream",
          "name": "stdout",
          "text": [
            "+-----------+---+----+\n",
            "|tradicional|mes| ano|\n",
            "+-----------+---+----+\n",
            "|      34.64|jan|2023|\n",
            "|       35.9|dez|2022|\n",
            "|      37.82|nov|2022|\n",
            "|      34.33|out|2022|\n",
            "|      33.86|set|2022|\n",
            "|      36.23|ago|2022|\n",
            "|      32.99|jul|2022|\n",
            "|      37.38|jun|2022|\n",
            "|      33.13|mai|2022|\n",
            "|      34.17|abr|2022|\n",
            "|      35.36|mar|2022|\n",
            "|      34.91|fev|2022|\n",
            "|      30.25|jan|2022|\n",
            "|      26.51|dez|2021|\n",
            "|      27.38|nov|2021|\n",
            "|      26.43|out|2021|\n",
            "|      26.49|set|2021|\n",
            "|       25.0|ago|2021|\n",
            "|      20.43|jul|2021|\n",
            "|      18.25|jun|2021|\n",
            "+-----------+---+----+\n",
            "only showing top 20 rows\n",
            "\n"
          ]
        }
      ]
    },
    {
      "cell_type": "code",
      "source": [
        "anos_ordenados = df_recorte1.orderBy(F.asc(\"ano\")).select(\"ano\").rdd.flatMap(lambda x: x).collect()\n",
        "precos_ordenados = df_sorted_by_year.select(\"tradicional\").rdd.flatMap(lambda x: x).collect()\n",
        "df_plot = spark.createDataFrame(zip(anos_ordenados, precos_ordenados), [\"ano\", \"tradicional\"])\n",
        "df_plot_pandas = df_plot.toPandas()\n",
        "plt.plot(df_plot_pandas['ano'], df_plot_pandas['tradicional'], color='brown')\n",
        "plt.title('Preço Médio em Relação aos Anos')\n",
        "plt.xlabel('Ano')\n",
        "plt.ylabel('Preço Médio')\n",
        "plt.show()"
      ],
      "metadata": {
        "colab": {
          "base_uri": "https://localhost:8080/",
          "height": 472
        },
        "id": "uX7nU7tOn-5f",
        "outputId": "cc3ac242-913e-4e45-e367-5dc151bd8b9f"
      },
      "execution_count": null,
      "outputs": [
        {
          "output_type": "display_data",
          "data": {
            "text/plain": [
              "<Figure size 640x480 with 1 Axes>"
            ],
            "image/png": "[encoded data removed]"
          },
          "metadata": {}
        }
      ]
    },
    {
      "cell_type": "code",
      "source": [
        "anos_ordenados = df_recorte2.orderBy(F.asc(\"ano\")).select(\"ano\").rdd.flatMap(lambda x: x).collect()\n",
        "precos_ordenados = df_sorted_by_year.select(\"tradicional\").rdd.flatMap(lambda x: x).collect()\n",
        "df_plot = spark.createDataFrame(zip(anos_ordenados, precos_ordenados), [\"ano\", \"tradicional\"])\n",
        "df_plot_pandas = df_plot.toPandas()\n",
        "plt.plot(df_plot_pandas['ano'], df_plot_pandas['tradicional'], color='brown')\n",
        "plt.title('Preço Médio em Relação aos Anos')\n",
        "plt.xlabel('Ano')\n",
        "plt.ylabel('Preço Médio')\n",
        "plt.figure(figsize=(20, 6))\n",
        "plt.show()"
      ],
      "metadata": {
        "colab": {
          "base_uri": "https://localhost:8080/",
          "height": 489
        },
        "id": "Mk_d0fiPpE3x",
        "outputId": "d2949256-5335-4957-e366-830abd2cc470"
      },
      "execution_count": null,
      "outputs": [
        {
          "output_type": "display_data",
          "data": {
            "text/plain": [
              "<Figure size 640x480 with 1 Axes>"
            ],
            "image/png": "[encoded data removed]"
          },
          "metadata": {}
        },
        {
          "output_type": "display_data",
          "data": {
            "text/plain": [
              "<Figure size 2000x600 with 0 Axes>"
            ]
          },
          "metadata": {}
        }
      ]
    },
    {
      "cell_type": "code",
      "source": [
        "df.tail(100)"
      ],
      "metadata": {
        "id": "S3uTgiS0EmhB",
        "colab": {
          "base_uri": "https://localhost:8080/"
        },
        "outputId": "65ff3200-01dd-4aba-aab8-f228ae04d501"
      },
      "execution_count": null,
      "outputs": [
        {
          "output_type": "execute_result",
          "data": {
            "text/plain": [
              "[Row(tradicional=9.17, mes='jan', ano='2006'),\n",
              " Row(tradicional=8.37, mes='jul', ano='2005'),\n",
              " Row(tradicional=8.08, mes='mar', ano='2005'),\n",
              " Row(tradicional=7.26, mes='fev', ano='2005'),\n",
              " Row(tradicional=7.43, mes='jan', ano='2005'),\n",
              " Row(tradicional=7.63, mes='dez', ano='2004'),\n",
              " Row(tradicional=7.34, mes='nov', ano='2004'),\n",
              " Row(tradicional=7.53, mes='out', ano='2004'),\n",
              " Row(tradicional=7.66, mes='set', ano='2004'),\n",
              " Row(tradicional=7.51, mes='ago', ano='2004'),\n",
              " Row(tradicional=7.5, mes='jul', ano='2004'),\n",
              " Row(tradicional=7.3, mes='jun', ano='2004'),\n",
              " Row(tradicional=7.18, mes='mai', ano='2004'),\n",
              " Row(tradicional=6.76, mes='abr', ano='2004'),\n",
              " Row(tradicional=6.48, mes='mar', ano='2004'),\n",
              " Row(tradicional=6.67, mes='fev', ano='2004'),\n",
              " Row(tradicional=6.1, mes='jan', ano='2004'),\n",
              " Row(tradicional=6.28, mes='dez', ano='2003'),\n",
              " Row(tradicional=6.43, mes='nov', ano='2003'),\n",
              " Row(tradicional=6.24, mes='out', ano='2003'),\n",
              " Row(tradicional=5.66, mes='set', ano='2003'),\n",
              " Row(tradicional=5.64, mes='ago', ano='2003'),\n",
              " Row(tradicional=5.98, mes='jul', ano='2003'),\n",
              " Row(tradicional=5.62, mes='jun', ano='2003'),\n",
              " Row(tradicional=6.23, mes='mai', ano='2003'),\n",
              " Row(tradicional=5.91, mes='abr', ano='2003'),\n",
              " Row(tradicional=5.73, mes='mar', ano='2003'),\n",
              " Row(tradicional=5.39, mes='fev', ano='2003'),\n",
              " Row(tradicional=5.5, mes='jan', ano='2003'),\n",
              " Row(tradicional=5.72, mes='dez', ano='2002'),\n",
              " Row(tradicional=4.75, mes='nov', ano='2002'),\n",
              " Row(tradicional=4.52, mes='out', ano='2002'),\n",
              " Row(tradicional=4.27, mes='set', ano='2002'),\n",
              " Row(tradicional=4.59, mes='ago', ano='2002'),\n",
              " Row(tradicional=4.4, mes='jun', ano='2002'),\n",
              " Row(tradicional=3.99, mes='mai', ano='2002'),\n",
              " Row(tradicional=3.98, mes='abr', ano='2002'),\n",
              " Row(tradicional=3.96, mes='mar', ano='2002'),\n",
              " Row(tradicional=4.65, mes='fev', ano='2002'),\n",
              " Row(tradicional=4.53, mes='jan', ano='2002'),\n",
              " Row(tradicional=5.04, mes='dez', ano='2001'),\n",
              " Row(tradicional=4.38, mes='nov', ano='2001'),\n",
              " Row(tradicional=4.47, mes='out', ano='2001'),\n",
              " Row(tradicional=4.51, mes='set', ano='2001'),\n",
              " Row(tradicional=4.88, mes='ago', ano='2001'),\n",
              " Row(tradicional=4.84, mes='jul', ano='2001'),\n",
              " Row(tradicional=4.91, mes='jun', ano='2001'),\n",
              " Row(tradicional=5.46, mes='mai', ano='2001'),\n",
              " Row(tradicional=5.25, mes='abr', ano='2001'),\n",
              " Row(tradicional=5.14, mes='mar', ano='2001'),\n",
              " Row(tradicional=5.22, mes='fev', ano='2001'),\n",
              " Row(tradicional=5.1, mes='jan', ano='2001'),\n",
              " Row(tradicional=5.85, mes='dez', ano='2000'),\n",
              " Row(tradicional=5.77, mes='nov', ano='2000'),\n",
              " Row(tradicional=6.22, mes='out', ano='2000'),\n",
              " Row(tradicional=5.71, mes='set', ano='2000'),\n",
              " Row(tradicional=5.98, mes='ago', ano='2000'),\n",
              " Row(tradicional=5.11, mes='jul', ano='2000'),\n",
              " Row(tradicional=6.21, mes='jun', ano='2000'),\n",
              " Row(tradicional=6.15, mes='mai', ano='2000'),\n",
              " Row(tradicional=6.18, mes='abr', ano='2000'),\n",
              " Row(tradicional=6.19, mes='mar', ano='2000'),\n",
              " Row(tradicional=6.75, mes='fev', ano='2000'),\n",
              " Row(tradicional=6.71, mes='jan', ano='2000'),\n",
              " Row(tradicional=6.25, mes='dez', ano='1999'),\n",
              " Row(tradicional=5.8, mes='nov', ano='1999'),\n",
              " Row(tradicional=5.4, mes='out', ano='1999'),\n",
              " Row(tradicional=5.63, mes='set', ano='1999'),\n",
              " Row(tradicional=5.31, mes='ago', ano='1999'),\n",
              " Row(tradicional=6.58, mes='jul', ano='1999'),\n",
              " Row(tradicional=5.7, mes='jun', ano='1999'),\n",
              " Row(tradicional=5.63, mes='mai', ano='1999'),\n",
              " Row(tradicional=5.9, mes='abr', ano='1999'),\n",
              " Row(tradicional=5.95, mes='mar', ano='1999'),\n",
              " Row(tradicional=5.28, mes='fev', ano='1999'),\n",
              " Row(tradicional=4.74, mes='jan', ano='1999'),\n",
              " Row(tradicional=5.31, mes='dez', ano='1998'),\n",
              " Row(tradicional=5.5, mes='nov', ano='1998'),\n",
              " Row(tradicional=5.28, mes='out', ano='1998'),\n",
              " Row(tradicional=5.38, mes='set', ano='1998'),\n",
              " Row(tradicional=5.34, mes='ago', ano='1998'),\n",
              " Row(tradicional=5.99, mes='jul', ano='1998'),\n",
              " Row(tradicional=5.84, mes='jun', ano='1998'),\n",
              " Row(tradicional=6.06, mes='mai', ano='1998'),\n",
              " Row(tradicional=6.1, mes='abr', ano='1998'),\n",
              " Row(tradicional=6.35, mes='mar', ano='1998'),\n",
              " Row(tradicional=5.7, mes='fev', ano='1998'),\n",
              " Row(tradicional=5.17, mes='jan', ano='1998'),\n",
              " Row(tradicional=5.51, mes='dez', ano='1997'),\n",
              " Row(tradicional=5.01, mes='nov', ano='1997'),\n",
              " Row(tradicional=5.53, mes='out', ano='1997'),\n",
              " Row(tradicional=4.98, mes='set', ano='1997'),\n",
              " Row(tradicional=5.53, mes='ago', ano='1997'),\n",
              " Row(tradicional=5.59, mes='jul', ano='1997'),\n",
              " Row(tradicional=5.36, mes='jun', ano='1997'),\n",
              " Row(tradicional=5.18, mes='mai', ano='1997'),\n",
              " Row(tradicional=5.5, mes='abr', ano='1997'),\n",
              " Row(tradicional=4.71, mes='mar', ano='1997'),\n",
              " Row(tradicional=3.55, mes='fev', ano='1997'),\n",
              " Row(tradicional=4.31, mes='jan', ano='1997')]"
            ]
          },
          "metadata": {},
          "execution_count": 33
        }
      ]
    },
    {
      "cell_type": "code",
      "source": [
        "df_pandas = df.toPandas()"
      ],
      "metadata": {
        "id": "DJgcUjeoQ36S"
      },
      "execution_count": null,
      "outputs": []
    },
    {
      "cell_type": "code",
      "source": [
        "df_pandas.to_csv('gs://comercio-cafe/TRATADOS/ABIC/preco_varejo_trat.csv', index=False)"
      ],
      "metadata": {
        "id": "nD3vvT5nJ4p8"
      },
      "execution_count": null,
      "outputs": []
    },
    {
      "cell_type": "code",
      "source": [
        "df_pandas.tail(100)"
      ],
      "metadata": {
        "colab": {
          "base_uri": "https://localhost:8080/",
          "height": 423
        },
        "id": "v88fS2z_9xpz",
        "outputId": "6680ece0-57ae-4105-ad91-e7529a3cf888"
      },
      "execution_count": null,
      "outputs": [
        {
          "output_type": "execute_result",
          "data": {
            "text/plain": [
              "     tradicional  mes   ano\n",
              "193         9.17  jan  2006\n",
              "194         8.37  jul  2005\n",
              "195         8.08  mar  2005\n",
              "196         7.26  fev  2005\n",
              "197         7.43  jan  2005\n",
              "..           ...  ...   ...\n",
              "288         5.18  mai  1997\n",
              "289         5.50  abr  1997\n",
              "290         4.71  mar  1997\n",
              "291         3.55  fev  1997\n",
              "292         4.31  jan  1997\n",
              "\n",
              "[100 rows x 3 columns]"
            ],
            "text/html": [
              "\n",
              "  <div id=\"df-6eb8c9d7-8869-418f-a433-a22078f49748\">\n",
              "    <div class=\"colab-df-container\">\n",
              "      <div>\n",
              "<style scoped>\n",
              "    .dataframe tbody tr th:only-of-type {\n",
              "        vertical-align: middle;\n",
              "    }\n",
              "\n",
              "    .dataframe tbody tr th {\n",
              "        vertical-align: top;\n",
              "    }\n",
              "\n",
              "    .dataframe thead th {\n",
              "        text-align: right;\n",
              "    }\n",
              "</style>\n",
              "<table border=\"1\" class=\"dataframe\">\n",
              "  <thead>\n",
              "    <tr style=\"text-align: right;\">\n",
              "      <th></th>\n",
              "      <th>tradicional</th>\n",
              "      <th>mes</th>\n",
              "      <th>ano</th>\n",
              "    </tr>\n",
              "  </thead>\n",
              "  <tbody>\n",
              "    <tr>\n",
              "      <th>193</th>\n",
              "      <td>9.17</td>\n",
              "      <td>jan</td>\n",
              "      <td>2006</td>\n",
              "    </tr>\n",
              "    <tr>\n",
              "      <th>194</th>\n",
              "      <td>8.37</td>\n",
              "      <td>jul</td>\n",
              "      <td>2005</td>\n",
              "    </tr>\n",
              "    <tr>\n",
              "      <th>195</th>\n",
              "      <td>8.08</td>\n",
              "      <td>mar</td>\n",
              "      <td>2005</td>\n",
              "    </tr>\n",
              "    <tr>\n",
              "      <th>196</th>\n",
              "      <td>7.26</td>\n",
              "      <td>fev</td>\n",
              "      <td>2005</td>\n",
              "    </tr>\n",
              "    <tr>\n",
              "      <th>197</th>\n",
              "      <td>7.43</td>\n",
              "      <td>jan</td>\n",
              "      <td>2005</td>\n",
              "    </tr>\n",
              "    <tr>\n",
              "      <th>...</th>\n",
              "      <td>...</td>\n",
              "      <td>...</td>\n",
              "      <td>...</td>\n",
              "    </tr>\n",
              "    <tr>\n",
              "      <th>288</th>\n",
              "      <td>5.18</td>\n",
              "      <td>mai</td>\n",
              "      <td>1997</td>\n",
              "    </tr>\n",
              "    <tr>\n",
              "      <th>289</th>\n",
              "      <td>5.50</td>\n",
              "      <td>abr</td>\n",
              "      <td>1997</td>\n",
              "    </tr>\n",
              "    <tr>\n",
              "      <th>290</th>\n",
              "      <td>4.71</td>\n",
              "      <td>mar</td>\n",
              "      <td>1997</td>\n",
              "    </tr>\n",
              "    <tr>\n",
              "      <th>291</th>\n",
              "      <td>3.55</td>\n",
              "      <td>fev</td>\n",
              "      <td>1997</td>\n",
              "    </tr>\n",
              "    <tr>\n",
              "      <th>292</th>\n",
              "      <td>4.31</td>\n",
              "      <td>jan</td>\n",
              "      <td>1997</td>\n",
              "    </tr>\n",
              "  </tbody>\n",
              "</table>\n",
              "<p>100 rows × 3 columns</p>\n",
              "</div>\n",
              "      <button class=\"colab-df-convert\" onclick=\"convertToInteractive('df-6eb8c9d7-8869-418f-a433-a22078f49748')\"\n",
              "              title=\"Convert this dataframe to an interactive table.\"\n",
              "              style=\"display:none;\">\n",
              "        \n",
              "  <svg xmlns=\"http://www.w3.org/2000/svg\" height=\"24px\"viewBox=\"0 0 24 24\"\n",
              "       width=\"24px\">\n",
              "    <path d=\"M0 0h24v24H0V0z\" fill=\"none\"/>\n",
              "    <path d=\"M18.56 5.44l.94 2.06.94-2.06 2.06-.94-2.06-.94-.94-2.06-.94 2.06-2.06.94zm-11 1L8.5 8.5l.94-2.06 2.06-.94-2.06-.94L8.5 2.5l-.94 2.06-2.06.94zm10 10l.94 2.06.94-2.06 2.06-.94-2.06-.94-.94-2.06-.94 2.06-2.06.94z\"/><path d=\"M17.41 7.96l-1.37-1.37c-.4-.4-.92-.59-1.43-.59-.52 0-1.04.2-1.43.59L10.3 9.45l-7.72 7.72c-.78.78-.78 2.05 0 2.83L4 21.41c.39.39.9.59 1.41.59.51 0 1.02-.2 1.41-.59l7.78-7.78 2.81-2.81c.8-.78.8-2.07 0-2.86zM5.41 20L4 18.59l7.72-7.72 1.47 1.35L5.41 20z\"/>\n",
              "  </svg>\n",
              "      </button>\n",
              "      \n",
              "  <style>\n",
              "    .colab-df-container {\n",
              "      display:flex;\n",
              "      flex-wrap:wrap;\n",
              "      gap: 12px;\n",
              "    }\n",
              "\n",
              "    .colab-df-convert {\n",
              "      background-color: #E8F0FE;\n",
              "      border: none;\n",
              "      border-radius: 50%;\n",
              "      cursor: pointer;\n",
              "      display: none;\n",
              "      fill: #1967D2;\n",
              "      height: 32px;\n",
              "      padding: 0 0 0 0;\n",
              "      width: 32px;\n",
              "    }\n",
              "\n",
              "    .colab-df-convert:hover {\n",
              "      background-color: #E2EBFA;\n",
              "      box-shadow: 0px 1px 2px rgba(60, 64, 67, 0.3), 0px 1px 3px 1px rgba(60, 64, 67, 0.15);\n",
              "      fill: #174EA6;\n",
              "    }\n",
              "\n",
              "    [theme=dark] .colab-df-convert {\n",
              "      background-color: #3B4455;\n",
              "      fill: #D2E3FC;\n",
              "    }\n",
              "\n",
              "    [theme=dark] .colab-df-convert:hover {\n",
              "      background-color: #434B5C;\n",
              "      box-shadow: 0px 1px 3px 1px rgba(0, 0, 0, 0.15);\n",
              "      filter: drop-shadow(0px 1px 2px rgba(0, 0, 0, 0.3));\n",
              "      fill: #FFFFFF;\n",
              "    }\n",
              "  </style>\n",
              "\n",
              "      <script>\n",
              "        const buttonEl =\n",
              "          document.querySelector('#df-6eb8c9d7-8869-418f-a433-a22078f49748 button.colab-df-convert');\n",
              "        buttonEl.style.display =\n",
              "          google.colab.kernel.accessAllowed ? 'block' : 'none';\n",
              "\n",
              "        async function convertToInteractive(key) {\n",
              "          const element = document.querySelector('#df-6eb8c9d7-8869-418f-a433-a22078f49748');\n",
              "          const dataTable =\n",
              "            await google.colab.kernel.invokeFunction('convertToInteractive',\n",
              "                                                     [key], {});\n",
              "          if (!dataTable) return;\n",
              "\n",
              "          const docLinkHtml = 'Like what you see? Visit the ' +\n",
              "            '<a target=\"_blank\" href=https://colab.research.google.com/notebooks/data_table.ipynb>data table notebook</a>'\n",
              "            + ' to learn more about interactive tables.';\n",
              "          element.innerHTML = '';\n",
              "          dataTable['output_type'] = 'display_data';\n",
              "          await google.colab.output.renderOutput(dataTable, element);\n",
              "          const docLink = document.createElement('div');\n",
              "          docLink.innerHTML = docLinkHtml;\n",
              "          element.appendChild(docLink);\n",
              "        }\n",
              "      </script>\n",
              "    </div>\n",
              "  </div>\n",
              "  "
            ]
          },
          "metadata": {},
          "execution_count": 36
        }
      ]
    },
    {
      "cell_type": "markdown",
      "source": [
        "##Ministério da Cultura"
      ],
      "metadata": {
        "id": "fnW8CpHzxXpZ"
      }
    },
    {
      "cell_type": "code",
      "source": [
        "df = pd.read_csv('gs://comercio-cafe/TRATADOS/Ministério do Turismo/tratados.csv', sep=',', encoding='UTF-8')\n",
        "ft_cafeterias = df.loc[df.tipo == 'Cafeteria']"
      ],
      "metadata": {
        "id": "laK__1x1Wjoj"
      },
      "execution_count": null,
      "outputs": []
    },
    {
      "cell_type": "code",
      "source": [
        "ft_cafeterias"
      ],
      "metadata": {
        "id": "HasqCp0uZVXs"
      },
      "execution_count": null,
      "outputs": []
    },
    {
      "cell_type": "code",
      "source": [
        "data_atual = datetime.now()\n",
        "df['data_abertura'] = pd.to_datetime(df['data_abertura'], format='%Y/%m/%d')"
      ],
      "metadata": {
        "id": "rEplFIghZR5U"
      },
      "execution_count": null,
      "outputs": []
    },
    {
      "cell_type": "code",
      "source": [
        "ft_cafeterias['idade'] = (data_atual - df['data_abertura']).dt.days / 365.25\n",
        "ft_cafeterias['idade'] = ft_cafeterias['idade'].astype(int)"
      ],
      "metadata": {
        "id": "QX-QGkVdW_xe"
      },
      "execution_count": null,
      "outputs": []
    },
    {
      "cell_type": "code",
      "source": [
        "ft_cafeterias[ft_cafeterias['nome_fantasia'].str.contains('SERRA')]"
      ],
      "metadata": {
        "colab": {
          "base_uri": "https://localhost:8080/",
          "height": 711
        },
        "id": "wJCNGvfiHCVk",
        "outputId": "2f97df1a-5987-413a-aa3d-2f18884c5c23"
      },
      "execution_count": null,
      "outputs": [
        {
          "output_type": "execute_result",
          "data": {
            "text/plain": [
              "                     cnpj                   nome_fantasia sit_cadastral  \\\n",
              "201    03.921.524/0001-03      CONVENIÊNCIA VALE DA SERRA       Regular   \n",
              "6829   13.996.456/0001-03                   CAFE DA SERRA       Regular   \n",
              "8137   03.797.763/0001-01           CEDROS HOTEL DE SERRA       Regular   \n",
              "12344  34.808.149/0001-13                CAFE SANTA SERRA       Regular   \n",
              "15507  28.688.999/0001-22           CHOCOLATERIA DA SERRA       Regular   \n",
              "17458  12.880.172/0001-86  PANIFICADORA ENCOSTAS DA SERRA       Regular   \n",
              "18174  14.766.051/0001-33           PARANAIBA SERRA VERDE       Regular   \n",
              "19251  04.876.870/0001-80                      SERRA AZUL       Regular   \n",
              "\n",
              "      sit_atividade tipo_estabecimento                   nat_juridica  \\\n",
              "201        Operação             Matriz        Empresário (Individual)   \n",
              "6829       Operação             Matriz  Sociedade Empresária Limitada   \n",
              "8137       Operação             Matriz        Empresário (Individual)   \n",
              "12344      Operação             Matriz          Empresário Individual   \n",
              "15507      Operação             Matriz  Sociedade Empresária Limitada   \n",
              "17458      Operação             Matriz  Sociedade Empresária Limitada   \n",
              "18174      Operação             Matriz  Sociedade Empresária Limitada   \n",
              "19251      Operação             Matriz  Sociedade Empresária Limitada   \n",
              "\n",
              "                          porte  uf           minicipio data_abertura  \\\n",
              "201    EMPRESA DE PEQUENO PORTE  MT     Barra do Garças    2000-07-07   \n",
              "6829               MICROEMPRESA  SC          Bom Retiro    2011-07-22   \n",
              "8137               MICROEMPRESA  CE        Guaramiranga    2000-04-18   \n",
              "12344              MICROEMPRESA  SP         Serra Negra    2019-09-09   \n",
              "15507  EMPRESA DE PEQUENO PORTE  SP                   -    2017-09-20   \n",
              "17458              MICROEMPRESA  SC  Santa Rosa de Lima    2010-11-16   \n",
              "18174                    DEMAIS  MG      Belo Horizonte    2011-12-13   \n",
              "19251              MICROEMPRESA  BA             Uruçuca    2001-04-12   \n",
              "\n",
              "                                         cnaes  \\\n",
              "201                                    5611201   \n",
              "6829                                   5611203   \n",
              "8137   5590699|5611201|5611203|8230001|8230001   \n",
              "12344          8230001|5611203|7990200|5611204   \n",
              "15507                                  5611203   \n",
              "17458                                  5611203   \n",
              "18174                                  5611203   \n",
              "19251                          5510801|5611201   \n",
              "\n",
              "                                           end_comercial val_certificado  \\\n",
              "201    Marechal Rondon  Barra do Garças Setor Cidade ...      2023-05-24   \n",
              "6829               AV MAJOR GENEROSO   580  Bom Retiro        2022-08-26   \n",
              "8137   Rua Cel  Batista de Queiroz  340 @cedrospousad...      2022-12-15   \n",
              "12344  Est Municipal Jose Renato Pulini Marchi - Siti...      2023-04-22   \n",
              "15507  Doutor Luis Felippe França Ramos 3000 Mairipor...      2023-07-22   \n",
              "17458  RUA GERMANO HERMES MEYER N°   279 Santa Rosa d...      2023-09-28   \n",
              "18174  Leontino Francisco Alves 439 Belo Horizonte Se...      2023-04-11   \n",
              "19251                        R  das Flores 244 Uruçuca        2024-07-02   \n",
              "\n",
              "            tipo     especialidade    idiomas  idade  \n",
              "201    Cafeteria        Brasileira          -     22  \n",
              "6829   Cafeteria        Brasileira  Português     11  \n",
              "8137   Cafeteria  Cozinha regional          -     23  \n",
              "12344  Cafeteria        Brasileira          -      3  \n",
              "15507  Cafeteria        Brasileira          -      5  \n",
              "17458  Cafeteria             Alemã          -     12  \n",
              "18174  Cafeteria        Brasileira  Português     11  \n",
              "19251  Cafeteria        Brasileira          -     22  "
            ],
            "text/html": [
              "\n",
              "  <div id=\"df-6e5c488d-3b16-4b2c-9dcb-b52fdac35b0a\">\n",
              "    <div class=\"colab-df-container\">\n",
              "      <div>\n",
              "<style scoped>\n",
              "    .dataframe tbody tr th:only-of-type {\n",
              "        vertical-align: middle;\n",
              "    }\n",
              "\n",
              "    .dataframe tbody tr th {\n",
              "        vertical-align: top;\n",
              "    }\n",
              "\n",
              "    .dataframe thead th {\n",
              "        text-align: right;\n",
              "    }\n",
              "</style>\n",
              "<table border=\"1\" class=\"dataframe\">\n",
              "  <thead>\n",
              "    <tr style=\"text-align: right;\">\n",
              "      <th></th>\n",
              "      <th>cnpj</th>\n",
              "      <th>nome_fantasia</th>\n",
              "      <th>sit_cadastral</th>\n",
              "      <th>sit_atividade</th>\n",
              "      <th>tipo_estabecimento</th>\n",
              "      <th>nat_juridica</th>\n",
              "      <th>porte</th>\n",
              "      <th>uf</th>\n",
              "      <th>minicipio</th>\n",
              "      <th>data_abertura</th>\n",
              "      <th>cnaes</th>\n",
              "      <th>end_comercial</th>\n",
              "      <th>val_certificado</th>\n",
              "      <th>tipo</th>\n",
              "      <th>especialidade</th>\n",
              "      <th>idiomas</th>\n",
              "      <th>idade</th>\n",
              "    </tr>\n",
              "  </thead>\n",
              "  <tbody>\n",
              "    <tr>\n",
              "      <th>201</th>\n",
              "      <td>03.921.524/0001-03</td>\n",
              "      <td>CONVENIÊNCIA VALE DA SERRA</td>\n",
              "      <td>Regular</td>\n",
              "      <td>Operação</td>\n",
              "      <td>Matriz</td>\n",
              "      <td>Empresário (Individual)</td>\n",
              "      <td>EMPRESA DE PEQUENO PORTE</td>\n",
              "      <td>MT</td>\n",
              "      <td>Barra do Garças</td>\n",
              "      <td>2000-07-07</td>\n",
              "      <td>5611201</td>\n",
              "      <td>Marechal Rondon  Barra do Garças Setor Cidade ...</td>\n",
              "      <td>2023-05-24</td>\n",
              "      <td>Cafeteria</td>\n",
              "      <td>Brasileira</td>\n",
              "      <td>-</td>\n",
              "      <td>22</td>\n",
              "    </tr>\n",
              "    <tr>\n",
              "      <th>6829</th>\n",
              "      <td>13.996.456/0001-03</td>\n",
              "      <td>CAFE DA SERRA</td>\n",
              "      <td>Regular</td>\n",
              "      <td>Operação</td>\n",
              "      <td>Matriz</td>\n",
              "      <td>Sociedade Empresária Limitada</td>\n",
              "      <td>MICROEMPRESA</td>\n",
              "      <td>SC</td>\n",
              "      <td>Bom Retiro</td>\n",
              "      <td>2011-07-22</td>\n",
              "      <td>5611203</td>\n",
              "      <td>AV MAJOR GENEROSO   580  Bom Retiro</td>\n",
              "      <td>2022-08-26</td>\n",
              "      <td>Cafeteria</td>\n",
              "      <td>Brasileira</td>\n",
              "      <td>Português</td>\n",
              "      <td>11</td>\n",
              "    </tr>\n",
              "    <tr>\n",
              "      <th>8137</th>\n",
              "      <td>03.797.763/0001-01</td>\n",
              "      <td>CEDROS HOTEL DE SERRA</td>\n",
              "      <td>Regular</td>\n",
              "      <td>Operação</td>\n",
              "      <td>Matriz</td>\n",
              "      <td>Empresário (Individual)</td>\n",
              "      <td>MICROEMPRESA</td>\n",
              "      <td>CE</td>\n",
              "      <td>Guaramiranga</td>\n",
              "      <td>2000-04-18</td>\n",
              "      <td>5590699|5611201|5611203|8230001|8230001</td>\n",
              "      <td>Rua Cel  Batista de Queiroz  340 @cedrospousad...</td>\n",
              "      <td>2022-12-15</td>\n",
              "      <td>Cafeteria</td>\n",
              "      <td>Cozinha regional</td>\n",
              "      <td>-</td>\n",
              "      <td>23</td>\n",
              "    </tr>\n",
              "    <tr>\n",
              "      <th>12344</th>\n",
              "      <td>34.808.149/0001-13</td>\n",
              "      <td>CAFE SANTA SERRA</td>\n",
              "      <td>Regular</td>\n",
              "      <td>Operação</td>\n",
              "      <td>Matriz</td>\n",
              "      <td>Empresário Individual</td>\n",
              "      <td>MICROEMPRESA</td>\n",
              "      <td>SP</td>\n",
              "      <td>Serra Negra</td>\n",
              "      <td>2019-09-09</td>\n",
              "      <td>8230001|5611203|7990200|5611204</td>\n",
              "      <td>Est Municipal Jose Renato Pulini Marchi - Siti...</td>\n",
              "      <td>2023-04-22</td>\n",
              "      <td>Cafeteria</td>\n",
              "      <td>Brasileira</td>\n",
              "      <td>-</td>\n",
              "      <td>3</td>\n",
              "    </tr>\n",
              "    <tr>\n",
              "      <th>15507</th>\n",
              "      <td>28.688.999/0001-22</td>\n",
              "      <td>CHOCOLATERIA DA SERRA</td>\n",
              "      <td>Regular</td>\n",
              "      <td>Operação</td>\n",
              "      <td>Matriz</td>\n",
              "      <td>Sociedade Empresária Limitada</td>\n",
              "      <td>EMPRESA DE PEQUENO PORTE</td>\n",
              "      <td>SP</td>\n",
              "      <td>-</td>\n",
              "      <td>2017-09-20</td>\n",
              "      <td>5611203</td>\n",
              "      <td>Doutor Luis Felippe França Ramos 3000 Mairipor...</td>\n",
              "      <td>2023-07-22</td>\n",
              "      <td>Cafeteria</td>\n",
              "      <td>Brasileira</td>\n",
              "      <td>-</td>\n",
              "      <td>5</td>\n",
              "    </tr>\n",
              "    <tr>\n",
              "      <th>17458</th>\n",
              "      <td>12.880.172/0001-86</td>\n",
              "      <td>PANIFICADORA ENCOSTAS DA SERRA</td>\n",
              "      <td>Regular</td>\n",
              "      <td>Operação</td>\n",
              "      <td>Matriz</td>\n",
              "      <td>Sociedade Empresária Limitada</td>\n",
              "      <td>MICROEMPRESA</td>\n",
              "      <td>SC</td>\n",
              "      <td>Santa Rosa de Lima</td>\n",
              "      <td>2010-11-16</td>\n",
              "      <td>5611203</td>\n",
              "      <td>RUA GERMANO HERMES MEYER N°   279 Santa Rosa d...</td>\n",
              "      <td>2023-09-28</td>\n",
              "      <td>Cafeteria</td>\n",
              "      <td>Alemã</td>\n",
              "      <td>-</td>\n",
              "      <td>12</td>\n",
              "    </tr>\n",
              "    <tr>\n",
              "      <th>18174</th>\n",
              "      <td>14.766.051/0001-33</td>\n",
              "      <td>PARANAIBA SERRA VERDE</td>\n",
              "      <td>Regular</td>\n",
              "      <td>Operação</td>\n",
              "      <td>Matriz</td>\n",
              "      <td>Sociedade Empresária Limitada</td>\n",
              "      <td>DEMAIS</td>\n",
              "      <td>MG</td>\n",
              "      <td>Belo Horizonte</td>\n",
              "      <td>2011-12-13</td>\n",
              "      <td>5611203</td>\n",
              "      <td>Leontino Francisco Alves 439 Belo Horizonte Se...</td>\n",
              "      <td>2023-04-11</td>\n",
              "      <td>Cafeteria</td>\n",
              "      <td>Brasileira</td>\n",
              "      <td>Português</td>\n",
              "      <td>11</td>\n",
              "    </tr>\n",
              "    <tr>\n",
              "      <th>19251</th>\n",
              "      <td>04.876.870/0001-80</td>\n",
              "      <td>SERRA AZUL</td>\n",
              "      <td>Regular</td>\n",
              "      <td>Operação</td>\n",
              "      <td>Matriz</td>\n",
              "      <td>Sociedade Empresária Limitada</td>\n",
              "      <td>MICROEMPRESA</td>\n",
              "      <td>BA</td>\n",
              "      <td>Uruçuca</td>\n",
              "      <td>2001-04-12</td>\n",
              "      <td>5510801|5611201</td>\n",
              "      <td>R  das Flores 244 Uruçuca</td>\n",
              "      <td>2024-07-02</td>\n",
              "      <td>Cafeteria</td>\n",
              "      <td>Brasileira</td>\n",
              "      <td>-</td>\n",
              "      <td>22</td>\n",
              "    </tr>\n",
              "  </tbody>\n",
              "</table>\n",
              "</div>\n",
              "      <button class=\"colab-df-convert\" onclick=\"convertToInteractive('df-6e5c488d-3b16-4b2c-9dcb-b52fdac35b0a')\"\n",
              "              title=\"Convert this dataframe to an interactive table.\"\n",
              "              style=\"display:none;\">\n",
              "        \n",
              "  <svg xmlns=\"http://www.w3.org/2000/svg\" height=\"24px\"viewBox=\"0 0 24 24\"\n",
              "       width=\"24px\">\n",
              "    <path d=\"M0 0h24v24H0V0z\" fill=\"none\"/>\n",
              "    <path d=\"M18.56 5.44l.94 2.06.94-2.06 2.06-.94-2.06-.94-.94-2.06-.94 2.06-2.06.94zm-11 1L8.5 8.5l.94-2.06 2.06-.94-2.06-.94L8.5 2.5l-.94 2.06-2.06.94zm10 10l.94 2.06.94-2.06 2.06-.94-2.06-.94-.94-2.06-.94 2.06-2.06.94z\"/><path d=\"M17.41 7.96l-1.37-1.37c-.4-.4-.92-.59-1.43-.59-.52 0-1.04.2-1.43.59L10.3 9.45l-7.72 7.72c-.78.78-.78 2.05 0 2.83L4 21.41c.39.39.9.59 1.41.59.51 0 1.02-.2 1.41-.59l7.78-7.78 2.81-2.81c.8-.78.8-2.07 0-2.86zM5.41 20L4 18.59l7.72-7.72 1.47 1.35L5.41 20z\"/>\n",
              "  </svg>\n",
              "      </button>\n",
              "      \n",
              "  <style>\n",
              "    .colab-df-container {\n",
              "      display:flex;\n",
              "      flex-wrap:wrap;\n",
              "      gap: 12px;\n",
              "    }\n",
              "\n",
              "    .colab-df-convert {\n",
              "      background-color: #E8F0FE;\n",
              "      border: none;\n",
              "      border-radius: 50%;\n",
              "      cursor: pointer;\n",
              "      display: none;\n",
              "      fill: #1967D2;\n",
              "      height: 32px;\n",
              "      padding: 0 0 0 0;\n",
              "      width: 32px;\n",
              "    }\n",
              "\n",
              "    .colab-df-convert:hover {\n",
              "      background-color: #E2EBFA;\n",
              "      box-shadow: 0px 1px 2px rgba(60, 64, 67, 0.3), 0px 1px 3px 1px rgba(60, 64, 67, 0.15);\n",
              "      fill: #174EA6;\n",
              "    }\n",
              "\n",
              "    [theme=dark] .colab-df-convert {\n",
              "      background-color: #3B4455;\n",
              "      fill: #D2E3FC;\n",
              "    }\n",
              "\n",
              "    [theme=dark] .colab-df-convert:hover {\n",
              "      background-color: #434B5C;\n",
              "      box-shadow: 0px 1px 3px 1px rgba(0, 0, 0, 0.15);\n",
              "      filter: drop-shadow(0px 1px 2px rgba(0, 0, 0, 0.3));\n",
              "      fill: #FFFFFF;\n",
              "    }\n",
              "  </style>\n",
              "\n",
              "      <script>\n",
              "        const buttonEl =\n",
              "          document.querySelector('#df-6e5c488d-3b16-4b2c-9dcb-b52fdac35b0a button.colab-df-convert');\n",
              "        buttonEl.style.display =\n",
              "          google.colab.kernel.accessAllowed ? 'block' : 'none';\n",
              "\n",
              "        async function convertToInteractive(key) {\n",
              "          const element = document.querySelector('#df-6e5c488d-3b16-4b2c-9dcb-b52fdac35b0a');\n",
              "          const dataTable =\n",
              "            await google.colab.kernel.invokeFunction('convertToInteractive',\n",
              "                                                     [key], {});\n",
              "          if (!dataTable) return;\n",
              "\n",
              "          const docLinkHtml = 'Like what you see? Visit the ' +\n",
              "            '<a target=\"_blank\" href=https://colab.research.google.com/notebooks/data_table.ipynb>data table notebook</a>'\n",
              "            + ' to learn more about interactive tables.';\n",
              "          element.innerHTML = '';\n",
              "          dataTable['output_type'] = 'display_data';\n",
              "          await google.colab.output.renderOutput(dataTable, element);\n",
              "          const docLink = document.createElement('div');\n",
              "          docLink.innerHTML = docLinkHtml;\n",
              "          element.appendChild(docLink);\n",
              "        }\n",
              "      </script>\n",
              "    </div>\n",
              "  </div>\n",
              "  "
            ]
          },
          "metadata": {},
          "execution_count": 127
        }
      ]
    },
    {
      "cell_type": "code",
      "source": [
        "ft_cafeterias"
      ],
      "metadata": {
        "colab": {
          "base_uri": "https://localhost:8080/",
          "height": 991
        },
        "id": "sk1lDZ0-GrT3",
        "outputId": "144e6f13-32b8-4ab9-efc9-97a5438a1c7a"
      },
      "execution_count": null,
      "outputs": [
        {
          "output_type": "execute_result",
          "data": {
            "text/plain": [
              "                     cnpj                 nome_fantasia sit_cadastral  \\\n",
              "15     17.287.526/0001-05                 BRASIL VEXADO       Regular   \n",
              "16     14.314.724/0001-14                   FRAN'S CAFÉ       Regular   \n",
              "67     25.276.829/0001-42                         *****       Regular   \n",
              "71     13.497.202/0001-32                  CIOCOLATERIA       Regular   \n",
              "73     07.644.005/0001-04                 EMPADA BRASIL       Regular   \n",
              "...                   ...                           ...           ...   \n",
              "20235  29.635.810/0001-04               RICOS DA TIJUCA       Regular   \n",
              "20258  38.250.190/0001-78              WAKU-WAKU COFFEE       Regular   \n",
              "20335  31.010.847/0006-95                    Curta Café       Regular   \n",
              "20347  32.148.093/0002-73  DI FERREIRA CHOCOLATES E CIA       Regular   \n",
              "20355  28.784.015/0001-07                 RICOS LANCHES       Regular   \n",
              "\n",
              "      sit_atividade tipo_estabecimento  \\\n",
              "15         Operação             Matriz   \n",
              "16         Operação             Matriz   \n",
              "67         Operação             Matriz   \n",
              "71         Operação             Matriz   \n",
              "73         Operação             Matriz   \n",
              "...             ...                ...   \n",
              "20235      Operação             Matriz   \n",
              "20258      Operação             Matriz   \n",
              "20335      Operação             Filial   \n",
              "20347      Operação             Filial   \n",
              "20355      Operação             Matriz   \n",
              "\n",
              "                                            nat_juridica  \\\n",
              "15     Empresa Individual de Responsabilidade Limitad...   \n",
              "16                         Sociedade Empresária Limitada   \n",
              "67                         Sociedade Empresária Limitada   \n",
              "71     Empresa Individual de Responsabilidade Limitad...   \n",
              "73                         Sociedade Empresária Limitada   \n",
              "...                                                  ...   \n",
              "20235                      Sociedade Empresária Limitada   \n",
              "20258                      Sociedade Empresária Limitada   \n",
              "20335                      Sociedade Empresária Limitada   \n",
              "20347                      Sociedade Empresária Limitada   \n",
              "20355                      Sociedade Empresária Limitada   \n",
              "\n",
              "                          porte  uf       minicipio data_abertura  \\\n",
              "15     EMPRESA DE PEQUENO PORTE  DF        Brasília    2012-10-12   \n",
              "16     EMPRESA DE PEQUENO PORTE  DF        Brasília    2011-09-14   \n",
              "67                 MICROEMPRESA  DF        Brasília    2016-07-25   \n",
              "71     EMPRESA DE PEQUENO PORTE  DF        Brasília    2011-06-04   \n",
              "73     EMPRESA DE PEQUENO PORTE  DF        Brasília    2005-10-13   \n",
              "...                         ...  ..             ...           ...   \n",
              "20235              MICROEMPRESA  RJ  Rio de Janeiro    1985-08-30   \n",
              "20258  EMPRESA DE PEQUENO PORTE  SP       São Paulo    2020-08-27   \n",
              "20335                    DEMAIS  RS         Gramado    2021-10-13   \n",
              "20347              MICROEMPRESA  SP       Guarulhos    2020-11-25   \n",
              "20355  EMPRESA DE PEQUENO PORTE  RJ  Rio de Janeiro    1984-07-23   \n",
              "\n",
              "                                                   cnaes  \\\n",
              "15                                               5611201   \n",
              "16                       5620102|5611201|5611203|5611204   \n",
              "67                                               5611203   \n",
              "71                                               5611203   \n",
              "73                                               5611203   \n",
              "...                                                  ...   \n",
              "20235                                            5611203   \n",
              "20258  8230001|8230002|8230002|8230001|4789001|562010...   \n",
              "20335                                            5611201   \n",
              "20347                                            5611203   \n",
              "20355                                            5611203   \n",
              "\n",
              "                                           end_comercial val_certificado  \\\n",
              "15     EQSD 1/13 3025 Brasília Taguatinga Sul (Taguat...      2023-08-31   \n",
              "16     CLSW 302 Bloco C  Brasília Setor Sudoeste CEP:...      2023-12-13   \n",
              "67     EPTG EQ 2/3  Brasília Quadras Econômicas Lúcio...      2023-05-21   \n",
              "71     CLS 410 Bloco A Loja 13 Brasília Asa Sul CEP: ...      2023-02-17   \n",
              "73     SHIS QI 5 Bloco J  Brasília Setor de Habitaçõe...      2023-09-12   \n",
              "...                                                  ...             ...   \n",
              "20235  General Roca - até 230/231 Rio de Janeiro Tiju...      2024-03-30   \n",
              "20258  Maria Antônia  São Paulo Vila Buarque CEP: 012...      2024-03-30   \n",
              "20335                  borges de medeiros 2659 Gramado        2024-03-31   \n",
              "20347  Hélio Smidt  Guarulhos Aeroporto CEP: 07190100 SP      2024-03-30   \n",
              "20355  Major Ávila  Rio de Janeiro Tijuca CEP: 205400...      2024-03-30   \n",
              "\n",
              "            tipo                      especialidade   idiomas  idade  \n",
              "15     Cafeteria                         Brasileira  Espanhol     10  \n",
              "16     Cafeteria                          Americana    Inglês     11  \n",
              "67     Cafeteria                         Brasileira         -      6  \n",
              "71     Cafeteria                           Francesa    Inglês     11  \n",
              "73     Cafeteria                         Brasileira         -     17  \n",
              "...          ...                                ...       ...    ...  \n",
              "20235  Cafeteria              Brasileira|Portuguesa         -     37  \n",
              "20258  Cafeteria                         Brasileira         -      2  \n",
              "20335  Cafeteria  Cozinha regional|Brasileira|Alemã         -      1  \n",
              "20347  Cafeteria                         Brasileira         -      2  \n",
              "20355  Cafeteria              Brasileira|Portuguesa         -     38  \n",
              "\n",
              "[1371 rows x 17 columns]"
            ],
            "text/html": [
              "\n",
              "  <div id=\"df-707bce34-a2ed-47c9-a9db-bec169f735be\">\n",
              "    <div class=\"colab-df-container\">\n",
              "      <div>\n",
              "<style scoped>\n",
              "    .dataframe tbody tr th:only-of-type {\n",
              "        vertical-align: middle;\n",
              "    }\n",
              "\n",
              "    .dataframe tbody tr th {\n",
              "        vertical-align: top;\n",
              "    }\n",
              "\n",
              "    .dataframe thead th {\n",
              "        text-align: right;\n",
              "    }\n",
              "</style>\n",
              "<table border=\"1\" class=\"dataframe\">\n",
              "  <thead>\n",
              "    <tr style=\"text-align: right;\">\n",
              "      <th></th>\n",
              "      <th>cnpj</th>\n",
              "      <th>nome_fantasia</th>\n",
              "      <th>sit_cadastral</th>\n",
              "      <th>sit_atividade</th>\n",
              "      <th>tipo_estabecimento</th>\n",
              "      <th>nat_juridica</th>\n",
              "      <th>porte</th>\n",
              "      <th>uf</th>\n",
              "      <th>minicipio</th>\n",
              "      <th>data_abertura</th>\n",
              "      <th>cnaes</th>\n",
              "      <th>end_comercial</th>\n",
              "      <th>val_certificado</th>\n",
              "      <th>tipo</th>\n",
              "      <th>especialidade</th>\n",
              "      <th>idiomas</th>\n",
              "      <th>idade</th>\n",
              "    </tr>\n",
              "  </thead>\n",
              "  <tbody>\n",
              "    <tr>\n",
              "      <th>15</th>\n",
              "      <td>17.287.526/0001-05</td>\n",
              "      <td>BRASIL VEXADO</td>\n",
              "      <td>Regular</td>\n",
              "      <td>Operação</td>\n",
              "      <td>Matriz</td>\n",
              "      <td>Empresa Individual de Responsabilidade Limitad...</td>\n",
              "      <td>EMPRESA DE PEQUENO PORTE</td>\n",
              "      <td>DF</td>\n",
              "      <td>Brasília</td>\n",
              "      <td>2012-10-12</td>\n",
              "      <td>5611201</td>\n",
              "      <td>EQSD 1/13 3025 Brasília Taguatinga Sul (Taguat...</td>\n",
              "      <td>2023-08-31</td>\n",
              "      <td>Cafeteria</td>\n",
              "      <td>Brasileira</td>\n",
              "      <td>Espanhol</td>\n",
              "      <td>10</td>\n",
              "    </tr>\n",
              "    <tr>\n",
              "      <th>16</th>\n",
              "      <td>14.314.724/0001-14</td>\n",
              "      <td>FRAN'S CAFÉ</td>\n",
              "      <td>Regular</td>\n",
              "      <td>Operação</td>\n",
              "      <td>Matriz</td>\n",
              "      <td>Sociedade Empresária Limitada</td>\n",
              "      <td>EMPRESA DE PEQUENO PORTE</td>\n",
              "      <td>DF</td>\n",
              "      <td>Brasília</td>\n",
              "      <td>2011-09-14</td>\n",
              "      <td>5620102|5611201|5611203|5611204</td>\n",
              "      <td>CLSW 302 Bloco C  Brasília Setor Sudoeste CEP:...</td>\n",
              "      <td>2023-12-13</td>\n",
              "      <td>Cafeteria</td>\n",
              "      <td>Americana</td>\n",
              "      <td>Inglês</td>\n",
              "      <td>11</td>\n",
              "    </tr>\n",
              "    <tr>\n",
              "      <th>67</th>\n",
              "      <td>25.276.829/0001-42</td>\n",
              "      <td>*****</td>\n",
              "      <td>Regular</td>\n",
              "      <td>Operação</td>\n",
              "      <td>Matriz</td>\n",
              "      <td>Sociedade Empresária Limitada</td>\n",
              "      <td>MICROEMPRESA</td>\n",
              "      <td>DF</td>\n",
              "      <td>Brasília</td>\n",
              "      <td>2016-07-25</td>\n",
              "      <td>5611203</td>\n",
              "      <td>EPTG EQ 2/3  Brasília Quadras Econômicas Lúcio...</td>\n",
              "      <td>2023-05-21</td>\n",
              "      <td>Cafeteria</td>\n",
              "      <td>Brasileira</td>\n",
              "      <td>-</td>\n",
              "      <td>6</td>\n",
              "    </tr>\n",
              "    <tr>\n",
              "      <th>71</th>\n",
              "      <td>13.497.202/0001-32</td>\n",
              "      <td>CIOCOLATERIA</td>\n",
              "      <td>Regular</td>\n",
              "      <td>Operação</td>\n",
              "      <td>Matriz</td>\n",
              "      <td>Empresa Individual de Responsabilidade Limitad...</td>\n",
              "      <td>EMPRESA DE PEQUENO PORTE</td>\n",
              "      <td>DF</td>\n",
              "      <td>Brasília</td>\n",
              "      <td>2011-06-04</td>\n",
              "      <td>5611203</td>\n",
              "      <td>CLS 410 Bloco A Loja 13 Brasília Asa Sul CEP: ...</td>\n",
              "      <td>2023-02-17</td>\n",
              "      <td>Cafeteria</td>\n",
              "      <td>Francesa</td>\n",
              "      <td>Inglês</td>\n",
              "      <td>11</td>\n",
              "    </tr>\n",
              "    <tr>\n",
              "      <th>73</th>\n",
              "      <td>07.644.005/0001-04</td>\n",
              "      <td>EMPADA BRASIL</td>\n",
              "      <td>Regular</td>\n",
              "      <td>Operação</td>\n",
              "      <td>Matriz</td>\n",
              "      <td>Sociedade Empresária Limitada</td>\n",
              "      <td>EMPRESA DE PEQUENO PORTE</td>\n",
              "      <td>DF</td>\n",
              "      <td>Brasília</td>\n",
              "      <td>2005-10-13</td>\n",
              "      <td>5611203</td>\n",
              "      <td>SHIS QI 5 Bloco J  Brasília Setor de Habitaçõe...</td>\n",
              "      <td>2023-09-12</td>\n",
              "      <td>Cafeteria</td>\n",
              "      <td>Brasileira</td>\n",
              "      <td>-</td>\n",
              "      <td>17</td>\n",
              "    </tr>\n",
              "    <tr>\n",
              "      <th>...</th>\n",
              "      <td>...</td>\n",
              "      <td>...</td>\n",
              "      <td>...</td>\n",
              "      <td>...</td>\n",
              "      <td>...</td>\n",
              "      <td>...</td>\n",
              "      <td>...</td>\n",
              "      <td>...</td>\n",
              "      <td>...</td>\n",
              "      <td>...</td>\n",
              "      <td>...</td>\n",
              "      <td>...</td>\n",
              "      <td>...</td>\n",
              "      <td>...</td>\n",
              "      <td>...</td>\n",
              "      <td>...</td>\n",
              "      <td>...</td>\n",
              "    </tr>\n",
              "    <tr>\n",
              "      <th>20235</th>\n",
              "      <td>29.635.810/0001-04</td>\n",
              "      <td>RICOS DA TIJUCA</td>\n",
              "      <td>Regular</td>\n",
              "      <td>Operação</td>\n",
              "      <td>Matriz</td>\n",
              "      <td>Sociedade Empresária Limitada</td>\n",
              "      <td>MICROEMPRESA</td>\n",
              "      <td>RJ</td>\n",
              "      <td>Rio de Janeiro</td>\n",
              "      <td>1985-08-30</td>\n",
              "      <td>5611203</td>\n",
              "      <td>General Roca - até 230/231 Rio de Janeiro Tiju...</td>\n",
              "      <td>2024-03-30</td>\n",
              "      <td>Cafeteria</td>\n",
              "      <td>Brasileira|Portuguesa</td>\n",
              "      <td>-</td>\n",
              "      <td>37</td>\n",
              "    </tr>\n",
              "    <tr>\n",
              "      <th>20258</th>\n",
              "      <td>38.250.190/0001-78</td>\n",
              "      <td>WAKU-WAKU COFFEE</td>\n",
              "      <td>Regular</td>\n",
              "      <td>Operação</td>\n",
              "      <td>Matriz</td>\n",
              "      <td>Sociedade Empresária Limitada</td>\n",
              "      <td>EMPRESA DE PEQUENO PORTE</td>\n",
              "      <td>SP</td>\n",
              "      <td>São Paulo</td>\n",
              "      <td>2020-08-27</td>\n",
              "      <td>8230001|8230002|8230002|8230001|4789001|562010...</td>\n",
              "      <td>Maria Antônia  São Paulo Vila Buarque CEP: 012...</td>\n",
              "      <td>2024-03-30</td>\n",
              "      <td>Cafeteria</td>\n",
              "      <td>Brasileira</td>\n",
              "      <td>-</td>\n",
              "      <td>2</td>\n",
              "    </tr>\n",
              "    <tr>\n",
              "      <th>20335</th>\n",
              "      <td>31.010.847/0006-95</td>\n",
              "      <td>Curta Café</td>\n",
              "      <td>Regular</td>\n",
              "      <td>Operação</td>\n",
              "      <td>Filial</td>\n",
              "      <td>Sociedade Empresária Limitada</td>\n",
              "      <td>DEMAIS</td>\n",
              "      <td>RS</td>\n",
              "      <td>Gramado</td>\n",
              "      <td>2021-10-13</td>\n",
              "      <td>5611201</td>\n",
              "      <td>borges de medeiros 2659 Gramado</td>\n",
              "      <td>2024-03-31</td>\n",
              "      <td>Cafeteria</td>\n",
              "      <td>Cozinha regional|Brasileira|Alemã</td>\n",
              "      <td>-</td>\n",
              "      <td>1</td>\n",
              "    </tr>\n",
              "    <tr>\n",
              "      <th>20347</th>\n",
              "      <td>32.148.093/0002-73</td>\n",
              "      <td>DI FERREIRA CHOCOLATES E CIA</td>\n",
              "      <td>Regular</td>\n",
              "      <td>Operação</td>\n",
              "      <td>Filial</td>\n",
              "      <td>Sociedade Empresária Limitada</td>\n",
              "      <td>MICROEMPRESA</td>\n",
              "      <td>SP</td>\n",
              "      <td>Guarulhos</td>\n",
              "      <td>2020-11-25</td>\n",
              "      <td>5611203</td>\n",
              "      <td>Hélio Smidt  Guarulhos Aeroporto CEP: 07190100 SP</td>\n",
              "      <td>2024-03-30</td>\n",
              "      <td>Cafeteria</td>\n",
              "      <td>Brasileira</td>\n",
              "      <td>-</td>\n",
              "      <td>2</td>\n",
              "    </tr>\n",
              "    <tr>\n",
              "      <th>20355</th>\n",
              "      <td>28.784.015/0001-07</td>\n",
              "      <td>RICOS LANCHES</td>\n",
              "      <td>Regular</td>\n",
              "      <td>Operação</td>\n",
              "      <td>Matriz</td>\n",
              "      <td>Sociedade Empresária Limitada</td>\n",
              "      <td>EMPRESA DE PEQUENO PORTE</td>\n",
              "      <td>RJ</td>\n",
              "      <td>Rio de Janeiro</td>\n",
              "      <td>1984-07-23</td>\n",
              "      <td>5611203</td>\n",
              "      <td>Major Ávila  Rio de Janeiro Tijuca CEP: 205400...</td>\n",
              "      <td>2024-03-30</td>\n",
              "      <td>Cafeteria</td>\n",
              "      <td>Brasileira|Portuguesa</td>\n",
              "      <td>-</td>\n",
              "      <td>38</td>\n",
              "    </tr>\n",
              "  </tbody>\n",
              "</table>\n",
              "<p>1371 rows × 17 columns</p>\n",
              "</div>\n",
              "      <button class=\"colab-df-convert\" onclick=\"convertToInteractive('df-707bce34-a2ed-47c9-a9db-bec169f735be')\"\n",
              "              title=\"Convert this dataframe to an interactive table.\"\n",
              "              style=\"display:none;\">\n",
              "        \n",
              "  <svg xmlns=\"http://www.w3.org/2000/svg\" height=\"24px\"viewBox=\"0 0 24 24\"\n",
              "       width=\"24px\">\n",
              "    <path d=\"M0 0h24v24H0V0z\" fill=\"none\"/>\n",
              "    <path d=\"M18.56 5.44l.94 2.06.94-2.06 2.06-.94-2.06-.94-.94-2.06-.94 2.06-2.06.94zm-11 1L8.5 8.5l.94-2.06 2.06-.94-2.06-.94L8.5 2.5l-.94 2.06-2.06.94zm10 10l.94 2.06.94-2.06 2.06-.94-2.06-.94-.94-2.06-.94 2.06-2.06.94z\"/><path d=\"M17.41 7.96l-1.37-1.37c-.4-.4-.92-.59-1.43-.59-.52 0-1.04.2-1.43.59L10.3 9.45l-7.72 7.72c-.78.78-.78 2.05 0 2.83L4 21.41c.39.39.9.59 1.41.59.51 0 1.02-.2 1.41-.59l7.78-7.78 2.81-2.81c.8-.78.8-2.07 0-2.86zM5.41 20L4 18.59l7.72-7.72 1.47 1.35L5.41 20z\"/>\n",
              "  </svg>\n",
              "      </button>\n",
              "      \n",
              "  <style>\n",
              "    .colab-df-container {\n",
              "      display:flex;\n",
              "      flex-wrap:wrap;\n",
              "      gap: 12px;\n",
              "    }\n",
              "\n",
              "    .colab-df-convert {\n",
              "      background-color: #E8F0FE;\n",
              "      border: none;\n",
              "      border-radius: 50%;\n",
              "      cursor: pointer;\n",
              "      display: none;\n",
              "      fill: #1967D2;\n",
              "      height: 32px;\n",
              "      padding: 0 0 0 0;\n",
              "      width: 32px;\n",
              "    }\n",
              "\n",
              "    .colab-df-convert:hover {\n",
              "      background-color: #E2EBFA;\n",
              "      box-shadow: 0px 1px 2px rgba(60, 64, 67, 0.3), 0px 1px 3px 1px rgba(60, 64, 67, 0.15);\n",
              "      fill: #174EA6;\n",
              "    }\n",
              "\n",
              "    [theme=dark] .colab-df-convert {\n",
              "      background-color: #3B4455;\n",
              "      fill: #D2E3FC;\n",
              "    }\n",
              "\n",
              "    [theme=dark] .colab-df-convert:hover {\n",
              "      background-color: #434B5C;\n",
              "      box-shadow: 0px 1px 3px 1px rgba(0, 0, 0, 0.15);\n",
              "      filter: drop-shadow(0px 1px 2px rgba(0, 0, 0, 0.3));\n",
              "      fill: #FFFFFF;\n",
              "    }\n",
              "  </style>\n",
              "\n",
              "      <script>\n",
              "        const buttonEl =\n",
              "          document.querySelector('#df-707bce34-a2ed-47c9-a9db-bec169f735be button.colab-df-convert');\n",
              "        buttonEl.style.display =\n",
              "          google.colab.kernel.accessAllowed ? 'block' : 'none';\n",
              "\n",
              "        async function convertToInteractive(key) {\n",
              "          const element = document.querySelector('#df-707bce34-a2ed-47c9-a9db-bec169f735be');\n",
              "          const dataTable =\n",
              "            await google.colab.kernel.invokeFunction('convertToInteractive',\n",
              "                                                     [key], {});\n",
              "          if (!dataTable) return;\n",
              "\n",
              "          const docLinkHtml = 'Like what you see? Visit the ' +\n",
              "            '<a target=\"_blank\" href=https://colab.research.google.com/notebooks/data_table.ipynb>data table notebook</a>'\n",
              "            + ' to learn more about interactive tables.';\n",
              "          element.innerHTML = '';\n",
              "          dataTable['output_type'] = 'display_data';\n",
              "          await google.colab.output.renderOutput(dataTable, element);\n",
              "          const docLink = document.createElement('div');\n",
              "          docLink.innerHTML = docLinkHtml;\n",
              "          element.appendChild(docLink);\n",
              "        }\n",
              "      </script>\n",
              "    </div>\n",
              "  </div>\n",
              "  "
            ]
          },
          "metadata": {},
          "execution_count": 124
        }
      ]
    },
    {
      "cell_type": "code",
      "source": [
        "# Histograma com as idades\n",
        "plt.hist(ft_cafeterias['idade'], bins=range(min(ft_cafeterias['idade']), max(ft_cafeterias['idade']) + 2, 1))\n",
        "\n",
        "# configurando o título e os rótulos\n",
        "plt.title('Distribuição de Idades dos Estabelecimentos')\n",
        "plt.xlabel('Idade')\n",
        "plt.ylabel('Quantidade')\n",
        "\n",
        "plt.show()"
      ],
      "metadata": {
        "colab": {
          "base_uri": "https://localhost:8080/",
          "height": 472
        },
        "id": "Ltc5n7fsa9G_",
        "outputId": "50db7338-6043-40db-f357-c702a63b1fbb"
      },
      "execution_count": null,
      "outputs": [
        {
          "output_type": "display_data",
          "data": {
            "text/plain": [
              "<Figure size 640x480 with 1 Axes>"
            ],
            "image/png": "[encoded data removed]"
          },
          "metadata": {}
        }
      ]
    },
    {
      "cell_type": "code",
      "source": [
        "ft_cafeterias_bahianas = ft_cafeterias[ft_cafeterias['uf'].str.contains('BA')]"
      ],
      "metadata": {
        "id": "r2GZuiyHe6aD"
      },
      "execution_count": null,
      "outputs": []
    },
    {
      "cell_type": "code",
      "source": [
        "ft_cafeterias[ft_cafeterias['end_comercial'].str.contains('BA')].info()"
      ],
      "metadata": {
        "colab": {
          "base_uri": "https://localhost:8080/"
        },
        "id": "PNYLtMFnbEfR",
        "outputId": "31caba79-c649-4bf4-b812-186761757c51"
      },
      "execution_count": null,
      "outputs": [
        {
          "output_type": "stream",
          "name": "stdout",
          "text": [
            "<class 'pandas.core.frame.DataFrame'>\n",
            "Int64Index: 21 entries, 3386 to 18075\n",
            "Data columns (total 17 columns):\n",
            " #   Column              Non-Null Count  Dtype \n",
            "---  ------              --------------  ----- \n",
            " 0   cnpj                21 non-null     object\n",
            " 1   nome_fantasia       21 non-null     object\n",
            " 2   sit_cadastral       21 non-null     object\n",
            " 3   sit_atividade       21 non-null     object\n",
            " 4   tipo_estabecimento  21 non-null     object\n",
            " 5   nat_juridica        21 non-null     object\n",
            " 6   porte               21 non-null     object\n",
            " 7   uf                  21 non-null     object\n",
            " 8   minicipio           21 non-null     object\n",
            " 9   data_abertura       21 non-null     object\n",
            " 10  cnaes               21 non-null     object\n",
            " 11  end_comercial       21 non-null     object\n",
            " 12  val_certificado     21 non-null     object\n",
            " 13  tipo                21 non-null     object\n",
            " 14  especialidade       21 non-null     object\n",
            " 15  idiomas             21 non-null     object\n",
            " 16  idade               21 non-null     int64 \n",
            "dtypes: int64(1), object(16)\n",
            "memory usage: 3.0+ KB\n"
          ]
        }
      ]
    },
    {
      "cell_type": "code",
      "source": [
        "# Histograma com as idades\n",
        "plt.hist(ft_cafeterias_bahianas['idade'], bins=range(min(ft_cafeterias_bahianas['idade']), max(ft_cafeterias_bahianas['idade']) + 2, 1))\n",
        "\n",
        "# configurando o título e os rótulos\n",
        "plt.title('Distribuição de Idades das Cafefeterias Bahianas')\n",
        "plt.xlabel('Idade')\n",
        "plt.ylabel('Quantidade')\n",
        "\n",
        "plt.show()"
      ],
      "metadata": {
        "colab": {
          "base_uri": "https://localhost:8080/",
          "height": 472
        },
        "id": "uL27EomIfITQ",
        "outputId": "ee10b869-5188-47f7-d660-7f893787ca5e"
      },
      "execution_count": null,
      "outputs": [
        {
          "output_type": "display_data",
          "data": {
            "text/plain": [
              "<Figure size 640x480 with 1 Axes>"
            ],
            "image/png": "[encoded data removed]"
          },
          "metadata": {}
        }
      ]
    },
    {
      "cell_type": "code",
      "source": [
        "df_por_porte = ft_cafeterias_bahianas.groupby('porte').size().reset_index(name='quantidade')\n",
        "\n",
        "# Plotar o gráfico de barras\n",
        "plt.bar(df_por_porte['porte'], df_por_porte['quantidade'])\n",
        "plt.xlabel('Porte')\n",
        "plt.ylabel('Quantidade de cafeterias')\n",
        "plt.show()"
      ],
      "metadata": {
        "colab": {
          "base_uri": "https://localhost:8080/",
          "height": 449
        },
        "id": "4DkoqWHigb6F",
        "outputId": "bf9ee4c3-96fd-41c9-829d-da23a1b702ae"
      },
      "execution_count": null,
      "outputs": [
        {
          "output_type": "display_data",
          "data": {
            "text/plain": [
              "<Figure size 640x480 with 1 Axes>"
            ],
            "image/png": "[encoded data removed]"
          },
          "metadata": {}
        }
      ]
    },
    {
      "cell_type": "code",
      "source": [
        "brasileiras = ft_cafeterias_bahianas['especialidade'].str.contains('brasileira', case=False).sum()\n",
        "Internacional = len(ft_cafeterias_bahianas) - brasileiras\n",
        "\n",
        "# Cria o gráfico de pizza\n",
        "fig, ax = plt.subplots()\n",
        "ax.pie([brasileiras, Internacional], labels=['Brasileiras', 'Internacionais'], autopct='%1.1f%%')\n",
        "ax.set_title('Proporção de cafeterias com culinárias brasileiras e Internacionais')\n",
        "\n",
        "plt.show()"
      ],
      "metadata": {
        "colab": {
          "base_uri": "https://localhost:8080/",
          "height": 429
        },
        "id": "2itSIiVDlG2K",
        "outputId": "b6efb681-2f14-4c3f-e405-7dba9d2e6a4b"
      },
      "execution_count": null,
      "outputs": [
        {
          "output_type": "display_data",
          "data": {
            "text/plain": [
              "<Figure size 640x480 with 1 Axes>"
            ],
            "image/png": "[encoded data removed]"
          },
          "metadata": {}
        }
      ]
    },
    {
      "cell_type": "code",
      "source": [
        "df_por_municipio = ft_cafeterias_bahianas.groupby('minicipio').size().reset_index(name='quantidade')\n",
        "\n",
        "# Plotar o gráfico de barras\n",
        "plt.barh(df_por_municipio['minicipio'], df_por_municipio['quantidade'])\n",
        "plt.xlabel('Quantidade de cafeterias')\n",
        "plt.ylabel('Cidade')\n",
        "plt.show()"
      ],
      "metadata": {
        "colab": {
          "base_uri": "https://localhost:8080/",
          "height": 449
        },
        "id": "ocadaOVOomEJ",
        "outputId": "7d32828a-0c82-46fb-f7e2-0c65bba72da7"
      },
      "execution_count": null,
      "outputs": [
        {
          "output_type": "display_data",
          "data": {
            "text/plain": [
              "<Figure size 640x480 with 1 Axes>"
            ],
            "image/png": "[encoded data removed]"
          },
          "metadata": {}
        }
      ]
    },
    {
      "cell_type": "code",
      "source": [
        "# Calcula a média de idade por município\n",
        "media_idade_por_municipio = ft_cafeterias_bahianas.groupby('minicipio')['idade'].mean()\n",
        "\n",
        "# Plota o gráfico de barras horizontal\n",
        "media_idade_por_municipio.plot.barh()\n",
        "plt.xlabel('Idade média')\n",
        "plt.ylabel('Município')\n",
        "plt.xticks(range(min(ft_cafeterias_bahianas['idade']), max(ft_cafeterias_bahianas['idade']) + 1, 2))\n",
        "plt.title('Média de idade das cafeterias por município')\n",
        "\n",
        "plt.show()"
      ],
      "metadata": {
        "colab": {
          "base_uri": "https://localhost:8080/",
          "height": 472
        },
        "id": "7lgxCQ45pCw1",
        "outputId": "2c7333b7-d5e3-45f8-e77e-71c2ae229eab"
      },
      "execution_count": null,
      "outputs": [
        {
          "output_type": "display_data",
          "data": {
            "text/plain": [
              "<Figure size 640x480 with 1 Axes>"
            ],
            "image/png": "[encoded data removed]"
          },
          "metadata": {}
        }
      ]
    },
    {
      "cell_type": "code",
      "source": [
        "ft_cafeterias_bahianas.loc[ft_cafeterias_bahianas['idade'] == 6]"
      ],
      "metadata": {
        "colab": {
          "base_uri": "https://localhost:8080/",
          "height": 246
        },
        "id": "K_WfolIl_RTH",
        "outputId": "91df2052-0199-43c9-a31d-7b0c9ab8164f"
      },
      "execution_count": null,
      "outputs": [
        {
          "output_type": "execute_result",
          "data": {
            "text/plain": [
              "                     cnpj            nome_fantasia sit_cadastral  \\\n",
              "7523   25.011.151/0001-76  A BAIANINHA CAFE BISTRO       Regular   \n",
              "12708  24.839.280/0001-94            AUE VESTUARIO       Regular   \n",
              "\n",
              "      sit_atividade tipo_estabecimento             nat_juridica         porte  \\\n",
              "7523       Operação             Matriz    Empresário Individual  MICROEMPRESA   \n",
              "12708      Operação             Matriz  Empresário (Individual)  MICROEMPRESA   \n",
              "\n",
              "       uf         minicipio data_abertura  \\\n",
              "7523   BA  Lauro de Freitas    2016-06-15   \n",
              "12708  BA      Porto Seguro    2016-05-19   \n",
              "\n",
              "                                                   cnaes  \\\n",
              "7523                                     5611203|4789001   \n",
              "12708  4789001|5510801|5510802|5611201|7990200|823000...   \n",
              "\n",
              "                                           end_comercial val_certificado  \\\n",
              "7523   Praia de Itapoan Quadra 15  Lote 37 Lauro de F...      2022-08-10   \n",
              "12708                         av navegantes 56 Caraiva        2023-03-05   \n",
              "\n",
              "            tipo especialidade          idiomas  idade  \n",
              "7523   Cafeteria    Brasileira  Inglês|Espanhol      6  \n",
              "12708  Cafeteria    Brasileira                -      6  "
            ],
            "text/html": [
              "\n",
              "  <div id=\"df-9483fb83-e22d-4116-89e4-21b4f6223eea\">\n",
              "    <div class=\"colab-df-container\">\n",
              "      <div>\n",
              "<style scoped>\n",
              "    .dataframe tbody tr th:only-of-type {\n",
              "        vertical-align: middle;\n",
              "    }\n",
              "\n",
              "    .dataframe tbody tr th {\n",
              "        vertical-align: top;\n",
              "    }\n",
              "\n",
              "    .dataframe thead th {\n",
              "        text-align: right;\n",
              "    }\n",
              "</style>\n",
              "<table border=\"1\" class=\"dataframe\">\n",
              "  <thead>\n",
              "    <tr style=\"text-align: right;\">\n",
              "      <th></th>\n",
              "      <th>cnpj</th>\n",
              "      <th>nome_fantasia</th>\n",
              "      <th>sit_cadastral</th>\n",
              "      <th>sit_atividade</th>\n",
              "      <th>tipo_estabecimento</th>\n",
              "      <th>nat_juridica</th>\n",
              "      <th>porte</th>\n",
              "      <th>uf</th>\n",
              "      <th>minicipio</th>\n",
              "      <th>data_abertura</th>\n",
              "      <th>cnaes</th>\n",
              "      <th>end_comercial</th>\n",
              "      <th>val_certificado</th>\n",
              "      <th>tipo</th>\n",
              "      <th>especialidade</th>\n",
              "      <th>idiomas</th>\n",
              "      <th>idade</th>\n",
              "    </tr>\n",
              "  </thead>\n",
              "  <tbody>\n",
              "    <tr>\n",
              "      <th>7523</th>\n",
              "      <td>25.011.151/0001-76</td>\n",
              "      <td>A BAIANINHA CAFE BISTRO</td>\n",
              "      <td>Regular</td>\n",
              "      <td>Operação</td>\n",
              "      <td>Matriz</td>\n",
              "      <td>Empresário Individual</td>\n",
              "      <td>MICROEMPRESA</td>\n",
              "      <td>BA</td>\n",
              "      <td>Lauro de Freitas</td>\n",
              "      <td>2016-06-15</td>\n",
              "      <td>5611203|4789001</td>\n",
              "      <td>Praia de Itapoan Quadra 15  Lote 37 Lauro de F...</td>\n",
              "      <td>2022-08-10</td>\n",
              "      <td>Cafeteria</td>\n",
              "      <td>Brasileira</td>\n",
              "      <td>Inglês|Espanhol</td>\n",
              "      <td>6</td>\n",
              "    </tr>\n",
              "    <tr>\n",
              "      <th>12708</th>\n",
              "      <td>24.839.280/0001-94</td>\n",
              "      <td>AUE VESTUARIO</td>\n",
              "      <td>Regular</td>\n",
              "      <td>Operação</td>\n",
              "      <td>Matriz</td>\n",
              "      <td>Empresário (Individual)</td>\n",
              "      <td>MICROEMPRESA</td>\n",
              "      <td>BA</td>\n",
              "      <td>Porto Seguro</td>\n",
              "      <td>2016-05-19</td>\n",
              "      <td>4789001|5510801|5510802|5611201|7990200|823000...</td>\n",
              "      <td>av navegantes 56 Caraiva</td>\n",
              "      <td>2023-03-05</td>\n",
              "      <td>Cafeteria</td>\n",
              "      <td>Brasileira</td>\n",
              "      <td>-</td>\n",
              "      <td>6</td>\n",
              "    </tr>\n",
              "  </tbody>\n",
              "</table>\n",
              "</div>\n",
              "      <button class=\"colab-df-convert\" onclick=\"convertToInteractive('df-9483fb83-e22d-4116-89e4-21b4f6223eea')\"\n",
              "              title=\"Convert this dataframe to an interactive table.\"\n",
              "              style=\"display:none;\">\n",
              "        \n",
              "  <svg xmlns=\"http://www.w3.org/2000/svg\" height=\"24px\"viewBox=\"0 0 24 24\"\n",
              "       width=\"24px\">\n",
              "    <path d=\"M0 0h24v24H0V0z\" fill=\"none\"/>\n",
              "    <path d=\"M18.56 5.44l.94 2.06.94-2.06 2.06-.94-2.06-.94-.94-2.06-.94 2.06-2.06.94zm-11 1L8.5 8.5l.94-2.06 2.06-.94-2.06-.94L8.5 2.5l-.94 2.06-2.06.94zm10 10l.94 2.06.94-2.06 2.06-.94-2.06-.94-.94-2.06-.94 2.06-2.06.94z\"/><path d=\"M17.41 7.96l-1.37-1.37c-.4-.4-.92-.59-1.43-.59-.52 0-1.04.2-1.43.59L10.3 9.45l-7.72 7.72c-.78.78-.78 2.05 0 2.83L4 21.41c.39.39.9.59 1.41.59.51 0 1.02-.2 1.41-.59l7.78-7.78 2.81-2.81c.8-.78.8-2.07 0-2.86zM5.41 20L4 18.59l7.72-7.72 1.47 1.35L5.41 20z\"/>\n",
              "  </svg>\n",
              "      </button>\n",
              "      \n",
              "  <style>\n",
              "    .colab-df-container {\n",
              "      display:flex;\n",
              "      flex-wrap:wrap;\n",
              "      gap: 12px;\n",
              "    }\n",
              "\n",
              "    .colab-df-convert {\n",
              "      background-color: #E8F0FE;\n",
              "      border: none;\n",
              "      border-radius: 50%;\n",
              "      cursor: pointer;\n",
              "      display: none;\n",
              "      fill: #1967D2;\n",
              "      height: 32px;\n",
              "      padding: 0 0 0 0;\n",
              "      width: 32px;\n",
              "    }\n",
              "\n",
              "    .colab-df-convert:hover {\n",
              "      background-color: #E2EBFA;\n",
              "      box-shadow: 0px 1px 2px rgba(60, 64, 67, 0.3), 0px 1px 3px 1px rgba(60, 64, 67, 0.15);\n",
              "      fill: #174EA6;\n",
              "    }\n",
              "\n",
              "    [theme=dark] .colab-df-convert {\n",
              "      background-color: #3B4455;\n",
              "      fill: #D2E3FC;\n",
              "    }\n",
              "\n",
              "    [theme=dark] .colab-df-convert:hover {\n",
              "      background-color: #434B5C;\n",
              "      box-shadow: 0px 1px 3px 1px rgba(0, 0, 0, 0.15);\n",
              "      filter: drop-shadow(0px 1px 2px rgba(0, 0, 0, 0.3));\n",
              "      fill: #FFFFFF;\n",
              "    }\n",
              "  </style>\n",
              "\n",
              "      <script>\n",
              "        const buttonEl =\n",
              "          document.querySelector('#df-9483fb83-e22d-4116-89e4-21b4f6223eea button.colab-df-convert');\n",
              "        buttonEl.style.display =\n",
              "          google.colab.kernel.accessAllowed ? 'block' : 'none';\n",
              "\n",
              "        async function convertToInteractive(key) {\n",
              "          const element = document.querySelector('#df-9483fb83-e22d-4116-89e4-21b4f6223eea');\n",
              "          const dataTable =\n",
              "            await google.colab.kernel.invokeFunction('convertToInteractive',\n",
              "                                                     [key], {});\n",
              "          if (!dataTable) return;\n",
              "\n",
              "          const docLinkHtml = 'Like what you see? Visit the ' +\n",
              "            '<a target=\"_blank\" href=https://colab.research.google.com/notebooks/data_table.ipynb>data table notebook</a>'\n",
              "            + ' to learn more about interactive tables.';\n",
              "          element.innerHTML = '';\n",
              "          dataTable['output_type'] = 'display_data';\n",
              "          await google.colab.output.renderOutput(dataTable, element);\n",
              "          const docLink = document.createElement('div');\n",
              "          docLink.innerHTML = docLinkHtml;\n",
              "          element.appendChild(docLink);\n",
              "        }\n",
              "      </script>\n",
              "    </div>\n",
              "  </div>\n",
              "  "
            ]
          },
          "metadata": {},
          "execution_count": 121
        }
      ]
    },
    {
      "cell_type": "code",
      "source": [],
      "metadata": {
        "id": "kS562JYll71D"
      },
      "execution_count": null,
      "outputs": []
    },
    {
      "cell_type": "markdown",
      "source": [
        "##ABIC"
      ],
      "metadata": {
        "id": "AVlp7f4AxcTZ"
      }
    },
    {
      "cell_type": "code",
      "source": [
        "df_produtores = pd.read_csv('gs://comercio-cafe/TRATADOS/ABIC/10_maiores_produtores.csv', sep=',', encoding='UTF-8')"
      ],
      "metadata": {
        "id": "M2JJ51twu8MZ"
      },
      "execution_count": null,
      "outputs": []
    },
    {
      "cell_type": "code",
      "source": [
        "df_produtores"
      ],
      "metadata": {
        "colab": {
          "base_uri": "https://localhost:8080/",
          "height": 424
        },
        "id": "mMcJFOw7yL0-",
        "outputId": "f7d6e231-b8f9-4b78-8ff5-5b86cdf8308f"
      },
      "execution_count": null,
      "outputs": [
        {
          "output_type": "execute_result",
          "data": {
            "text/plain": [
              "     classificacao  uf                                    empresa   ano\n",
              "0                1  SP             SARA LEE CAFES DO BRASIL LTDA.  2009\n",
              "1                2  CE  SANTA CLARA IND. E COM. DE ALIMENTOS S/A.  2009\n",
              "2                3  SP        MELITTA DO BRASIL IND. E COM. LTDA.  2009\n",
              "3                4  SE               INDS. ALIMENTS. MARATA LTDA.  2009\n",
              "4                5  SP               CIA. CACIQUE DE CAFE SOLUVEL  2009\n",
              "..             ...  ..                                        ...   ...\n",
              "105              6  PB  SAO BRAZ S_A IND. E COM. DE ALIMENTOS S.A  2022\n",
              "106              7  MG                       CAMIL ALIMENTOS S.A.  2022\n",
              "107              8  SP       MASSIMO ZANETTI BEVERAGE BRASIL LTDA  2022\n",
              "108              9  GO            CAFE RANCHEIRO AGRO INDL. LTDA.  2022\n",
              "109             10  MG                     FOODS IND. E COM. LTDA  2022\n",
              "\n",
              "[110 rows x 4 columns]"
            ],
            "text/html": [
              "\n",
              "  <div id=\"df-ae4fa0ef-41ee-4dd0-a02f-7cd849b679c1\">\n",
              "    <div class=\"colab-df-container\">\n",
              "      <div>\n",
              "<style scoped>\n",
              "    .dataframe tbody tr th:only-of-type {\n",
              "        vertical-align: middle;\n",
              "    }\n",
              "\n",
              "    .dataframe tbody tr th {\n",
              "        vertical-align: top;\n",
              "    }\n",
              "\n",
              "    .dataframe thead th {\n",
              "        text-align: right;\n",
              "    }\n",
              "</style>\n",
              "<table border=\"1\" class=\"dataframe\">\n",
              "  <thead>\n",
              "    <tr style=\"text-align: right;\">\n",
              "      <th></th>\n",
              "      <th>classificacao</th>\n",
              "      <th>uf</th>\n",
              "      <th>empresa</th>\n",
              "      <th>ano</th>\n",
              "    </tr>\n",
              "  </thead>\n",
              "  <tbody>\n",
              "    <tr>\n",
              "      <th>0</th>\n",
              "      <td>1</td>\n",
              "      <td>SP</td>\n",
              "      <td>SARA LEE CAFES DO BRASIL LTDA.</td>\n",
              "      <td>2009</td>\n",
              "    </tr>\n",
              "    <tr>\n",
              "      <th>1</th>\n",
              "      <td>2</td>\n",
              "      <td>CE</td>\n",
              "      <td>SANTA CLARA IND. E COM. DE ALIMENTOS S/A.</td>\n",
              "      <td>2009</td>\n",
              "    </tr>\n",
              "    <tr>\n",
              "      <th>2</th>\n",
              "      <td>3</td>\n",
              "      <td>SP</td>\n",
              "      <td>MELITTA DO BRASIL IND. E COM. LTDA.</td>\n",
              "      <td>2009</td>\n",
              "    </tr>\n",
              "    <tr>\n",
              "      <th>3</th>\n",
              "      <td>4</td>\n",
              "      <td>SE</td>\n",
              "      <td>INDS. ALIMENTS. MARATA LTDA.</td>\n",
              "      <td>2009</td>\n",
              "    </tr>\n",
              "    <tr>\n",
              "      <th>4</th>\n",
              "      <td>5</td>\n",
              "      <td>SP</td>\n",
              "      <td>CIA. CACIQUE DE CAFE SOLUVEL</td>\n",
              "      <td>2009</td>\n",
              "    </tr>\n",
              "    <tr>\n",
              "      <th>...</th>\n",
              "      <td>...</td>\n",
              "      <td>...</td>\n",
              "      <td>...</td>\n",
              "      <td>...</td>\n",
              "    </tr>\n",
              "    <tr>\n",
              "      <th>105</th>\n",
              "      <td>6</td>\n",
              "      <td>PB</td>\n",
              "      <td>SAO BRAZ S_A IND. E COM. DE ALIMENTOS S.A</td>\n",
              "      <td>2022</td>\n",
              "    </tr>\n",
              "    <tr>\n",
              "      <th>106</th>\n",
              "      <td>7</td>\n",
              "      <td>MG</td>\n",
              "      <td>CAMIL ALIMENTOS S.A.</td>\n",
              "      <td>2022</td>\n",
              "    </tr>\n",
              "    <tr>\n",
              "      <th>107</th>\n",
              "      <td>8</td>\n",
              "      <td>SP</td>\n",
              "      <td>MASSIMO ZANETTI BEVERAGE BRASIL LTDA</td>\n",
              "      <td>2022</td>\n",
              "    </tr>\n",
              "    <tr>\n",
              "      <th>108</th>\n",
              "      <td>9</td>\n",
              "      <td>GO</td>\n",
              "      <td>CAFE RANCHEIRO AGRO INDL. LTDA.</td>\n",
              "      <td>2022</td>\n",
              "    </tr>\n",
              "    <tr>\n",
              "      <th>109</th>\n",
              "      <td>10</td>\n",
              "      <td>MG</td>\n",
              "      <td>FOODS IND. E COM. LTDA</td>\n",
              "      <td>2022</td>\n",
              "    </tr>\n",
              "  </tbody>\n",
              "</table>\n",
              "<p>110 rows × 4 columns</p>\n",
              "</div>\n",
              "      <button class=\"colab-df-convert\" onclick=\"convertToInteractive('df-ae4fa0ef-41ee-4dd0-a02f-7cd849b679c1')\"\n",
              "              title=\"Convert this dataframe to an interactive table.\"\n",
              "              style=\"display:none;\">\n",
              "        \n",
              "  <svg xmlns=\"http://www.w3.org/2000/svg\" height=\"24px\"viewBox=\"0 0 24 24\"\n",
              "       width=\"24px\">\n",
              "    <path d=\"M0 0h24v24H0V0z\" fill=\"none\"/>\n",
              "    <path d=\"M18.56 5.44l.94 2.06.94-2.06 2.06-.94-2.06-.94-.94-2.06-.94 2.06-2.06.94zm-11 1L8.5 8.5l.94-2.06 2.06-.94-2.06-.94L8.5 2.5l-.94 2.06-2.06.94zm10 10l.94 2.06.94-2.06 2.06-.94-2.06-.94-.94-2.06-.94 2.06-2.06.94z\"/><path d=\"M17.41 7.96l-1.37-1.37c-.4-.4-.92-.59-1.43-.59-.52 0-1.04.2-1.43.59L10.3 9.45l-7.72 7.72c-.78.78-.78 2.05 0 2.83L4 21.41c.39.39.9.59 1.41.59.51 0 1.02-.2 1.41-.59l7.78-7.78 2.81-2.81c.8-.78.8-2.07 0-2.86zM5.41 20L4 18.59l7.72-7.72 1.47 1.35L5.41 20z\"/>\n",
              "  </svg>\n",
              "      </button>\n",
              "      \n",
              "  <style>\n",
              "    .colab-df-container {\n",
              "      display:flex;\n",
              "      flex-wrap:wrap;\n",
              "      gap: 12px;\n",
              "    }\n",
              "\n",
              "    .colab-df-convert {\n",
              "      background-color: #E8F0FE;\n",
              "      border: none;\n",
              "      border-radius: 50%;\n",
              "      cursor: pointer;\n",
              "      display: none;\n",
              "      fill: #1967D2;\n",
              "      height: 32px;\n",
              "      padding: 0 0 0 0;\n",
              "      width: 32px;\n",
              "    }\n",
              "\n",
              "    .colab-df-convert:hover {\n",
              "      background-color: #E2EBFA;\n",
              "      box-shadow: 0px 1px 2px rgba(60, 64, 67, 0.3), 0px 1px 3px 1px rgba(60, 64, 67, 0.15);\n",
              "      fill: #174EA6;\n",
              "    }\n",
              "\n",
              "    [theme=dark] .colab-df-convert {\n",
              "      background-color: #3B4455;\n",
              "      fill: #D2E3FC;\n",
              "    }\n",
              "\n",
              "    [theme=dark] .colab-df-convert:hover {\n",
              "      background-color: #434B5C;\n",
              "      box-shadow: 0px 1px 3px 1px rgba(0, 0, 0, 0.15);\n",
              "      filter: drop-shadow(0px 1px 2px rgba(0, 0, 0, 0.3));\n",
              "      fill: #FFFFFF;\n",
              "    }\n",
              "  </style>\n",
              "\n",
              "      <script>\n",
              "        const buttonEl =\n",
              "          document.querySelector('#df-ae4fa0ef-41ee-4dd0-a02f-7cd849b679c1 button.colab-df-convert');\n",
              "        buttonEl.style.display =\n",
              "          google.colab.kernel.accessAllowed ? 'block' : 'none';\n",
              "\n",
              "        async function convertToInteractive(key) {\n",
              "          const element = document.querySelector('#df-ae4fa0ef-41ee-4dd0-a02f-7cd849b679c1');\n",
              "          const dataTable =\n",
              "            await google.colab.kernel.invokeFunction('convertToInteractive',\n",
              "                                                     [key], {});\n",
              "          if (!dataTable) return;\n",
              "\n",
              "          const docLinkHtml = 'Like what you see? Visit the ' +\n",
              "            '<a target=\"_blank\" href=https://colab.research.google.com/notebooks/data_table.ipynb>data table notebook</a>'\n",
              "            + ' to learn more about interactive tables.';\n",
              "          element.innerHTML = '';\n",
              "          dataTable['output_type'] = 'display_data';\n",
              "          await google.colab.output.renderOutput(dataTable, element);\n",
              "          const docLink = document.createElement('div');\n",
              "          docLink.innerHTML = docLinkHtml;\n",
              "          element.appendChild(docLink);\n",
              "        }\n",
              "      </script>\n",
              "    </div>\n",
              "  </div>\n",
              "  "
            ]
          },
          "metadata": {},
          "execution_count": 71
        }
      ]
    },
    {
      "cell_type": "code",
      "source": [
        "# Selecionando apenas os dados da empresa\n",
        "empresa_a = df_produtores[df_produtores['empresa'] == 'MELITTA DO BRASIL IND. E COM. LTDA.']\n",
        "\n",
        "# Configurando o plot\n",
        "fig, ax = plt.subplots(figsize=(10, 6))\n",
        "ax.set_xlim(2010, 2022)\n",
        "ax.set_xlabel('Ano')\n",
        "ax.set_ylabel('Classificação')\n",
        "ax.invert_yaxis()\n",
        "\n",
        "# Plotando\n",
        "ax.plot(empresa_a['ano'], empresa_a['classificacao']+ 0, 10)\n",
        "\n",
        "# Mostrando o plot\n",
        "plt.show()"
      ],
      "metadata": {
        "colab": {
          "base_uri": "https://localhost:8080/",
          "height": 542
        },
        "id": "Q4W3OAjwzvTQ",
        "outputId": "131ac612-818c-427e-f5e1-1247b2269290"
      },
      "execution_count": null,
      "outputs": [
        {
          "output_type": "display_data",
          "data": {
            "text/plain": [
              "<Figure size 1000x600 with 1 Axes>"
            ],
            "image/png": "[encoded data removed]"
          },
          "metadata": {}
        }
      ]
    },
    {
      "cell_type": "code",
      "source": [
        "# Filtrar os dados com classificação igual a 1\n",
        "ft_class_1 = df_produtores[df_produtores['classificacao'] == 1]\n",
        "\n",
        "contagem = ft_class_1['empresa'].value_counts()\n",
        "\n",
        "print(\"O produtor que mais esteve na classificação 1 é:\", contagem.idxmax())"
      ],
      "metadata": {
        "colab": {
          "base_uri": "https://localhost:8080/"
        },
        "id": "NVjDjQ2k4glP",
        "outputId": "b5fd44a9-a0f2-443c-9add-ac1c565abcd4"
      },
      "execution_count": null,
      "outputs": [
        {
          "output_type": "stream",
          "name": "stdout",
          "text": [
            "O produtor que mais esteve na classificação 1 é: GRUPO TRES CORACOES\n"
          ]
        }
      ]
    },
    {
      "cell_type": "code",
      "source": [],
      "metadata": {
        "id": "ccq2HazKkjNM"
      },
      "execution_count": null,
      "outputs": []
    },
    {
      "cell_type": "code",
      "source": [
        "df = pd.read_csv('gs://comercio-cafe/TRATADOS/ABIC/consumo_interno.csv', sep=',', encoding='UTF-8')"
      ],
      "metadata": {
        "id": "li0brxZKFyId"
      },
      "execution_count": null,
      "outputs": []
    },
    {
      "cell_type": "code",
      "source": [
        "df"
      ],
      "metadata": {
        "colab": {
          "base_uri": "https://localhost:8080/",
          "height": 423
        },
        "id": "zdm12Pr6F8GO",
        "outputId": "2ea58c7c-6e46-4a58-c58c-d34fb7f0eb6e"
      },
      "execution_count": null,
      "outputs": [
        {
          "output_type": "execute_result",
          "data": {
            "text/plain": [
              "                                   categoria  ano_anterior   ano_atual  \\\n",
              "0                        Empresas associadas    10580000.0  11140000.0   \n",
              "1                    Empresas não-associadas     3589000.0   3589000.0   \n",
              "2              Total de empresas cadastradas    14170000.0  14720000.0   \n",
              "3                     Consumo não cadastrado     1953000.0   1953000.0   \n",
              "4        Total geral de café torrado e moído    16130000.0  16680000.0   \n",
              "..                                       ...           ...         ...   \n",
              "41              Empresas de café solúvel (1)     1079930.0   1079930.0   \n",
              "42         Total nacional de consumo de café    20085640.0  20333790.0   \n",
              "43      Consumo per-capita: café em grão cru         608.0       611.0   \n",
              "44  Consumo per-capita: café torrado e moído         487.0       489.0   \n",
              "45                                       NaN           NaN         NaN   \n",
              "\n",
              "   crescimento   ano  \n",
              "0         5.22  2008  \n",
              "1          NaN  2008  \n",
              "2         3.88  2008  \n",
              "3          NaN  2008  \n",
              "4         3.41  2008  \n",
              "..         ...   ...  \n",
              "41         NaN  2014  \n",
              "42      -1,231  2014  \n",
              "43         NaN  2014  \n",
              "44         NaN  2014  \n",
              "45         NaN  2014  \n",
              "\n",
              "[46 rows x 5 columns]"
            ],
            "text/html": [
              "\n",
              "  <div id=\"df-f9a6a8e9-5d96-48cf-a0d0-62010553088d\">\n",
              "    <div class=\"colab-df-container\">\n",
              "      <div>\n",
              "<style scoped>\n",
              "    .dataframe tbody tr th:only-of-type {\n",
              "        vertical-align: middle;\n",
              "    }\n",
              "\n",
              "    .dataframe tbody tr th {\n",
              "        vertical-align: top;\n",
              "    }\n",
              "\n",
              "    .dataframe thead th {\n",
              "        text-align: right;\n",
              "    }\n",
              "</style>\n",
              "<table border=\"1\" class=\"dataframe\">\n",
              "  <thead>\n",
              "    <tr style=\"text-align: right;\">\n",
              "      <th></th>\n",
              "      <th>categoria</th>\n",
              "      <th>ano_anterior</th>\n",
              "      <th>ano_atual</th>\n",
              "      <th>crescimento</th>\n",
              "      <th>ano</th>\n",
              "    </tr>\n",
              "  </thead>\n",
              "  <tbody>\n",
              "    <tr>\n",
              "      <th>0</th>\n",
              "      <td>Empresas associadas</td>\n",
              "      <td>10580000.0</td>\n",
              "      <td>11140000.0</td>\n",
              "      <td>5.22</td>\n",
              "      <td>2008</td>\n",
              "    </tr>\n",
              "    <tr>\n",
              "      <th>1</th>\n",
              "      <td>Empresas não-associadas</td>\n",
              "      <td>3589000.0</td>\n",
              "      <td>3589000.0</td>\n",
              "      <td>NaN</td>\n",
              "      <td>2008</td>\n",
              "    </tr>\n",
              "    <tr>\n",
              "      <th>2</th>\n",
              "      <td>Total de empresas cadastradas</td>\n",
              "      <td>14170000.0</td>\n",
              "      <td>14720000.0</td>\n",
              "      <td>3.88</td>\n",
              "      <td>2008</td>\n",
              "    </tr>\n",
              "    <tr>\n",
              "      <th>3</th>\n",
              "      <td>Consumo não cadastrado</td>\n",
              "      <td>1953000.0</td>\n",
              "      <td>1953000.0</td>\n",
              "      <td>NaN</td>\n",
              "      <td>2008</td>\n",
              "    </tr>\n",
              "    <tr>\n",
              "      <th>4</th>\n",
              "      <td>Total geral de café torrado e moído</td>\n",
              "      <td>16130000.0</td>\n",
              "      <td>16680000.0</td>\n",
              "      <td>3.41</td>\n",
              "      <td>2008</td>\n",
              "    </tr>\n",
              "    <tr>\n",
              "      <th>...</th>\n",
              "      <td>...</td>\n",
              "      <td>...</td>\n",
              "      <td>...</td>\n",
              "      <td>...</td>\n",
              "      <td>...</td>\n",
              "    </tr>\n",
              "    <tr>\n",
              "      <th>41</th>\n",
              "      <td>Empresas de café solúvel (1)</td>\n",
              "      <td>1079930.0</td>\n",
              "      <td>1079930.0</td>\n",
              "      <td>NaN</td>\n",
              "      <td>2014</td>\n",
              "    </tr>\n",
              "    <tr>\n",
              "      <th>42</th>\n",
              "      <td>Total nacional de consumo de café</td>\n",
              "      <td>20085640.0</td>\n",
              "      <td>20333790.0</td>\n",
              "      <td>-1,231</td>\n",
              "      <td>2014</td>\n",
              "    </tr>\n",
              "    <tr>\n",
              "      <th>43</th>\n",
              "      <td>Consumo per-capita: café em grão cru</td>\n",
              "      <td>608.0</td>\n",
              "      <td>611.0</td>\n",
              "      <td>NaN</td>\n",
              "      <td>2014</td>\n",
              "    </tr>\n",
              "    <tr>\n",
              "      <th>44</th>\n",
              "      <td>Consumo per-capita: café torrado e moído</td>\n",
              "      <td>487.0</td>\n",
              "      <td>489.0</td>\n",
              "      <td>NaN</td>\n",
              "      <td>2014</td>\n",
              "    </tr>\n",
              "    <tr>\n",
              "      <th>45</th>\n",
              "      <td>NaN</td>\n",
              "      <td>NaN</td>\n",
              "      <td>NaN</td>\n",
              "      <td>NaN</td>\n",
              "      <td>2014</td>\n",
              "    </tr>\n",
              "  </tbody>\n",
              "</table>\n",
              "<p>46 rows × 5 columns</p>\n",
              "</div>\n",
              "      <button class=\"colab-df-convert\" onclick=\"convertToInteractive('df-f9a6a8e9-5d96-48cf-a0d0-62010553088d')\"\n",
              "              title=\"Convert this dataframe to an interactive table.\"\n",
              "              style=\"display:none;\">\n",
              "        \n",
              "  <svg xmlns=\"http://www.w3.org/2000/svg\" height=\"24px\"viewBox=\"0 0 24 24\"\n",
              "       width=\"24px\">\n",
              "    <path d=\"M0 0h24v24H0V0z\" fill=\"none\"/>\n",
              "    <path d=\"M18.56 5.44l.94 2.06.94-2.06 2.06-.94-2.06-.94-.94-2.06-.94 2.06-2.06.94zm-11 1L8.5 8.5l.94-2.06 2.06-.94-2.06-.94L8.5 2.5l-.94 2.06-2.06.94zm10 10l.94 2.06.94-2.06 2.06-.94-2.06-.94-.94-2.06-.94 2.06-2.06.94z\"/><path d=\"M17.41 7.96l-1.37-1.37c-.4-.4-.92-.59-1.43-.59-.52 0-1.04.2-1.43.59L10.3 9.45l-7.72 7.72c-.78.78-.78 2.05 0 2.83L4 21.41c.39.39.9.59 1.41.59.51 0 1.02-.2 1.41-.59l7.78-7.78 2.81-2.81c.8-.78.8-2.07 0-2.86zM5.41 20L4 18.59l7.72-7.72 1.47 1.35L5.41 20z\"/>\n",
              "  </svg>\n",
              "      </button>\n",
              "      \n",
              "  <style>\n",
              "    .colab-df-container {\n",
              "      display:flex;\n",
              "      flex-wrap:wrap;\n",
              "      gap: 12px;\n",
              "    }\n",
              "\n",
              "    .colab-df-convert {\n",
              "      background-color: #E8F0FE;\n",
              "      border: none;\n",
              "      border-radius: 50%;\n",
              "      cursor: pointer;\n",
              "      display: none;\n",
              "      fill: #1967D2;\n",
              "      height: 32px;\n",
              "      padding: 0 0 0 0;\n",
              "      width: 32px;\n",
              "    }\n",
              "\n",
              "    .colab-df-convert:hover {\n",
              "      background-color: #E2EBFA;\n",
              "      box-shadow: 0px 1px 2px rgba(60, 64, 67, 0.3), 0px 1px 3px 1px rgba(60, 64, 67, 0.15);\n",
              "      fill: #174EA6;\n",
              "    }\n",
              "\n",
              "    [theme=dark] .colab-df-convert {\n",
              "      background-color: #3B4455;\n",
              "      fill: #D2E3FC;\n",
              "    }\n",
              "\n",
              "    [theme=dark] .colab-df-convert:hover {\n",
              "      background-color: #434B5C;\n",
              "      box-shadow: 0px 1px 3px 1px rgba(0, 0, 0, 0.15);\n",
              "      filter: drop-shadow(0px 1px 2px rgba(0, 0, 0, 0.3));\n",
              "      fill: #FFFFFF;\n",
              "    }\n",
              "  </style>\n",
              "\n",
              "      <script>\n",
              "        const buttonEl =\n",
              "          document.querySelector('#df-f9a6a8e9-5d96-48cf-a0d0-62010553088d button.colab-df-convert');\n",
              "        buttonEl.style.display =\n",
              "          google.colab.kernel.accessAllowed ? 'block' : 'none';\n",
              "\n",
              "        async function convertToInteractive(key) {\n",
              "          const element = document.querySelector('#df-f9a6a8e9-5d96-48cf-a0d0-62010553088d');\n",
              "          const dataTable =\n",
              "            await google.colab.kernel.invokeFunction('convertToInteractive',\n",
              "                                                     [key], {});\n",
              "          if (!dataTable) return;\n",
              "\n",
              "          const docLinkHtml = 'Like what you see? Visit the ' +\n",
              "            '<a target=\"_blank\" href=https://colab.research.google.com/notebooks/data_table.ipynb>data table notebook</a>'\n",
              "            + ' to learn more about interactive tables.';\n",
              "          element.innerHTML = '';\n",
              "          dataTable['output_type'] = 'display_data';\n",
              "          await google.colab.output.renderOutput(dataTable, element);\n",
              "          const docLink = document.createElement('div');\n",
              "          docLink.innerHTML = docLinkHtml;\n",
              "          element.appendChild(docLink);\n",
              "        }\n",
              "      </script>\n",
              "    </div>\n",
              "  </div>\n",
              "  "
            ]
          },
          "metadata": {},
          "execution_count": 9
        }
      ]
    },
    {
      "cell_type": "code",
      "source": [],
      "metadata": {
        "id": "emkkyd-DG8dn"
      },
      "execution_count": null,
      "outputs": []
    }
  ]
}